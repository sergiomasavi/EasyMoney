{
 "cells": [
  {
   "cell_type": "markdown",
   "id": "cfca9124",
   "metadata": {
    "toc": true
   },
   "source": [
    "<h1>Table of Contents<span class=\"tocSkip\"></span></h1>\n",
    "<div class=\"toc\"><ul class=\"toc-item\"><li><span><a href=\"#Introducción\" data-toc-modified-id=\"Introducción-1\"><span class=\"toc-item-num\">1&nbsp;&nbsp;</span>Introducción</a></span></li><li><span><a href=\"#Setup\" data-toc-modified-id=\"Setup-2\"><span class=\"toc-item-num\">2&nbsp;&nbsp;</span>Setup</a></span><ul class=\"toc-item\"><li><span><a href=\"#Librerías\" data-toc-modified-id=\"Librerías-2.1\"><span class=\"toc-item-num\">2.1&nbsp;&nbsp;</span>Librerías</a></span></li><li><span><a href=\"#Datos\" data-toc-modified-id=\"Datos-2.2\"><span class=\"toc-item-num\">2.2&nbsp;&nbsp;</span>Datos</a></span></li></ul></li><li><span><a href=\"#Productos\" data-toc-modified-id=\"Productos-3\"><span class=\"toc-item-num\">3&nbsp;&nbsp;</span>Productos</a></span><ul class=\"toc-item\"><li><span><a href=\"#Limpieza-del-dataset\" data-toc-modified-id=\"Limpieza-del-dataset-3.1\"><span class=\"toc-item-num\">3.1&nbsp;&nbsp;</span>Limpieza del dataset</a></span><ul class=\"toc-item\"><li><span><a href=\"#Tratamientos-de-valores-nulos\" data-toc-modified-id=\"Tratamientos-de-valores-nulos-3.1.1\"><span class=\"toc-item-num\">3.1.1&nbsp;&nbsp;</span>Tratamientos de valores nulos</a></span></li></ul></li><li><span><a href=\"#Análisis\" data-toc-modified-id=\"Análisis-3.2\"><span class=\"toc-item-num\">3.2&nbsp;&nbsp;</span>Análisis</a></span><ul class=\"toc-item\"><li><span><a href=\"#Introducción\" data-toc-modified-id=\"Introducción-3.2.1\"><span class=\"toc-item-num\">3.2.1&nbsp;&nbsp;</span>Introducción</a></span></li><li><span><a href=\"#Registro-de-clientes-por-fecha-de-ingesta\" data-toc-modified-id=\"Registro-de-clientes-por-fecha-de-ingesta-3.2.2\"><span class=\"toc-item-num\">3.2.2&nbsp;&nbsp;</span>Registro de clientes por fecha de ingesta</a></span></li><li><span><a href=\"#Nivel-de-permanencia-de-los-clientes\" data-toc-modified-id=\"Nivel-de-permanencia-de-los-clientes-3.2.3\"><span class=\"toc-item-num\">3.2.3&nbsp;&nbsp;</span>Nivel de permanencia de los clientes</a></span></li><li><span><a href=\"#Calcular-promedio-de-permanencia-por-número-de-meses\" data-toc-modified-id=\"Calcular-promedio-de-permanencia-por-número-de-meses-3.2.4\"><span class=\"toc-item-num\">3.2.4&nbsp;&nbsp;</span>Calcular promedio de permanencia por número de meses</a></span></li><li><span><a href=\"#Número-de-clientes-(activos-y-no-activos)-por-fecha\" data-toc-modified-id=\"Número-de-clientes-(activos-y-no-activos)-por-fecha-3.2.5\"><span class=\"toc-item-num\">3.2.5&nbsp;&nbsp;</span>Número de clientes (activos y no activos) por fecha</a></span></li><li><span><a href=\"#Número-de-clientes-activos,-no-activos-y-totales-por-producto-y-fecha\" data-toc-modified-id=\"Número-de-clientes-activos,-no-activos-y-totales-por-producto-y-fecha-3.2.6\"><span class=\"toc-item-num\">3.2.6&nbsp;&nbsp;</span>Número de clientes activos, no activos y totales por producto y fecha</a></span></li><li><span><a href=\"#Valoración-de-los-clientes\" data-toc-modified-id=\"Valoración-de-los-clientes-3.2.7\"><span class=\"toc-item-num\">3.2.7&nbsp;&nbsp;</span>Valoración de los clientes</a></span></li><li><span><a href=\"#Clientes-con-y-sin-productos-contratados\" data-toc-modified-id=\"Clientes-con-y-sin-productos-contratados-3.2.8\"><span class=\"toc-item-num\">3.2.8&nbsp;&nbsp;</span>Clientes con y sin productos contratados</a></span><ul class=\"toc-item\"><li><span><a href=\"#Productos-contratados\" data-toc-modified-id=\"Productos-contratados-3.2.8.1\"><span class=\"toc-item-num\">3.2.8.1&nbsp;&nbsp;</span>Productos contratados</a></span></li><li><span><a href=\"#Productos-no-contratados\" data-toc-modified-id=\"Productos-no-contratados-3.2.8.2\"><span class=\"toc-item-num\">3.2.8.2&nbsp;&nbsp;</span>Productos no contratados</a></span></li></ul></li><li><span><a href=\"#Productos-populares---Indice-de-contratación\" data-toc-modified-id=\"Productos-populares---Indice-de-contratación-3.2.9\"><span class=\"toc-item-num\">3.2.9&nbsp;&nbsp;</span>Productos populares - Indice de contratación</a></span></li></ul></li><li><span><a href=\"#Visualización\" data-toc-modified-id=\"Visualización-3.3\"><span class=\"toc-item-num\">3.3&nbsp;&nbsp;</span>Visualización</a></span><ul class=\"toc-item\"><li><span><a href=\"#Nivel-de-permanencia---Bar\" data-toc-modified-id=\"Nivel-de-permanencia---Bar-3.3.1\"><span class=\"toc-item-num\">3.3.1&nbsp;&nbsp;</span>Nivel de permanencia - Bar</a></span></li></ul></li></ul></li><li><span><a href=\"#Sociodemografía\" data-toc-modified-id=\"Sociodemografía-4\"><span class=\"toc-item-num\">4&nbsp;&nbsp;</span>Sociodemografía</a></span><ul class=\"toc-item\"><li><span><a href=\"#Limpieza-del-dataset\" data-toc-modified-id=\"Limpieza-del-dataset-4.1\"><span class=\"toc-item-num\">4.1&nbsp;&nbsp;</span>Limpieza del dataset</a></span></li><li><span><a href=\"#Análisis\" data-toc-modified-id=\"Análisis-4.2\"><span class=\"toc-item-num\">4.2&nbsp;&nbsp;</span>Análisis</a></span></li></ul></li><li><span><a href=\"#Actividad-comercial\" data-toc-modified-id=\"Actividad-comercial-5\"><span class=\"toc-item-num\">5&nbsp;&nbsp;</span>Actividad comercial</a></span><ul class=\"toc-item\"><li><span><a href=\"#Limpieza-del-dataset\" data-toc-modified-id=\"Limpieza-del-dataset-5.1\"><span class=\"toc-item-num\">5.1&nbsp;&nbsp;</span>Limpieza del dataset</a></span></li><li><span><a href=\"#Análisis\" data-toc-modified-id=\"Análisis-5.2\"><span class=\"toc-item-num\">5.2&nbsp;&nbsp;</span>Análisis</a></span></li></ul></li><li><span><a href=\"#Anexo\" data-toc-modified-id=\"Anexo-6\"><span class=\"toc-item-num\">6&nbsp;&nbsp;</span>Anexo</a></span><ul class=\"toc-item\"><li><span><a href=\"#Cuantiles\" data-toc-modified-id=\"Cuantiles-6.1\"><span class=\"toc-item-num\">6.1&nbsp;&nbsp;</span>Cuantiles</a></span></li></ul></li><li><span><a href=\"#Referencias\" data-toc-modified-id=\"Referencias-7\"><span class=\"toc-item-num\">7&nbsp;&nbsp;</span>Referencias</a></span></li></ul></div>"
   ]
  },
  {
   "cell_type": "markdown",
   "id": "7bca84e0",
   "metadata": {},
   "source": [
    "<center><span style=\"background-color: rgb(251, 160, 38); font-size: 32px;\">  <b>NUCLIO DIGITAL SCHOOL -</b> MASTER EN DATA SCIENCE  </span></center>\n",
    "    \n",
    "<br>\n",
    "    \n",
    "<center><a href = https://nuclio.school/wp-content/uploads/2019/10/nucleoDS-newBlack.png > <img src=\"https://nuclio.school/wp-content/uploads/2019/10/nucleoDS-newBlack.png\" width=400 height=100><a/></center>\n",
    "    \n",
    "<hr style=\"height:5px;border-width:0;color:orange;background-color:orange\">\n",
    "<center> <span style=\"font-size: 26px;\">  <b>Proyecto Final de Máster - EasyMoney </span> </center>\n",
    "\n",
    "+ Sesion: **Análisis de datos**\n",
    "+ Bloque: **Trabajo Fin de Máster**\n",
    "+ Curso: **Data Science Madrid 0521**\n",
    "+ Alumno 1: **Sergio Masa Avís**\n",
    "+ Alumno 2: **María Andreu**\n",
    "\n",
    "<br>\n",
    "\n",
    "<hr style=\"height:5px;border-width:0;color:orange;background-color:orange\">\n"
   ]
  },
  {
   "cell_type": "markdown",
   "id": "7fe9e175",
   "metadata": {},
   "source": [
    "## Introducción\n",
    "\n",
    "<img src=\"img/tarea_1_analisis.png\" width=\"600\" height=\"300\">\n"
   ]
  },
  {
   "cell_type": "markdown",
   "id": "7a7ebd94",
   "metadata": {},
   "source": [
    "<hr style=\"height:5px;border-width:0;color:orange;background-color:orange\">"
   ]
  },
  {
   "cell_type": "markdown",
   "id": "b1b9a243",
   "metadata": {},
   "source": [
    "## Setup"
   ]
  },
  {
   "cell_type": "markdown",
   "id": "108f9b95",
   "metadata": {},
   "source": [
    "### Librerías"
   ]
  },
  {
   "cell_type": "code",
   "execution_count": 2,
   "id": "eac2a153",
   "metadata": {
    "ExecuteTime": {
     "end_time": "2021-09-05T21:00:53.363309Z",
     "start_time": "2021-09-05T21:00:53.331322Z"
    }
   },
   "outputs": [
    {
     "name": "stdout",
     "output_type": "stream",
     "text": [
      "The autoreload extension is already loaded. To reload it, use:\n",
      "  %reload_ext autoreload\n"
     ]
    },
    {
     "data": {
      "text/html": [
       "        <script type=\"text/javascript\">\n",
       "        window.PlotlyConfig = {MathJaxConfig: 'local'};\n",
       "        if (window.MathJax) {MathJax.Hub.Config({SVG: {font: \"STIX-Web\"}});}\n",
       "        if (typeof require !== 'undefined') {\n",
       "        require.undef(\"plotly\");\n",
       "        requirejs.config({\n",
       "            paths: {\n",
       "                'plotly': ['https://cdn.plot.ly/plotly-2.2.0.min']\n",
       "            }\n",
       "        });\n",
       "        require(['plotly'], function(Plotly) {\n",
       "            window._Plotly = Plotly;\n",
       "        });\n",
       "        }\n",
       "        </script>\n",
       "        "
      ]
     },
     "metadata": {},
     "output_type": "display_data"
    }
   ],
   "source": [
    "# Librerías\n",
    "import pandas as pd\n",
    "import numpy as np\n",
    "import plotly \n",
    "import plotly.graph_objects as go\n",
    "from tqdm import tqdm\n",
    "\n",
    "# Paquetes\n",
    "from modules import analisis as anl\n",
    "from modules import visualization as vs\n",
    "\n",
    "# Configuración de librerías y paquetes\n",
    "tqdm.pandas()\n",
    "%matplotlib inline\n",
    "%load_ext autoreload\n",
    "%autoreload 2\n",
    "plotly.offline.init_notebook_mode(connected = True)\n",
    "pd.options.display.float_format = \"{:.3f}\".format\n"
   ]
  },
  {
   "cell_type": "markdown",
   "id": "f6523906",
   "metadata": {},
   "source": [
    "### Datos\n",
    "\n",
    "En el directorio data/ se encuentran tres fuentes de información almacenadas en formato csv:\n",
    "\n",
    "- products_df\n",
    "- sociodemographic_df\n",
    "- commercial_activity\n",
    "\n",
    "A continuación, se muestra la descripción proporcionada de los datos proporcionada por el Director de IT de EasyMoney\n",
    "\n",
    "<img src=\"img/data_description.png\" width=\"800\" height=\"400\">"
   ]
  },
  {
   "cell_type": "markdown",
   "id": "d83a36e6",
   "metadata": {},
   "source": [
    "<hr style=\"height:5px;border-width:0;color:orange;background-color:orange\">"
   ]
  },
  {
   "cell_type": "markdown",
   "id": "e4bd5375",
   "metadata": {},
   "source": [
    "## Productos\n",
    "\n",
    "__Descripción de variables del dataset.__\n",
    "\n",
    "A continuación, se analizará el fichero \"products_df.csv\"\n",
    "\n",
    "| Variable | Descripción |\n",
    "| --- | --- |\n",
    "| pk_cid | Identificador de cliente |\n",
    "| pk_partition | Fecha de ingesta de los datos |\n",
    "| credit_card | Tarjetas de crédito |\n",
    "| debit_card | Tarjetas de débito |\n",
    "| em_acount | Cuenta easyMoney |\n",
    "| em_account_p | Cuenta easyMoney+ |\n",
    "| em_account_pp | Cuenta easyMoney++ |\n",
    "| emc_account | Cuenta easyMoney Crypto |\n",
    "| funds | Fondos de inversión |\n",
    "| loans | Préstamos |\n",
    "| long_term_deposit | Depósitos a largo plazo |\n",
    "| securities | Valores |\n",
    "| short_term_deposit | Depósitos a corto plazo |\n",
    "| mortgage | Mortgage |\n",
    "| payroll | Domiciliaciones |\n",
    "| payroll_account | Cuenta bonificada por domiciliaciones |\n",
    "| pension_plan | Plan de pensiones |"
   ]
  },
  {
   "cell_type": "code",
   "execution_count": null,
   "id": "f00519b6",
   "metadata": {
    "ExecuteTime": {
     "end_time": "2021-09-05T11:37:51.683075Z",
     "start_time": "2021-09-05T11:37:46.292484Z"
    }
   },
   "outputs": [],
   "source": [
    "# Cargar datos\n",
    "prod = anl.get_products_df(filename_dir='data/products_df.csv')"
   ]
  },
  {
   "cell_type": "code",
   "execution_count": null,
   "id": "43299255",
   "metadata": {
    "ExecuteTime": {
     "end_time": "2021-09-05T11:37:51.876429Z",
     "start_time": "2021-09-05T11:37:51.684428Z"
    },
    "run_control": {
     "marked": true
    }
   },
   "outputs": [],
   "source": [
    "# Mostrar un conjunto aleatorio de 10 muestras del dataset\n",
    "prod.sample(10)"
   ]
  },
  {
   "cell_type": "code",
   "execution_count": null,
   "id": "9de54023",
   "metadata": {
    "ExecuteTime": {
     "end_time": "2021-09-05T14:48:16.549335Z",
     "start_time": "2021-09-05T14:48:15.816011Z"
    }
   },
   "outputs": [],
   "source": [
    "lista_productos = anl.listar_productos(df_prod = prod)\n",
    "pd.Series(lista_productos).to_csv('results/lista_productos.csv', sep=';', index=False, encoding='utf-8-sig')"
   ]
  },
  {
   "cell_type": "code",
   "execution_count": null,
   "id": "486d5098",
   "metadata": {
    "ExecuteTime": {
     "end_time": "2021-09-05T11:37:53.679690Z",
     "start_time": "2021-09-05T11:37:52.093138Z"
    }
   },
   "outputs": [],
   "source": [
    "anl.resume_products_df(df_prod = prod)"
   ]
  },
  {
   "cell_type": "markdown",
   "id": "412fe36a",
   "metadata": {},
   "source": [
    "<hr style=\"height:5px;border-width:0;color:orange;background-color:orange\">"
   ]
  },
  {
   "cell_type": "markdown",
   "id": "03dd9cf6",
   "metadata": {},
   "source": [
    "### Limpieza del dataset"
   ]
  },
  {
   "cell_type": "markdown",
   "id": "30ea81c8",
   "metadata": {},
   "source": [
    "#### Tratamientos de valores nulos\n",
    "\n",
    "Como se puede observar en el resumen anterior, el dataset proporcionado por EasyMoney\n",
    "de products tiene 61 valores nulos tanto para el producto \"payroll\" como para \"pension_plan\".\n",
    "\n",
    "Dado que se trata de un dataset de clientes, se entiende que los valores nulos indican que dicho cliente no tiene activado (\"dado de alta\") dicho producto en el momento temporal correspondiente. Dicho de otra forma:\n",
    "\n",
    "- Continúa siendo cliente dado que aparece en el registro.\n",
    "\n",
    "- No tiene activado el producto y se establece el valor nulo a 0."
   ]
  },
  {
   "cell_type": "code",
   "execution_count": null,
   "id": "30d76169",
   "metadata": {
    "ExecuteTime": {
     "end_time": "2021-09-05T11:37:53.707421Z",
     "start_time": "2021-09-05T11:37:53.680619Z"
    }
   },
   "outputs": [],
   "source": [
    "# Visualización valores nulos\n",
    "prod.loc[(prod['payroll'].isna()) | (prod['pension_plan'].isna())]"
   ]
  },
  {
   "cell_type": "code",
   "execution_count": null,
   "id": "7ebc6c33",
   "metadata": {
    "ExecuteTime": {
     "end_time": "2021-09-05T11:37:53.770423Z",
     "start_time": "2021-09-05T11:37:53.708436Z"
    }
   },
   "outputs": [],
   "source": [
    "columnas_con_nulos = ['payroll', 'pension_plan']\n",
    "df_nulos = prod[columnas_con_nulos].copy()\n",
    "\n",
    "prod[columnas_con_nulos] = anl.nulos_productos(df_prod = df_nulos.copy())\n",
    "\n",
    "del df_nulos"
   ]
  },
  {
   "cell_type": "code",
   "execution_count": null,
   "id": "d4e2089d",
   "metadata": {
    "ExecuteTime": {
     "end_time": "2021-09-05T11:37:55.344753Z",
     "start_time": "2021-09-05T11:37:53.772528Z"
    }
   },
   "outputs": [],
   "source": [
    "anl.resume_products_df(df_prod = prod)"
   ]
  },
  {
   "cell_type": "markdown",
   "id": "8b98655d",
   "metadata": {},
   "source": [
    "<hr style=\"height:5px;border-width:0;color:orange;background-color:orange\">"
   ]
  },
  {
   "cell_type": "markdown",
   "id": "75858a26",
   "metadata": {},
   "source": [
    "### Análisis"
   ]
  },
  {
   "cell_type": "markdown",
   "id": "ed51459a",
   "metadata": {},
   "source": [
    "#### Introducción\n",
    "\n",
    "La primera pregunta a la cuál es necesario definir una respuesta __¿que es un cliente y que tipos de clientes existen?__\n",
    "\n",
    "\n",
    "Los clientes tiene un identificador (\"pk_cid\") que permite distinguir las características de cada uno. El identificador, la fecha de ingesta y el valor del cliente en un mes determinado (\"id_type\") para un producto proporciona información que puede ser de utilidad. Por lo tanto, se concluye que:\n",
    "\n",
    "- Los identificadores (\"pk_cid_type\") pueden ser:\n",
    "\n",
    "    - __conocido__. Identificadores que aparecen en algún mes anterior.\n",
    "    \n",
    "    - __nuevo__. No han aparecido anteriormente en el registro.\n",
    "\n",
    "\n",
    "- El valor del cliente en un mes determinado para un producto puede tomar el valor 0 o 1, es decir, tiene dos estados. Dado que se trata de un dataset de clientes se clasifican como \"tipo_identificador\" en:\n",
    "\n",
    "    - __nuevo_activo__. El cliente es nuevo y el valor del producto es igual a 1.\n",
    "    \n",
    "    - __nuevo_inactivo__. El cliente es nuevo y el valor del producto es igual a 0.\n",
    "    \n",
    "    - __conocido_inactivo__. El cliente es conocido y el valor del producto es 0.\n",
    "    \n",
    "    - __conocido_activo__. El cliente es conocido y el valor del producto es 1.\n",
    "    "
   ]
  },
  {
   "cell_type": "markdown",
   "id": "f365d14a",
   "metadata": {},
   "source": [
    "#### Registro de clientes por fecha de ingesta\n",
    "\n",
    "En primer lugar, se creará un nuevo dataset que registre para todos los clientes mes a mes si:\n",
    "\n",
    "- Aparece en el registro (valor igual a 1).\n",
    "- No aparece en el registro (valor igual a 0).\n",
    "\n",
    "\n",
    "El dataframe que se crea a continuación, tiene:\n",
    "\n",
    "- Como index los identificadores únicos de los clientes.\n",
    "- Como columnas cada una de las particiones en las cuáles se realizaron la ingesta de los datos."
   ]
  },
  {
   "cell_type": "code",
   "execution_count": null,
   "id": "623d39b9",
   "metadata": {
    "ExecuteTime": {
     "end_time": "2021-09-05T11:38:04.722227Z",
     "start_time": "2021-09-05T11:37:55.346284Z"
    }
   },
   "outputs": [],
   "source": [
    "registro = anl.registro_clientes(df_prod=prod)\n",
    "registro.to_csv('results/registro.csv', sep=';', index=True, encoding='utf-8-sig')"
   ]
  },
  {
   "cell_type": "code",
   "execution_count": null,
   "id": "ccfc36a6",
   "metadata": {
    "ExecuteTime": {
     "end_time": "2021-09-05T11:38:04.746929Z",
     "start_time": "2021-09-05T11:38:04.723154Z"
    }
   },
   "outputs": [],
   "source": [
    "registro.sample(10).T"
   ]
  },
  {
   "cell_type": "markdown",
   "id": "9af34822",
   "metadata": {},
   "source": [
    "#### Nivel de permanencia de los clientes\n",
    "\n",
    "\n",
    "El dataset está compuesto por 17 fechas de ingesta. Por lo tanto, el número máximo de meses que un usuario puede estar como cliente en la base de datos es de 17.\n",
    "\n",
    "El nivel de permanencia de un cliente se define como:\n",
    "\n",
    "\\begin{align}\n",
    "n_{c} = \\frac{mc_{c}}{t}\n",
    "\\end{align}\n",
    "\n",
    "siendo:\n",
    "\n",
    "- $n_{c}$. Nivel de permanencia del cliente.\n",
    "\n",
    "- $mc_{c}$. Puntuación del cliente. Número de meses que ha pasado como cliente.\n",
    "\n",
    "- $t$. Período de tiempo de evaluación en meses."
   ]
  },
  {
   "cell_type": "code",
   "execution_count": null,
   "id": "90c50574",
   "metadata": {
    "ExecuteTime": {
     "end_time": "2021-09-05T11:38:04.759343Z",
     "start_time": "2021-09-05T11:38:04.747820Z"
    }
   },
   "outputs": [],
   "source": [
    "periodo = registro.shape[1] # 17 meses"
   ]
  },
  {
   "cell_type": "code",
   "execution_count": null,
   "id": "0d0139e5",
   "metadata": {
    "ExecuteTime": {
     "end_time": "2021-09-05T11:38:04.852729Z",
     "start_time": "2021-09-05T11:38:04.760364Z"
    }
   },
   "outputs": [],
   "source": [
    "nivel_permanencia = anl.nivel_permanencia(registro = registro, periodo = periodo)"
   ]
  },
  {
   "cell_type": "code",
   "execution_count": null,
   "id": "f0859f14",
   "metadata": {
    "ExecuteTime": {
     "end_time": "2021-09-05T11:38:04.875022Z",
     "start_time": "2021-09-05T11:38:04.853759Z"
    }
   },
   "outputs": [],
   "source": [
    "nivel_permanencia.sample(10)"
   ]
  },
  {
   "cell_type": "code",
   "execution_count": null,
   "id": "96aa4120",
   "metadata": {
    "ExecuteTime": {
     "end_time": "2021-09-05T11:38:05.575463Z",
     "start_time": "2021-09-05T11:38:04.875944Z"
    }
   },
   "outputs": [],
   "source": [
    "vs.violin_plot(y=nivel_permanencia['numero_meses'], title='Probabilidad de permanencia', name='numero_meses')"
   ]
  },
  {
   "cell_type": "markdown",
   "id": "5e2963bd",
   "metadata": {},
   "source": [
    "__En el violinplot se aprecian las siguientes cuatro regiones:__\n",
    "\n",
    "- __(1) Fidelización baja.__ Aquellos clientes que permanencen en el registro entre 0 y 6 meses.\n",
    "- __(2) Fidelización media.__ Aquellos clientes que permanecen en el registro entre 7 y 10 meses.\n",
    "- __(3) Fidelización alta.__ Aquellos clientes que permanecen en el registro entre 11 y 15 meses.\n",
    "- __(4) Fidelización completa.__ Aquellos clientes que permanencen en el registro entre 16 y 17 meses.\n",
    "\n",
    "\n",
    "Por lo tanto, a continuación se identificarán en el dataset de nivel de permanencia estas cuatro regiones"
   ]
  },
  {
   "cell_type": "code",
   "execution_count": null,
   "id": "098a0870",
   "metadata": {
    "ExecuteTime": {
     "end_time": "2021-09-05T11:38:06.948879Z",
     "start_time": "2021-09-05T11:38:05.576673Z"
    }
   },
   "outputs": [],
   "source": [
    "nivel_permanencia['region_permanencia'] = anl.region_permanencia(nivel_permanencia)\n",
    "nivel_permanencia.to_csv('results/nivel_permanencia.csv', sep=';', index=False, encoding='utf-8-sig')"
   ]
  },
  {
   "cell_type": "code",
   "execution_count": null,
   "id": "24f7083b",
   "metadata": {
    "ExecuteTime": {
     "end_time": "2021-09-05T11:38:06.966117Z",
     "start_time": "2021-09-05T11:38:06.949786Z"
    }
   },
   "outputs": [],
   "source": [
    "nivel_permanencia"
   ]
  },
  {
   "cell_type": "markdown",
   "id": "4e362735",
   "metadata": {},
   "source": [
    "#### Calcular promedio de permanencia por número de meses"
   ]
  },
  {
   "cell_type": "code",
   "execution_count": null,
   "id": "ef5e4fbe",
   "metadata": {
    "ExecuteTime": {
     "end_time": "2021-09-05T11:38:06.984612Z",
     "start_time": "2021-09-05T11:38:06.967107Z"
    }
   },
   "outputs": [],
   "source": [
    "promedio_permanencia = anl.promedio_permanencia(nivel_permanencia['numero_meses'])\n",
    "promedio_permanencia.to_csv('results/promedio_permanencia.csv', sep=';', index=False, encoding='utf-8-sig')"
   ]
  },
  {
   "cell_type": "code",
   "execution_count": null,
   "id": "58b9998b",
   "metadata": {
    "ExecuteTime": {
     "end_time": "2021-09-05T11:38:07.000098Z",
     "start_time": "2021-09-05T11:38:06.985614Z"
    }
   },
   "outputs": [],
   "source": [
    "promedio_permanencia"
   ]
  },
  {
   "cell_type": "markdown",
   "id": "cf003859",
   "metadata": {},
   "source": [
    "#### Número de clientes (activos y no activos) por fecha\n"
   ]
  },
  {
   "cell_type": "code",
   "execution_count": null,
   "id": "f27fbe59",
   "metadata": {
    "ExecuteTime": {
     "end_time": "2021-09-05T11:38:07.029025Z",
     "start_time": "2021-09-05T11:38:07.001077Z"
    }
   },
   "outputs": [],
   "source": [
    "# Clientes activos y no activos\n",
    "anl.clientes_fecha(registro,show_msg=True)"
   ]
  },
  {
   "cell_type": "markdown",
   "id": "362e163b",
   "metadata": {},
   "source": [
    "#### Número de clientes activos, no activos y totales por producto y fecha"
   ]
  },
  {
   "cell_type": "code",
   "execution_count": null,
   "id": "3bfcc7ab",
   "metadata": {
    "ExecuteTime": {
     "end_time": "2021-09-05T11:38:15.634253Z",
     "start_time": "2021-09-05T11:38:07.029953Z"
    }
   },
   "outputs": [],
   "source": [
    "# Tomar información de clientes con producto y \n",
    "clientes_activos, clientes_no_activos = anl.clientes_producto(df_prod=prod)\n",
    "\n",
    "# Almacenar en csv\n",
    "clientes_activos.to_csv('results/clientes_activos.csv', sep=';', index=True, encoding='utf-8-sig')\n",
    "clientes_no_activos.to_csv('results/clientes_no_activos.csv', sep=';', index=True, encoding='utf-8-sig')"
   ]
  },
  {
   "cell_type": "code",
   "execution_count": null,
   "id": "781f393f",
   "metadata": {
    "ExecuteTime": {
     "end_time": "2021-09-05T11:38:15.656356Z",
     "start_time": "2021-09-05T11:38:15.635090Z"
    }
   },
   "outputs": [],
   "source": [
    "clientes_activos"
   ]
  },
  {
   "cell_type": "code",
   "execution_count": null,
   "id": "4b53b8ec",
   "metadata": {
    "ExecuteTime": {
     "end_time": "2021-09-05T11:38:15.679690Z",
     "start_time": "2021-09-05T11:38:15.657386Z"
    }
   },
   "outputs": [],
   "source": [
    "clientes_no_activos"
   ]
  },
  {
   "cell_type": "markdown",
   "id": "19796f95",
   "metadata": {},
   "source": [
    "__Analizamos el dataframe__"
   ]
  },
  {
   "cell_type": "code",
   "execution_count": null,
   "id": "88ac1998",
   "metadata": {
    "ExecuteTime": {
     "end_time": "2021-09-05T11:38:20.034510Z",
     "start_time": "2021-09-05T11:38:15.684026Z"
    }
   },
   "outputs": [],
   "source": [
    "cp_informacion = anl.analizar_productos_clientes(df_prod=prod.copy(), ca=clientes_activos.copy())\n",
    "cp_informacion.to_csv('results/informacion_clientes_con_producto.csv', sep=';', index=True, encoding='utf-8-sig')\n",
    "cp_informacion"
   ]
  },
  {
   "cell_type": "code",
   "execution_count": null,
   "id": "fdf97aac",
   "metadata": {
    "ExecuteTime": {
     "end_time": "2021-09-05T11:38:20.062112Z",
     "start_time": "2021-09-05T11:38:20.037125Z"
    }
   },
   "outputs": [],
   "source": [
    "cp_informacion.describe().T"
   ]
  },
  {
   "cell_type": "markdown",
   "id": "8cc96001",
   "metadata": {},
   "source": [
    "#### Valoración de los clientes"
   ]
  },
  {
   "cell_type": "code",
   "execution_count": null,
   "id": "cf0eeb39",
   "metadata": {
    "ExecuteTime": {
     "end_time": "2021-09-05T11:38:20.075051Z",
     "start_time": "2021-09-05T11:38:20.063552Z"
    }
   },
   "outputs": [],
   "source": [
    "valoracion_clientes = anl.valorar_productos_clientes(df=prod, lista_productos = lista_productos)\n",
    "\n",
    "# Almacenar dataset en csv (evitar tiempos de espera)\n",
    "print('Almacenando valoración...')\n",
    "valoracion_clientes.to_csv('results/valoracion_clientes.csv', sep=';', index=False, encoding='utf-8-sig')\n",
    "valoracion_clientes"
   ]
  },
  {
   "cell_type": "code",
   "execution_count": null,
   "id": "33292535",
   "metadata": {
    "ExecuteTime": {
     "end_time": "2021-09-05T11:38:23.460126Z",
     "start_time": "2021-09-05T11:38:20.075892Z"
    }
   },
   "outputs": [],
   "source": [
    "# Lectura\n",
    "valoracion_clientes = anl.get_valoracion_clientes(filename='results/valoracion_clientes.csv')\n",
    "valoracion_clientes"
   ]
  },
  {
   "cell_type": "markdown",
   "id": "df1c5f42",
   "metadata": {},
   "source": [
    "#### Clientes con y sin productos contratados\n",
    "\n",
    "Se distinguen dos tipos de clientes:\n",
    "- Clientes con producto contratado en algún mes que producen una facturación en EasyMoney.\n",
    "- Clientes sin producto contratado ningún mes que no producen una facturación (captados pero no facturan)."
   ]
  },
  {
   "cell_type": "code",
   "execution_count": null,
   "id": "56ad7a79",
   "metadata": {
    "ExecuteTime": {
     "end_time": "2021-09-05T11:38:24.057749Z",
     "start_time": "2021-09-05T11:38:23.460976Z"
    }
   },
   "outputs": [],
   "source": [
    "productos_contratados, productos_no_contratados = anl.tipos_clientes(valoracion_clientes)"
   ]
  },
  {
   "cell_type": "markdown",
   "id": "41b22d7d",
   "metadata": {},
   "source": [
    "##### Productos contratados"
   ]
  },
  {
   "cell_type": "code",
   "execution_count": null,
   "id": "0de452cd",
   "metadata": {
    "ExecuteTime": {
     "end_time": "2021-09-05T11:38:24.082065Z",
     "start_time": "2021-09-05T11:38:24.058696Z"
    }
   },
   "outputs": [],
   "source": [
    "productos_contratados.sample(10)"
   ]
  },
  {
   "cell_type": "code",
   "execution_count": null,
   "id": "d543728d",
   "metadata": {
    "ExecuteTime": {
     "end_time": "2021-09-05T11:38:24.165855Z",
     "start_time": "2021-09-05T11:38:24.083065Z"
    }
   },
   "outputs": [],
   "source": [
    "productos_contratados.describe().T"
   ]
  },
  {
   "cell_type": "markdown",
   "id": "12f7a3f5",
   "metadata": {},
   "source": [
    "##### Productos no contratados"
   ]
  },
  {
   "cell_type": "code",
   "execution_count": null,
   "id": "af291bbe",
   "metadata": {
    "ExecuteTime": {
     "end_time": "2021-09-05T11:38:24.347844Z",
     "start_time": "2021-09-05T11:38:24.166877Z"
    }
   },
   "outputs": [],
   "source": [
    "productos_no_contratados.sample(10)"
   ]
  },
  {
   "cell_type": "code",
   "execution_count": null,
   "id": "a39b3f12",
   "metadata": {
    "ExecuteTime": {
     "end_time": "2021-09-05T11:38:25.031996Z",
     "start_time": "2021-09-05T11:38:24.348796Z"
    }
   },
   "outputs": [],
   "source": [
    "productos_no_contratados.describe().T"
   ]
  },
  {
   "cell_type": "markdown",
   "id": "a0def9e7",
   "metadata": {},
   "source": [
    "#### Productos populares - Indice de contratación\n",
    "\n",
    "\n",
    "En primer lugar, se desea conocer cuales son los productos con mayor indice de contratacion. \n",
    "\n",
    "Dado que un cliente puede tener como valor en un producto determinado 0 (servicio no activo) o 1 (servicio activo), por ejemplo, la media de contratación de un cliente durante los meses disponibles indica la proporción de servicios contratados en un determinado período. Por lo tanto, se calculará:\n",
    "\n",
    "- La media general de todas las particiones de contratación (más cercano a 1 indica un mayor índice de popularidad general).\n",
    "\n",
    "\n",
    "- La media por mes de ingesta de contratación (para tratar de identificar el crecimiento/decrecimiento de un producto determinado.\n",
    "\n",
    "\n",
    "- La media por año de ingesta de contratación (para tratar de identificar el crecimiento/decrecimiento de un producto determinado."
   ]
  },
  {
   "cell_type": "code",
   "execution_count": null,
   "id": "3992de2b",
   "metadata": {
    "ExecuteTime": {
     "end_time": "2021-09-05T11:38:36.994840Z",
     "start_time": "2021-09-05T11:38:25.032879Z"
    }
   },
   "outputs": [],
   "source": [
    "ind_contratacion = anl.indice_contratacion(df_prod=prod)"
   ]
  },
  {
   "cell_type": "code",
   "execution_count": null,
   "id": "ae53540a",
   "metadata": {
    "ExecuteTime": {
     "end_time": "2021-09-05T11:38:37.021992Z",
     "start_time": "2021-09-05T11:38:36.996068Z"
    }
   },
   "outputs": [],
   "source": [
    "ind_contratacion"
   ]
  },
  {
   "cell_type": "markdown",
   "id": "cc2e0cd8",
   "metadata": {},
   "source": [
    "### Visualización"
   ]
  },
  {
   "cell_type": "markdown",
   "id": "8b89b7c0",
   "metadata": {},
   "source": [
    "#### Nivel de permanencia - Bar"
   ]
  },
  {
   "cell_type": "code",
   "execution_count": null,
   "id": "bee4fa03",
   "metadata": {
    "ExecuteTime": {
     "end_time": "2021-09-05T11:38:37.070185Z",
     "start_time": "2021-09-05T11:38:37.022995Z"
    }
   },
   "outputs": [],
   "source": [
    "df_bar = pd.DataFrame(nivel_permanencia['region_permanencia'].value_counts(normalize=True))\n",
    "df_bar = df_bar.reset_index().rename({'region_permanencia':'total', 'index':'region_permanencia'},axis=1)\n",
    "df_bar.sort_values('total', ascending=False, inplace=True)\n",
    "\n",
    "\n",
    "# Añadir columna de región\n",
    "region = {\n",
    "    'baja': '[1-6]',\n",
    "    'media':'[7-10]',\n",
    "    'alta': '[11-15]',\n",
    "    'completa': '[16-17]'\n",
    "}\n",
    "df_bar['region'] = df_bar['region_permanencia'].map(region)\n",
    "df_bar"
   ]
  },
  {
   "cell_type": "markdown",
   "id": "f60a6e80",
   "metadata": {},
   "source": [
    "<hr style=\"height:5px;border-width:0;color:orange;background-color:orange\">"
   ]
  },
  {
   "cell_type": "markdown",
   "id": "92dc5279",
   "metadata": {},
   "source": [
    "## Sociodemografía\n",
    "\n",
    "\n",
    "__Descripción de variables del dataset.__\n",
    "\n",
    "A continuación, se analizará el fichero \"sociodemographic_df.csv\"\n",
    "\n",
    "| Variable | Descripción |\n",
    "| --- | --- |\n",
    "| pk_cid | Identificador de cliente |\n",
    "| pk_partition | Fecha de ingesta de los datos |\n",
    "| country_id | País de residencia del cliente |\n",
    "| region_code | Provincia de residencia del cliente |\n",
    "| gender | Sexo del cliente |\n",
    "| age | Edad del cliente |\n",
    "| deceased | ¿Cliente fallecido (N/S)? |\n",
    "| salary | Ingresos brutos de la unidad familiar |"
   ]
  },
  {
   "cell_type": "code",
   "execution_count": 3,
   "id": "d75a8602",
   "metadata": {
    "ExecuteTime": {
     "end_time": "2021-09-05T21:01:02.164002Z",
     "start_time": "2021-09-05T21:00:55.774485Z"
    }
   },
   "outputs": [
    {
     "data": {
      "text/html": [
       "<div>\n",
       "<style scoped>\n",
       "    .dataframe tbody tr th:only-of-type {\n",
       "        vertical-align: middle;\n",
       "    }\n",
       "\n",
       "    .dataframe tbody tr th {\n",
       "        vertical-align: top;\n",
       "    }\n",
       "\n",
       "    .dataframe thead th {\n",
       "        text-align: right;\n",
       "    }\n",
       "</style>\n",
       "<table border=\"1\" class=\"dataframe\">\n",
       "  <thead>\n",
       "    <tr style=\"text-align: right;\">\n",
       "      <th></th>\n",
       "      <th>pk_cid</th>\n",
       "      <th>pk_partition</th>\n",
       "      <th>country_id</th>\n",
       "      <th>region_code</th>\n",
       "      <th>gender</th>\n",
       "      <th>age</th>\n",
       "      <th>deceased</th>\n",
       "      <th>salary</th>\n",
       "    </tr>\n",
       "  </thead>\n",
       "  <tbody>\n",
       "    <tr>\n",
       "      <th>0</th>\n",
       "      <td>1375586</td>\n",
       "      <td>2018-01-28</td>\n",
       "      <td>ES</td>\n",
       "      <td>29.0</td>\n",
       "      <td>H</td>\n",
       "      <td>35</td>\n",
       "      <td>N</td>\n",
       "      <td>87218.100</td>\n",
       "    </tr>\n",
       "    <tr>\n",
       "      <th>1</th>\n",
       "      <td>1050611</td>\n",
       "      <td>2018-01-28</td>\n",
       "      <td>ES</td>\n",
       "      <td>13.0</td>\n",
       "      <td>V</td>\n",
       "      <td>23</td>\n",
       "      <td>N</td>\n",
       "      <td>35548.740</td>\n",
       "    </tr>\n",
       "    <tr>\n",
       "      <th>2</th>\n",
       "      <td>1050612</td>\n",
       "      <td>2018-01-28</td>\n",
       "      <td>ES</td>\n",
       "      <td>13.0</td>\n",
       "      <td>V</td>\n",
       "      <td>23</td>\n",
       "      <td>N</td>\n",
       "      <td>122179.110</td>\n",
       "    </tr>\n",
       "    <tr>\n",
       "      <th>3</th>\n",
       "      <td>1050613</td>\n",
       "      <td>2018-01-28</td>\n",
       "      <td>ES</td>\n",
       "      <td>50.0</td>\n",
       "      <td>H</td>\n",
       "      <td>22</td>\n",
       "      <td>N</td>\n",
       "      <td>119775.540</td>\n",
       "    </tr>\n",
       "    <tr>\n",
       "      <th>4</th>\n",
       "      <td>1050614</td>\n",
       "      <td>2018-01-28</td>\n",
       "      <td>ES</td>\n",
       "      <td>50.0</td>\n",
       "      <td>V</td>\n",
       "      <td>23</td>\n",
       "      <td>N</td>\n",
       "      <td>nan</td>\n",
       "    </tr>\n",
       "    <tr>\n",
       "      <th>...</th>\n",
       "      <td>...</td>\n",
       "      <td>...</td>\n",
       "      <td>...</td>\n",
       "      <td>...</td>\n",
       "      <td>...</td>\n",
       "      <td>...</td>\n",
       "      <td>...</td>\n",
       "      <td>...</td>\n",
       "    </tr>\n",
       "    <tr>\n",
       "      <th>5962919</th>\n",
       "      <td>1166765</td>\n",
       "      <td>2019-05-28</td>\n",
       "      <td>ES</td>\n",
       "      <td>50.0</td>\n",
       "      <td>V</td>\n",
       "      <td>22</td>\n",
       "      <td>N</td>\n",
       "      <td>43912.170</td>\n",
       "    </tr>\n",
       "    <tr>\n",
       "      <th>5962920</th>\n",
       "      <td>1166764</td>\n",
       "      <td>2019-05-28</td>\n",
       "      <td>ES</td>\n",
       "      <td>26.0</td>\n",
       "      <td>V</td>\n",
       "      <td>23</td>\n",
       "      <td>N</td>\n",
       "      <td>23334.990</td>\n",
       "    </tr>\n",
       "    <tr>\n",
       "      <th>5962921</th>\n",
       "      <td>1166763</td>\n",
       "      <td>2019-05-28</td>\n",
       "      <td>ES</td>\n",
       "      <td>50.0</td>\n",
       "      <td>H</td>\n",
       "      <td>47</td>\n",
       "      <td>N</td>\n",
       "      <td>nan</td>\n",
       "    </tr>\n",
       "    <tr>\n",
       "      <th>5962922</th>\n",
       "      <td>1166789</td>\n",
       "      <td>2019-05-28</td>\n",
       "      <td>ES</td>\n",
       "      <td>50.0</td>\n",
       "      <td>H</td>\n",
       "      <td>22</td>\n",
       "      <td>N</td>\n",
       "      <td>199592.820</td>\n",
       "    </tr>\n",
       "    <tr>\n",
       "      <th>5962923</th>\n",
       "      <td>1550586</td>\n",
       "      <td>2019-05-28</td>\n",
       "      <td>ES</td>\n",
       "      <td>28.0</td>\n",
       "      <td>H</td>\n",
       "      <td>37</td>\n",
       "      <td>N</td>\n",
       "      <td>nan</td>\n",
       "    </tr>\n",
       "  </tbody>\n",
       "</table>\n",
       "<p>5962924 rows × 8 columns</p>\n",
       "</div>"
      ],
      "text/plain": [
       "          pk_cid pk_partition country_id region_code gender  age deceased  \\\n",
       "0        1375586   2018-01-28         ES        29.0      H   35        N   \n",
       "1        1050611   2018-01-28         ES        13.0      V   23        N   \n",
       "2        1050612   2018-01-28         ES        13.0      V   23        N   \n",
       "3        1050613   2018-01-28         ES        50.0      H   22        N   \n",
       "4        1050614   2018-01-28         ES        50.0      V   23        N   \n",
       "...          ...          ...        ...         ...    ...  ...      ...   \n",
       "5962919  1166765   2019-05-28         ES        50.0      V   22        N   \n",
       "5962920  1166764   2019-05-28         ES        26.0      V   23        N   \n",
       "5962921  1166763   2019-05-28         ES        50.0      H   47        N   \n",
       "5962922  1166789   2019-05-28         ES        50.0      H   22        N   \n",
       "5962923  1550586   2019-05-28         ES        28.0      H   37        N   \n",
       "\n",
       "            salary  \n",
       "0        87218.100  \n",
       "1        35548.740  \n",
       "2       122179.110  \n",
       "3       119775.540  \n",
       "4              nan  \n",
       "...            ...  \n",
       "5962919  43912.170  \n",
       "5962920  23334.990  \n",
       "5962921        nan  \n",
       "5962922 199592.820  \n",
       "5962923        nan  \n",
       "\n",
       "[5962924 rows x 8 columns]"
      ]
     },
     "execution_count": 3,
     "metadata": {},
     "output_type": "execute_result"
    }
   ],
   "source": [
    "# Cargar datos\n",
    "sociodemographic = anl.get_sociodemographic_df('data/sociodemographic_df.csv')\n",
    "sociodemographic"
   ]
  },
  {
   "cell_type": "code",
   "execution_count": 10,
   "id": "8032fc89",
   "metadata": {
    "ExecuteTime": {
     "end_time": "2021-09-05T21:04:10.411131Z",
     "start_time": "2021-09-05T21:04:07.536109Z"
    },
    "scrolled": false
   },
   "outputs": [
    {
     "name": "stdout",
     "output_type": "stream",
     "text": [
      "Tamaño del dataset\n",
      "\tSamples: 5962924\n",
      "\tFeatures: 8\n",
      "\n",
      "\n",
      "\n",
      "Número de particiones del histórico: 17\n",
      "Número de clientes únicos: 456373\n",
      "\n",
      "\n",
      "\n",
      "Información del DataFrame\n",
      "<class 'pandas.core.frame.DataFrame'>\n",
      "RangeIndex: 5962924 entries, 0 to 5962923\n",
      "Data columns (total 8 columns):\n",
      " #   Column        Dtype         \n",
      "---  ------        -----         \n",
      " 0   pk_cid        object        \n",
      " 1   pk_partition  datetime64[ns]\n",
      " 2   country_id    object        \n",
      " 3   region_code   object        \n",
      " 4   gender        object        \n",
      " 5   age           int64         \n",
      " 6   deceased      object        \n",
      " 7   salary        float64       \n",
      "dtypes: datetime64[ns](1), float64(1), int64(1), object(5)\n",
      "memory usage: 363.9+ MB\n",
      "None\n",
      "\n",
      "\n",
      "\n",
      "Descripción del dataset\n",
      "                age         salary\n",
      "count 5962924.00000  4450821.00000\n",
      "mean       29.76042   115816.72370\n",
      "std        11.98038   199551.88905\n",
      "min         2.00000     1202.73000\n",
      "25%        22.00000    61500.63000\n",
      "50%        25.00000    88654.65000\n",
      "75%        34.00000   131669.91000\n",
      "max       105.00000 28894395.51000\n",
      "\n",
      "\n",
      "\n",
      "Valores nulos\n",
      "\n",
      "pk_cid                0\n",
      "pk_partition          0\n",
      "country_id            0\n",
      "region_code           0\n",
      "gender               25\n",
      "age                   0\n",
      "deceased              0\n",
      "salary          1512103\n",
      "dtype: int64\n",
      "\n",
      "\n",
      "\n",
      "Country\n",
      "ES   0.99962\n",
      "GB   0.00007\n",
      "FR   0.00004\n",
      "DE   0.00003\n",
      "US   0.00003\n",
      "CH   0.00003\n",
      "BR   0.00001\n",
      "BE   0.00001\n",
      "VE   0.00001\n",
      "IE   0.00001\n",
      "MX   0.00001\n",
      "AT   0.00001\n",
      "AR   0.00001\n",
      "PL   0.00001\n",
      "IT   0.00001\n",
      "MA   0.00001\n",
      "CL   0.00001\n",
      "CN   0.00000\n",
      "CA   0.00000\n",
      "CM   0.00000\n",
      "NO   0.00000\n",
      "GT   0.00000\n",
      "SA   0.00000\n",
      "ET   0.00000\n",
      "MR   0.00000\n",
      "QA   0.00000\n",
      "LU   0.00000\n",
      "RU   0.00000\n",
      "GA   0.00000\n",
      "CO   0.00000\n",
      "SN   0.00000\n",
      "CI   0.00000\n",
      "DO   0.00000\n",
      "SE   0.00000\n",
      "JM   0.00000\n",
      "PT   0.00000\n",
      "DJ   0.00000\n",
      "RO   0.00000\n",
      "HU   0.00000\n",
      "DZ   0.00000\n",
      "PE   0.00000\n",
      "Name: country_id, dtype: float64\n",
      "\n",
      "\n",
      "\n",
      "Gender\n",
      "H   0.51779\n",
      "V   0.48221\n",
      "Name: gender, dtype: float64\n",
      "\n",
      "\n",
      "\n",
      "Deceased\n",
      "N   0.99982\n",
      "S   0.00018\n",
      "Name: deceased, dtype: float64\n",
      "\n",
      "\n",
      "\n"
     ]
    }
   ],
   "source": [
    "pd.options.display.float_format = \"{:.5f}\".format\n",
    "\n",
    "anl.resume_sociodemographic_df(df_sd=sociodemographic)"
   ]
  },
  {
   "cell_type": "markdown",
   "id": "133e843f",
   "metadata": {},
   "source": [
    "### Limpieza del dataset"
   ]
  },
  {
   "cell_type": "code",
   "execution_count": 11,
   "id": "0c09c053",
   "metadata": {
    "ExecuteTime": {
     "end_time": "2021-09-05T21:05:13.136107Z",
     "start_time": "2021-09-05T21:05:10.168828Z"
    }
   },
   "outputs": [],
   "source": []
  },
  {
   "cell_type": "markdown",
   "id": "c5cd21e1",
   "metadata": {},
   "source": [
    "### Análisis"
   ]
  },
  {
   "cell_type": "markdown",
   "id": "30caa203",
   "metadata": {},
   "source": [
    "<hr style=\"height:5px;border-width:0;color:orange;background-color:orange\">"
   ]
  },
  {
   "cell_type": "markdown",
   "id": "f4cd9eb6",
   "metadata": {},
   "source": [
    "## Actividad comercial"
   ]
  },
  {
   "cell_type": "code",
   "execution_count": 32,
   "id": "26b1afb6",
   "metadata": {
    "ExecuteTime": {
     "end_time": "2021-09-05T21:14:36.618867Z",
     "start_time": "2021-09-05T21:14:29.248853Z"
    }
   },
   "outputs": [
    {
     "data": {
      "text/html": [
       "<div>\n",
       "<style scoped>\n",
       "    .dataframe tbody tr th:only-of-type {\n",
       "        vertical-align: middle;\n",
       "    }\n",
       "\n",
       "    .dataframe tbody tr th {\n",
       "        vertical-align: top;\n",
       "    }\n",
       "\n",
       "    .dataframe thead th {\n",
       "        text-align: right;\n",
       "    }\n",
       "</style>\n",
       "<table border=\"1\" class=\"dataframe\">\n",
       "  <thead>\n",
       "    <tr style=\"text-align: right;\">\n",
       "      <th></th>\n",
       "      <th>pk_cid</th>\n",
       "      <th>pk_partition</th>\n",
       "      <th>entry_date</th>\n",
       "      <th>entry_channel</th>\n",
       "      <th>active_customer</th>\n",
       "      <th>segment</th>\n",
       "    </tr>\n",
       "  </thead>\n",
       "  <tbody>\n",
       "    <tr>\n",
       "      <th>0</th>\n",
       "      <td>1375586</td>\n",
       "      <td>2018-01-28</td>\n",
       "      <td>2018-01-12</td>\n",
       "      <td>KHL</td>\n",
       "      <td>1.00000</td>\n",
       "      <td>02 - PARTICULARES</td>\n",
       "    </tr>\n",
       "    <tr>\n",
       "      <th>1</th>\n",
       "      <td>1050611</td>\n",
       "      <td>2018-01-28</td>\n",
       "      <td>2015-08-10</td>\n",
       "      <td>KHE</td>\n",
       "      <td>0.00000</td>\n",
       "      <td>03 - UNIVERSITARIO</td>\n",
       "    </tr>\n",
       "    <tr>\n",
       "      <th>2</th>\n",
       "      <td>1050612</td>\n",
       "      <td>2018-01-28</td>\n",
       "      <td>2015-08-10</td>\n",
       "      <td>KHE</td>\n",
       "      <td>0.00000</td>\n",
       "      <td>03 - UNIVERSITARIO</td>\n",
       "    </tr>\n",
       "    <tr>\n",
       "      <th>3</th>\n",
       "      <td>1050613</td>\n",
       "      <td>2018-01-28</td>\n",
       "      <td>2015-08-10</td>\n",
       "      <td>KHD</td>\n",
       "      <td>0.00000</td>\n",
       "      <td>03 - UNIVERSITARIO</td>\n",
       "    </tr>\n",
       "    <tr>\n",
       "      <th>4</th>\n",
       "      <td>1050614</td>\n",
       "      <td>2018-01-28</td>\n",
       "      <td>2015-08-10</td>\n",
       "      <td>KHE</td>\n",
       "      <td>1.00000</td>\n",
       "      <td>03 - UNIVERSITARIO</td>\n",
       "    </tr>\n",
       "    <tr>\n",
       "      <th>...</th>\n",
       "      <td>...</td>\n",
       "      <td>...</td>\n",
       "      <td>...</td>\n",
       "      <td>...</td>\n",
       "      <td>...</td>\n",
       "      <td>...</td>\n",
       "    </tr>\n",
       "    <tr>\n",
       "      <th>5962919</th>\n",
       "      <td>1166765</td>\n",
       "      <td>2019-05-28</td>\n",
       "      <td>2016-08-14</td>\n",
       "      <td>KHE</td>\n",
       "      <td>0.00000</td>\n",
       "      <td>03 - UNIVERSITARIO</td>\n",
       "    </tr>\n",
       "    <tr>\n",
       "      <th>5962920</th>\n",
       "      <td>1166764</td>\n",
       "      <td>2019-05-28</td>\n",
       "      <td>2016-08-14</td>\n",
       "      <td>KHE</td>\n",
       "      <td>0.00000</td>\n",
       "      <td>03 - UNIVERSITARIO</td>\n",
       "    </tr>\n",
       "    <tr>\n",
       "      <th>5962921</th>\n",
       "      <td>1166763</td>\n",
       "      <td>2019-05-28</td>\n",
       "      <td>2016-08-14</td>\n",
       "      <td>KHE</td>\n",
       "      <td>1.00000</td>\n",
       "      <td>02 - PARTICULARES</td>\n",
       "    </tr>\n",
       "    <tr>\n",
       "      <th>5962922</th>\n",
       "      <td>1166789</td>\n",
       "      <td>2019-05-28</td>\n",
       "      <td>2016-08-14</td>\n",
       "      <td>KHE</td>\n",
       "      <td>0.00000</td>\n",
       "      <td>03 - UNIVERSITARIO</td>\n",
       "    </tr>\n",
       "    <tr>\n",
       "      <th>5962923</th>\n",
       "      <td>1550586</td>\n",
       "      <td>2019-05-28</td>\n",
       "      <td>2019-05-13</td>\n",
       "      <td>NaN</td>\n",
       "      <td>1.00000</td>\n",
       "      <td>NaN</td>\n",
       "    </tr>\n",
       "  </tbody>\n",
       "</table>\n",
       "<p>5962924 rows × 6 columns</p>\n",
       "</div>"
      ],
      "text/plain": [
       "          pk_cid pk_partition entry_date entry_channel  active_customer  \\\n",
       "0        1375586   2018-01-28 2018-01-12           KHL          1.00000   \n",
       "1        1050611   2018-01-28 2015-08-10           KHE          0.00000   \n",
       "2        1050612   2018-01-28 2015-08-10           KHE          0.00000   \n",
       "3        1050613   2018-01-28 2015-08-10           KHD          0.00000   \n",
       "4        1050614   2018-01-28 2015-08-10           KHE          1.00000   \n",
       "...          ...          ...        ...           ...              ...   \n",
       "5962919  1166765   2019-05-28 2016-08-14           KHE          0.00000   \n",
       "5962920  1166764   2019-05-28 2016-08-14           KHE          0.00000   \n",
       "5962921  1166763   2019-05-28 2016-08-14           KHE          1.00000   \n",
       "5962922  1166789   2019-05-28 2016-08-14           KHE          0.00000   \n",
       "5962923  1550586   2019-05-28 2019-05-13           NaN          1.00000   \n",
       "\n",
       "                    segment  \n",
       "0         02 - PARTICULARES  \n",
       "1        03 - UNIVERSITARIO  \n",
       "2        03 - UNIVERSITARIO  \n",
       "3        03 - UNIVERSITARIO  \n",
       "4        03 - UNIVERSITARIO  \n",
       "...                     ...  \n",
       "5962919  03 - UNIVERSITARIO  \n",
       "5962920  03 - UNIVERSITARIO  \n",
       "5962921   02 - PARTICULARES  \n",
       "5962922  03 - UNIVERSITARIO  \n",
       "5962923                 NaN  \n",
       "\n",
       "[5962924 rows x 6 columns]"
      ]
     },
     "execution_count": 32,
     "metadata": {},
     "output_type": "execute_result"
    }
   ],
   "source": [
    "df_comm = anl.get_commercial_activity_df(filename_dir='data/commercial_activity_df.csv')\n",
    "df_comm"
   ]
  },
  {
   "cell_type": "code",
   "execution_count": 35,
   "id": "9adc6fea",
   "metadata": {
    "ExecuteTime": {
     "end_time": "2021-09-05T21:14:50.312504Z",
     "start_time": "2021-09-05T21:14:48.542233Z"
    }
   },
   "outputs": [
    {
     "name": "stdout",
     "output_type": "stream",
     "text": [
      "Tamaño del dataset\n",
      "\tSamples: 5962924\n",
      "\tFeatures: 6\n",
      "\n",
      "\n",
      "\n",
      "Número de particiones del histórico: 17\n",
      "Número de fechas de entrada de los clientes: 1497\n",
      "Número de clientes únicos: 456373\n",
      "\n",
      "\n",
      "\n",
      "Información del DataFrame\n",
      "<class 'pandas.core.frame.DataFrame'>\n",
      "RangeIndex: 5962924 entries, 0 to 5962923\n",
      "Data columns (total 6 columns):\n",
      " #   Column           Dtype         \n",
      "---  ------           -----         \n",
      " 0   pk_cid           object        \n",
      " 1   pk_partition     datetime64[ns]\n",
      " 2   entry_date       datetime64[ns]\n",
      " 3   entry_channel    object        \n",
      " 4   active_customer  float64       \n",
      " 5   segment          object        \n",
      "dtypes: datetime64[ns](2), float64(1), object(3)\n",
      "memory usage: 273.0+ MB\n",
      "None\n",
      "\n",
      "\n",
      "\n",
      "Descripción del dataset\n",
      "       active_customer\n",
      "count    5962924.00000\n",
      "mean           0.40338\n",
      "std            0.49058\n",
      "min            0.00000\n",
      "25%            0.00000\n",
      "50%            0.00000\n",
      "75%            1.00000\n",
      "max            1.00000\n",
      "\n",
      "\n",
      "\n",
      "Valores nulos\n",
      "\n",
      "pk_cid                  0\n",
      "pk_partition            0\n",
      "entry_date              0\n",
      "entry_channel      133033\n",
      "active_customer         0\n",
      "segment            133944\n",
      "dtype: int64\n",
      "\n",
      "\n",
      "\n",
      "Active Consumer\n",
      "0.00000   0.59662\n",
      "1.00000   0.40338\n",
      "Name: active_customer, dtype: float64\n",
      "\n",
      "\n",
      "\n",
      "Segment\n",
      "03 - UNIVERSITARIO   0.66910\n",
      "02 - PARTICULARES    0.31410\n",
      "01 - TOP             0.01680\n",
      "Name: segment, dtype: float64\n",
      "\n",
      "\n",
      "\n"
     ]
    }
   ],
   "source": [
    "anl.resume_commercial_activity_df(df_comm=df_comm)"
   ]
  },
  {
   "cell_type": "markdown",
   "id": "299ae6f6",
   "metadata": {},
   "source": [
    "### Limpieza del dataset"
   ]
  },
  {
   "cell_type": "code",
   "execution_count": null,
   "id": "cda30f13",
   "metadata": {},
   "outputs": [],
   "source": []
  },
  {
   "cell_type": "markdown",
   "id": "28bbb284",
   "metadata": {},
   "source": [
    "### Análisis"
   ]
  },
  {
   "cell_type": "code",
   "execution_count": null,
   "id": "bea59c60",
   "metadata": {},
   "outputs": [],
   "source": []
  },
  {
   "cell_type": "markdown",
   "id": "7428b1dd",
   "metadata": {},
   "source": [
    "<hr style=\"height:5px;border-width:0;color:orange;background-color:orange\">"
   ]
  },
  {
   "cell_type": "markdown",
   "id": "499d17e9",
   "metadata": {},
   "source": [
    "## Anexo"
   ]
  },
  {
   "cell_type": "markdown",
   "id": "cd873dff",
   "metadata": {},
   "source": [
    "### Cuantiles\n",
    "\n",
    "El término cuantil fue usado por primera vez por Kendall en 1940 son puntos tomados a intervalos regulares de la función de distribución de una variable aleatoria y suelen usarse por grupos que dividen la distribución en partes iguales. Estas partes se entienden como intervalos que comprenden la misma proporción de valores\n",
    "\n",
    "\n",
    "De esta forma, el cuantil de orden $p$ de una distribución (con $0 < p < 1$) es el valor de la variable $x_{p}$ que marca un corte de modo que una proporción p de valores de la población es menor o igual que $x_{p}$. \n",
    "\n",
    "Por ejemplo:\n",
    "\n",
    "- El cuantil de orden 0.36 dejaría un 36% de valores por debajo.\n",
    "\n",
    "- El cuantil de orden 0.50 se corresponde con la mediana de la distribución.\n",
    "\n",
    "Los más usados utilizados son:\n",
    "\n",
    "- Cuartiles. Dividen a la distribución en cuatro partes (corresponden a los cuantiles 0.25, 0.50 y 0.75).\n",
    "\n",
    "\n",
    "- Quintiles. Dividen a la distribución en cinco partes (corresponden a los cuantiles 0.20, 0.40; 0.60 y 0,80).\n",
    "\n",
    "\n",
    "- Deciles. Dividen a la distribución en diez partes.\n",
    "\n",
    "\n",
    "- Percentiles. Dividen a la distribución en cien partes.\n",
    "\n",
    "En el cálculo de cuantiles con distribuciones de variable continua (por ejemplo, con datos agrupados) puede conseguirse fácilmente que las partes en que se divide la distribución sean exactamente iguales. Sin embargo, en las distribuciones de variable discreta (como el caso de datos aislados) estas serán aproximadamente iguales. \n",
    "\n",
    "La función cuantil asigna a cada p el punto de corte $x_{p}$, es decir, el valor del cuantil de orden p."
   ]
  },
  {
   "cell_type": "markdown",
   "id": "a10e9a14",
   "metadata": {},
   "source": [
    "<hr style=\"height:5px;border-width:0;color:orange;background-color:orange\">"
   ]
  },
  {
   "cell_type": "markdown",
   "id": "475185e1",
   "metadata": {},
   "source": [
    "## Referencias\n",
    "\n",
    "[1] Pandas Groupby: Summarising, Aggregating, Grouping in Python\n",
    "[url: shanelynn.ie/summarising-aggregation-and-grouping-data-in-python-pandas/]\n",
    "\n",
    "[2] Quantile and Decile rank of a column in Pandas-Python [url: https://www.geeksforgeeks.org/quantile-and-decile-rank-of-a-column-in-pandas-python/]"
   ]
  }
 ],
 "metadata": {
  "kernelspec": {
   "display_name": "Python 3.8.10 64-bit ('EasyMoney': conda)",
   "language": "python",
   "name": "python3810jvsc74a57bd06130c094b9447fe37a227cbecba7582730e90d97172bf6ed09ef57c45a8e903c"
  },
  "language_info": {
   "codemirror_mode": {
    "name": "ipython",
    "version": 3
   },
   "file_extension": ".py",
   "mimetype": "text/x-python",
   "name": "python",
   "nbconvert_exporter": "python",
   "pygments_lexer": "ipython3",
   "version": "3.8.10"
  },
  "nbTranslate": {
   "displayLangs": [
    "*"
   ],
   "hotkey": "alt-t",
   "langInMainMenu": true,
   "sourceLang": "en",
   "targetLang": "fr",
   "useGoogleTranslate": true
  },
  "toc": {
   "base_numbering": 1,
   "nav_menu": {},
   "number_sections": true,
   "sideBar": true,
   "skip_h1_title": true,
   "title_cell": "Table of Contents",
   "title_sidebar": "Contents",
   "toc_cell": true,
   "toc_position": {
    "height": "calc(100% - 180px)",
    "left": "10px",
    "top": "150px",
    "width": "261.037px"
   },
   "toc_section_display": true,
   "toc_window_display": true
  },
  "varInspector": {
   "cols": {
    "lenName": 16,
    "lenType": 16,
    "lenVar": 40
   },
   "kernels_config": {
    "python": {
     "delete_cmd_postfix": "",
     "delete_cmd_prefix": "del ",
     "library": "var_list.py",
     "varRefreshCmd": "print(var_dic_list())"
    },
    "r": {
     "delete_cmd_postfix": ") ",
     "delete_cmd_prefix": "rm(",
     "library": "var_list.r",
     "varRefreshCmd": "cat(var_dic_list()) "
    }
   },
   "types_to_exclude": [
    "module",
    "function",
    "builtin_function_or_method",
    "instance",
    "_Feature"
   ],
   "window_display": false
  }
 },
 "nbformat": 4,
 "nbformat_minor": 5
}
