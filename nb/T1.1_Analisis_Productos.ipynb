{
 "cells": [
  {
   "cell_type": "markdown",
   "id": "8c0f5ae9",
   "metadata": {
    "toc": true
   },
   "source": [
    "<h1>Table of Contents<span class=\"tocSkip\"></span></h1>\n",
    "<div class=\"toc\"><ul class=\"toc-item\"><li><span><a href=\"#EasyMoney---Data\" data-toc-modified-id=\"EasyMoney---Data-1\"><span class=\"toc-item-num\">1&nbsp;&nbsp;</span>EasyMoney - Data</a></span></li><li><span><a href=\"#Librerías\" data-toc-modified-id=\"Librerías-2\"><span class=\"toc-item-num\">2&nbsp;&nbsp;</span>Librerías</a></span></li><li><span><a href=\"#Cargar-datos\" data-toc-modified-id=\"Cargar-datos-3\"><span class=\"toc-item-num\">3&nbsp;&nbsp;</span>Cargar datos</a></span></li><li><span><a href=\"#Análisis---products_df\" data-toc-modified-id=\"Análisis---products_df-4\"><span class=\"toc-item-num\">4&nbsp;&nbsp;</span>Análisis - products_df</a></span><ul class=\"toc-item\"><li><span><a href=\"#Listado-de-productos-de-la-empresa\" data-toc-modified-id=\"Listado-de-productos-de-la-empresa-4.1\"><span class=\"toc-item-num\">4.1&nbsp;&nbsp;</span>Listado de productos de la empresa</a></span></li><li><span><a href=\"#Variables-descriptivas-de-los-productos-de-la-empresa\" data-toc-modified-id=\"Variables-descriptivas-de-los-productos-de-la-empresa-4.2\"><span class=\"toc-item-num\">4.2&nbsp;&nbsp;</span>Variables descriptivas de los productos de la empresa</a></span></li><li><span><a href=\"#Variables-del-dataset\" data-toc-modified-id=\"Variables-del-dataset-4.3\"><span class=\"toc-item-num\">4.3&nbsp;&nbsp;</span>Variables del dataset</a></span><ul class=\"toc-item\"><li><span><a href=\"#pk_partition\" data-toc-modified-id=\"pk_partition-4.3.1\"><span class=\"toc-item-num\">4.3.1&nbsp;&nbsp;</span>pk_partition</a></span></li><li><span><a href=\"#pk_cid\" data-toc-modified-id=\"pk_cid-4.3.2\"><span class=\"toc-item-num\">4.3.2&nbsp;&nbsp;</span>pk_cid</a></span></li></ul></li><li><span><a href=\"#Valores-nulos\" data-toc-modified-id=\"Valores-nulos-4.4\"><span class=\"toc-item-num\">4.4&nbsp;&nbsp;</span>Valores nulos</a></span></li><li><span><a href=\"#¿Cuando-se-pierde-un-cliente?\" data-toc-modified-id=\"¿Cuando-se-pierde-un-cliente?-4.5\"><span class=\"toc-item-num\">4.5&nbsp;&nbsp;</span>¿Cuando se pierde un cliente?</a></span></li><li><span><a href=\"#Número-de-clientes-por-fecha\" data-toc-modified-id=\"Número-de-clientes-por-fecha-4.6\"><span class=\"toc-item-num\">4.6&nbsp;&nbsp;</span>Número de clientes por fecha</a></span></li><li><span><a href=\"#Visualización-clientes\" data-toc-modified-id=\"Visualización-clientes-4.7\"><span class=\"toc-item-num\">4.7&nbsp;&nbsp;</span>Visualización clientes</a></span></li><li><span><a href=\"#Valoración-de-clientes\" data-toc-modified-id=\"Valoración-de-clientes-4.8\"><span class=\"toc-item-num\">4.8&nbsp;&nbsp;</span>Valoración de clientes</a></span></li><li><span><a href=\"#Seguimiento-clientes\" data-toc-modified-id=\"Seguimiento-clientes-4.9\"><span class=\"toc-item-num\">4.9&nbsp;&nbsp;</span>Seguimiento clientes</a></span></li></ul></li></ul></div>"
   ]
  },
  {
   "cell_type": "markdown",
   "id": "5fb4b5ae",
   "metadata": {},
   "source": [
    "<center><span style=\"background-color: rgb(251, 160, 38); font-size: 32px;\">  <b>NUCLIO DIGITAL SCHOOL -</b> MASTER EN DATA SCIENCE  </span></center>\n",
    "    \n",
    "<br>\n",
    "    \n",
    "<center><a href = https://nuclio.school/wp-content/uploads/2019/10/nucleoDS-newBlack.png > <img src=\"https://nuclio.school/wp-content/uploads/2019/10/nucleoDS-newBlack.png\" width=400 height=100><a/></center>\n",
    "    \n",
    "<hr style=\"height:5px;border-width:0;color:orange;background-color:orange\">\n",
    "<center> <span style=\"font-size: 26px;\">  <b>Proyecto Final de Máster - EasyMoney </span> </center>\n",
    "\n",
    "+ Sesion: **Análisis de datos**\n",
    "+ Bloque: **Trabajo Fin de Máster**\n",
    "+ Curso: **Data Science Madrid 0521**\n",
    "+ Alumno 1: **Sergio Masa Avís**\n",
    "+ Alumno 2: **María Andreu**\n",
    "\n",
    "<br>\n",
    "\n",
    "<hr style=\"height:5px;border-width:0;color:orange;background-color:orange\">"
   ]
  },
  {
   "cell_type": "markdown",
   "id": "4c0a2a03",
   "metadata": {},
   "source": [
    "## EasyMoney - Data\n",
    "\n",
    "\n",
    "En el directorio data/ se encuentran tres fuentes de información almacenadas en formato csv:\n",
    "- products_df\n",
    "- sociodemographic_df\n",
    "- commercial_activity\n",
    "\n",
    "A continuación, se muestra la descripción proporcionada de los datos proporcionada por el Director de IT de EasyMoney\n",
    "\n",
    "<img src=\"img/data_description.png\" width=\"800\" height=\"400\">"
   ]
  },
  {
   "cell_type": "markdown",
   "id": "ee960ebb",
   "metadata": {},
   "source": [
    "<hr style=\"height:5px;border-width:0;color:orange;background-color:orange\">"
   ]
  },
  {
   "cell_type": "markdown",
   "id": "40b9bd84",
   "metadata": {},
   "source": [
    "## Librerías"
   ]
  },
  {
   "cell_type": "code",
   "execution_count": 1,
   "id": "f0da8e70",
   "metadata": {
    "ExecuteTime": {
     "end_time": "2021-08-17T16:44:48.261472Z",
     "start_time": "2021-08-17T16:44:47.266800Z"
    }
   },
   "outputs": [
    {
     "data": {
      "text/html": [
       "        <script type=\"text/javascript\">\n",
       "        window.PlotlyConfig = {MathJaxConfig: 'local'};\n",
       "        if (window.MathJax) {MathJax.Hub.Config({SVG: {font: \"STIX-Web\"}});}\n",
       "        if (typeof require !== 'undefined') {\n",
       "        require.undef(\"plotly\");\n",
       "        requirejs.config({\n",
       "            paths: {\n",
       "                'plotly': ['https://cdn.plot.ly/plotly-2.2.0.min']\n",
       "            }\n",
       "        });\n",
       "        require(['plotly'], function(Plotly) {\n",
       "            window._Plotly = Plotly;\n",
       "        });\n",
       "        }\n",
       "        </script>\n",
       "        "
      ]
     },
     "metadata": {},
     "output_type": "display_data"
    }
   ],
   "source": [
    "import numpy as np \n",
    "import pandas as pd\n",
    "\n",
    "# Visualización\n",
    "import matplotlib.pyplot as plt\n",
    "import matplotlib.dates as mdates\n",
    "import seaborn as sns\n",
    "import plotly.express as px\n",
    "from plotly.offline import init_notebook_mode, iplot\n",
    "import warnings\n",
    "from IPython.display import Image\n",
    "from plotly.subplots import make_subplots\n",
    "import plotly.graph_objects as go\n",
    "\n",
    "# Parámetros de visualización\n",
    "init_notebook_mode(connected=True)  \n",
    "warnings.filterwarnings(\"ignore\")\n",
    "pd.options.display.float_format = '{:,.3f}'.format"
   ]
  },
  {
   "cell_type": "markdown",
   "id": "ddf9ea93",
   "metadata": {},
   "source": [
    "<hr style=\"height:5px;border-width:0;color:orange;background-color:orange\">"
   ]
  },
  {
   "cell_type": "markdown",
   "id": "1d8fe17e",
   "metadata": {},
   "source": [
    "## Cargar datos\n",
    "\n",
    "__Descripción de variables del dataset.__\n",
    "\n",
    "| Variable | Descripción |\n",
    "| --- | --- |\n",
    "| pk_cid | Identificador de cliente |\n",
    "| pk_partition | Fecha de ingesta de los datos |\n",
    "| credit_card | Tarjetas de crédito |\n",
    "| debit_card | Tarjetas de débito |\n",
    "| em_acount | Cuenta easyMoney |\n",
    "| em_account_p | Cuenta easyMoney+ |\n",
    "| em_account_pp | Cuenta easyMoney++ |\n",
    "| emc_account | Cuenta easyMoney Crypto |\n",
    "| funds | Fondos de inversión |\n",
    "| loans | Préstamos |\n",
    "| long_term_deposit | Depósitos a largo plazo |\n",
    "| securities | Valores |\n",
    "| short_term_deposit | Depósitos a corto plazo |\n",
    "| mortgage | Mortgage |\n",
    "| payroll | Domiciliaciones |\n",
    "| payroll_account | Cuenta bonificada por domiciliaciones |\n",
    "| pension_plan | Plan de pensiones |"
   ]
  },
  {
   "cell_type": "code",
   "execution_count": 2,
   "id": "4edb23ab",
   "metadata": {
    "ExecuteTime": {
     "end_time": "2021-08-17T16:50:07.486351Z",
     "start_time": "2021-08-17T16:49:56.856993Z"
    }
   },
   "outputs": [],
   "source": [
    "df_products = pd.read_csv('data/products_df.csv', sep=',', encoding='utf-8-sig')\n",
    "df_products.drop('Unnamed: 0', axis=1, inplace=True)\n",
    "\n",
    "# Añadir formato adeacuado a las columnas\n",
    "df_products['pk_partition'] = pd.to_datetime(df_products['pk_partition'], format='%Y-%m-%d')\n",
    "df_products['pk_cid'] = df_products['pk_cid'].apply(str)\n",
    "\n",
    "# Rename\n",
    "df_products.rename({'em_acount':'em_account'}, axis=1,inplace=True)"
   ]
  },
  {
   "cell_type": "code",
   "execution_count": 3,
   "id": "fcc73a51",
   "metadata": {
    "ExecuteTime": {
     "end_time": "2021-08-17T16:50:07.526286Z",
     "start_time": "2021-08-17T16:50:07.520015Z"
    }
   },
   "outputs": [
    {
     "name": "stdout",
     "output_type": "stream",
     "text": [
      "Tamaño del dataset:\n",
      "\n",
      "Samples: 5962924\n",
      "Features: 17\n"
     ]
    }
   ],
   "source": [
    "print('Tamaño del dataset:',end=2*'\\n')\n",
    "print(f'Samples: {df_products.shape[0]}')\n",
    "print(f'Features: {df_products.shape[1]}')"
   ]
  },
  {
   "cell_type": "code",
   "execution_count": 4,
   "id": "4cb7cfaf",
   "metadata": {
    "ExecuteTime": {
     "end_time": "2021-08-17T16:50:07.552400Z",
     "start_time": "2021-08-17T16:50:07.547650Z"
    }
   },
   "outputs": [
    {
     "data": {
      "text/plain": [
       "['credit_card',\n",
       " 'debit_card',\n",
       " 'em_account',\n",
       " 'em_account_p',\n",
       " 'em_account_pp',\n",
       " 'emc_account',\n",
       " 'funds',\n",
       " 'loans',\n",
       " 'long_term_deposit',\n",
       " 'mortgage',\n",
       " 'payroll',\n",
       " 'payroll_account',\n",
       " 'pension_plan',\n",
       " 'pk_cid',\n",
       " 'pk_partition',\n",
       " 'securities',\n",
       " 'short_term_deposit']"
      ]
     },
     "execution_count": 4,
     "metadata": {},
     "output_type": "execute_result"
    }
   ],
   "source": [
    "sorted(df_products.columns.to_list())"
   ]
  },
  {
   "cell_type": "code",
   "execution_count": 5,
   "id": "5f6184f5",
   "metadata": {
    "ExecuteTime": {
     "end_time": "2021-08-17T16:50:07.615831Z",
     "start_time": "2021-08-17T16:50:07.607335Z"
    },
    "run_control": {
     "marked": false
    }
   },
   "outputs": [
    {
     "name": "stdout",
     "output_type": "stream",
     "text": [
      "<class 'pandas.core.frame.DataFrame'>\n",
      "RangeIndex: 5962924 entries, 0 to 5962923\n",
      "Data columns (total 17 columns):\n",
      " #   Column              Dtype         \n",
      "---  ------              -----         \n",
      " 0   pk_cid              object        \n",
      " 1   pk_partition        datetime64[ns]\n",
      " 2   short_term_deposit  int64         \n",
      " 3   loans               int64         \n",
      " 4   mortgage            int64         \n",
      " 5   funds               int64         \n",
      " 6   securities          int64         \n",
      " 7   long_term_deposit   int64         \n",
      " 8   em_account_pp       int64         \n",
      " 9   credit_card         int64         \n",
      " 10  payroll             float64       \n",
      " 11  pension_plan        float64       \n",
      " 12  payroll_account     int64         \n",
      " 13  emc_account         int64         \n",
      " 14  debit_card          int64         \n",
      " 15  em_account_p        int64         \n",
      " 16  em_account          int64         \n",
      "dtypes: datetime64[ns](1), float64(2), int64(13), object(1)\n",
      "memory usage: 773.4+ MB\n"
     ]
    }
   ],
   "source": [
    "df_products.info()"
   ]
  },
  {
   "cell_type": "code",
   "execution_count": 6,
   "id": "3ab02c44",
   "metadata": {
    "ExecuteTime": {
     "end_time": "2021-08-17T16:50:07.922319Z",
     "start_time": "2021-08-17T16:50:07.651590Z"
    }
   },
   "outputs": [
    {
     "data": {
      "text/html": [
       "<div>\n",
       "<style scoped>\n",
       "    .dataframe tbody tr th:only-of-type {\n",
       "        vertical-align: middle;\n",
       "    }\n",
       "\n",
       "    .dataframe tbody tr th {\n",
       "        vertical-align: top;\n",
       "    }\n",
       "\n",
       "    .dataframe thead th {\n",
       "        text-align: right;\n",
       "    }\n",
       "</style>\n",
       "<table border=\"1\" class=\"dataframe\">\n",
       "  <thead>\n",
       "    <tr style=\"text-align: right;\">\n",
       "      <th></th>\n",
       "      <th>pk_cid</th>\n",
       "      <th>pk_partition</th>\n",
       "      <th>short_term_deposit</th>\n",
       "      <th>loans</th>\n",
       "      <th>mortgage</th>\n",
       "      <th>funds</th>\n",
       "      <th>securities</th>\n",
       "      <th>long_term_deposit</th>\n",
       "      <th>em_account_pp</th>\n",
       "      <th>credit_card</th>\n",
       "      <th>payroll</th>\n",
       "      <th>pension_plan</th>\n",
       "      <th>payroll_account</th>\n",
       "      <th>emc_account</th>\n",
       "      <th>debit_card</th>\n",
       "      <th>em_account_p</th>\n",
       "      <th>em_account</th>\n",
       "    </tr>\n",
       "  </thead>\n",
       "  <tbody>\n",
       "    <tr>\n",
       "      <th>860934</th>\n",
       "      <td>1271144</td>\n",
       "      <td>2018-04-28</td>\n",
       "      <td>0</td>\n",
       "      <td>0</td>\n",
       "      <td>0</td>\n",
       "      <td>0</td>\n",
       "      <td>0</td>\n",
       "      <td>0</td>\n",
       "      <td>0</td>\n",
       "      <td>0</td>\n",
       "      <td>0.000</td>\n",
       "      <td>0.000</td>\n",
       "      <td>0</td>\n",
       "      <td>0</td>\n",
       "      <td>0</td>\n",
       "      <td>0</td>\n",
       "      <td>1</td>\n",
       "    </tr>\n",
       "    <tr>\n",
       "      <th>5953617</th>\n",
       "      <td>1156165</td>\n",
       "      <td>2019-05-28</td>\n",
       "      <td>0</td>\n",
       "      <td>0</td>\n",
       "      <td>0</td>\n",
       "      <td>0</td>\n",
       "      <td>0</td>\n",
       "      <td>0</td>\n",
       "      <td>0</td>\n",
       "      <td>0</td>\n",
       "      <td>0.000</td>\n",
       "      <td>0.000</td>\n",
       "      <td>0</td>\n",
       "      <td>0</td>\n",
       "      <td>0</td>\n",
       "      <td>0</td>\n",
       "      <td>1</td>\n",
       "    </tr>\n",
       "    <tr>\n",
       "      <th>3246280</th>\n",
       "      <td>1316078</td>\n",
       "      <td>2018-11-28</td>\n",
       "      <td>0</td>\n",
       "      <td>0</td>\n",
       "      <td>0</td>\n",
       "      <td>0</td>\n",
       "      <td>0</td>\n",
       "      <td>0</td>\n",
       "      <td>0</td>\n",
       "      <td>0</td>\n",
       "      <td>0.000</td>\n",
       "      <td>0.000</td>\n",
       "      <td>0</td>\n",
       "      <td>0</td>\n",
       "      <td>0</td>\n",
       "      <td>0</td>\n",
       "      <td>1</td>\n",
       "    </tr>\n",
       "    <tr>\n",
       "      <th>314322</th>\n",
       "      <td>1176951</td>\n",
       "      <td>2018-02-28</td>\n",
       "      <td>0</td>\n",
       "      <td>0</td>\n",
       "      <td>0</td>\n",
       "      <td>0</td>\n",
       "      <td>0</td>\n",
       "      <td>0</td>\n",
       "      <td>0</td>\n",
       "      <td>0</td>\n",
       "      <td>1.000</td>\n",
       "      <td>1.000</td>\n",
       "      <td>1</td>\n",
       "      <td>0</td>\n",
       "      <td>1</td>\n",
       "      <td>0</td>\n",
       "      <td>0</td>\n",
       "    </tr>\n",
       "    <tr>\n",
       "      <th>760302</th>\n",
       "      <td>1234645</td>\n",
       "      <td>2018-04-28</td>\n",
       "      <td>0</td>\n",
       "      <td>0</td>\n",
       "      <td>0</td>\n",
       "      <td>0</td>\n",
       "      <td>0</td>\n",
       "      <td>0</td>\n",
       "      <td>0</td>\n",
       "      <td>0</td>\n",
       "      <td>0.000</td>\n",
       "      <td>0.000</td>\n",
       "      <td>0</td>\n",
       "      <td>0</td>\n",
       "      <td>0</td>\n",
       "      <td>0</td>\n",
       "      <td>1</td>\n",
       "    </tr>\n",
       "    <tr>\n",
       "      <th>1915795</th>\n",
       "      <td>1270463</td>\n",
       "      <td>2018-08-28</td>\n",
       "      <td>0</td>\n",
       "      <td>0</td>\n",
       "      <td>0</td>\n",
       "      <td>0</td>\n",
       "      <td>0</td>\n",
       "      <td>0</td>\n",
       "      <td>0</td>\n",
       "      <td>0</td>\n",
       "      <td>0.000</td>\n",
       "      <td>0.000</td>\n",
       "      <td>0</td>\n",
       "      <td>0</td>\n",
       "      <td>0</td>\n",
       "      <td>0</td>\n",
       "      <td>1</td>\n",
       "    </tr>\n",
       "    <tr>\n",
       "      <th>4678385</th>\n",
       "      <td>1411766</td>\n",
       "      <td>2019-03-28</td>\n",
       "      <td>0</td>\n",
       "      <td>0</td>\n",
       "      <td>0</td>\n",
       "      <td>0</td>\n",
       "      <td>0</td>\n",
       "      <td>0</td>\n",
       "      <td>0</td>\n",
       "      <td>0</td>\n",
       "      <td>0.000</td>\n",
       "      <td>0.000</td>\n",
       "      <td>0</td>\n",
       "      <td>0</td>\n",
       "      <td>0</td>\n",
       "      <td>0</td>\n",
       "      <td>1</td>\n",
       "    </tr>\n",
       "    <tr>\n",
       "      <th>4724141</th>\n",
       "      <td>1516031</td>\n",
       "      <td>2019-03-28</td>\n",
       "      <td>0</td>\n",
       "      <td>0</td>\n",
       "      <td>0</td>\n",
       "      <td>0</td>\n",
       "      <td>0</td>\n",
       "      <td>0</td>\n",
       "      <td>0</td>\n",
       "      <td>0</td>\n",
       "      <td>0.000</td>\n",
       "      <td>0.000</td>\n",
       "      <td>0</td>\n",
       "      <td>0</td>\n",
       "      <td>0</td>\n",
       "      <td>0</td>\n",
       "      <td>1</td>\n",
       "    </tr>\n",
       "    <tr>\n",
       "      <th>4724204</th>\n",
       "      <td>1515781</td>\n",
       "      <td>2019-03-28</td>\n",
       "      <td>0</td>\n",
       "      <td>0</td>\n",
       "      <td>0</td>\n",
       "      <td>0</td>\n",
       "      <td>0</td>\n",
       "      <td>0</td>\n",
       "      <td>0</td>\n",
       "      <td>0</td>\n",
       "      <td>0.000</td>\n",
       "      <td>0.000</td>\n",
       "      <td>0</td>\n",
       "      <td>0</td>\n",
       "      <td>0</td>\n",
       "      <td>0</td>\n",
       "      <td>1</td>\n",
       "    </tr>\n",
       "    <tr>\n",
       "      <th>987120</th>\n",
       "      <td>1076984</td>\n",
       "      <td>2018-05-28</td>\n",
       "      <td>0</td>\n",
       "      <td>0</td>\n",
       "      <td>0</td>\n",
       "      <td>0</td>\n",
       "      <td>0</td>\n",
       "      <td>0</td>\n",
       "      <td>0</td>\n",
       "      <td>0</td>\n",
       "      <td>0.000</td>\n",
       "      <td>0.000</td>\n",
       "      <td>0</td>\n",
       "      <td>0</td>\n",
       "      <td>0</td>\n",
       "      <td>0</td>\n",
       "      <td>1</td>\n",
       "    </tr>\n",
       "  </tbody>\n",
       "</table>\n",
       "</div>"
      ],
      "text/plain": [
       "          pk_cid pk_partition  short_term_deposit  loans  mortgage  funds  \\\n",
       "860934   1271144   2018-04-28                   0      0         0      0   \n",
       "5953617  1156165   2019-05-28                   0      0         0      0   \n",
       "3246280  1316078   2018-11-28                   0      0         0      0   \n",
       "314322   1176951   2018-02-28                   0      0         0      0   \n",
       "760302   1234645   2018-04-28                   0      0         0      0   \n",
       "1915795  1270463   2018-08-28                   0      0         0      0   \n",
       "4678385  1411766   2019-03-28                   0      0         0      0   \n",
       "4724141  1516031   2019-03-28                   0      0         0      0   \n",
       "4724204  1515781   2019-03-28                   0      0         0      0   \n",
       "987120   1076984   2018-05-28                   0      0         0      0   \n",
       "\n",
       "         securities  long_term_deposit  em_account_pp  credit_card  payroll  \\\n",
       "860934            0                  0              0            0    0.000   \n",
       "5953617           0                  0              0            0    0.000   \n",
       "3246280           0                  0              0            0    0.000   \n",
       "314322            0                  0              0            0    1.000   \n",
       "760302            0                  0              0            0    0.000   \n",
       "1915795           0                  0              0            0    0.000   \n",
       "4678385           0                  0              0            0    0.000   \n",
       "4724141           0                  0              0            0    0.000   \n",
       "4724204           0                  0              0            0    0.000   \n",
       "987120            0                  0              0            0    0.000   \n",
       "\n",
       "         pension_plan  payroll_account  emc_account  debit_card  em_account_p  \\\n",
       "860934          0.000                0            0           0             0   \n",
       "5953617         0.000                0            0           0             0   \n",
       "3246280         0.000                0            0           0             0   \n",
       "314322          1.000                1            0           1             0   \n",
       "760302          0.000                0            0           0             0   \n",
       "1915795         0.000                0            0           0             0   \n",
       "4678385         0.000                0            0           0             0   \n",
       "4724141         0.000                0            0           0             0   \n",
       "4724204         0.000                0            0           0             0   \n",
       "987120          0.000                0            0           0             0   \n",
       "\n",
       "         em_account  \n",
       "860934            1  \n",
       "5953617           1  \n",
       "3246280           1  \n",
       "314322            0  \n",
       "760302            1  \n",
       "1915795           1  \n",
       "4678385           1  \n",
       "4724141           1  \n",
       "4724204           1  \n",
       "987120            1  "
      ]
     },
     "execution_count": 6,
     "metadata": {},
     "output_type": "execute_result"
    }
   ],
   "source": [
    "df_products.sample(10)"
   ]
  },
  {
   "cell_type": "markdown",
   "id": "1e28b54e",
   "metadata": {},
   "source": [
    "<hr style=\"height:5px;border-width:0;color:orange;background-color:orange\">"
   ]
  },
  {
   "cell_type": "markdown",
   "id": "8c233427",
   "metadata": {},
   "source": [
    "## Análisis - products_df\n",
    "\n",
    "<img src=\"img/tarea_1_analisis.png\" width=\"600\" height=\"300\">\n"
   ]
  },
  {
   "cell_type": "markdown",
   "id": "01474e3d",
   "metadata": {},
   "source": [
    "### Listado de productos de la empresa"
   ]
  },
  {
   "cell_type": "code",
   "execution_count": 7,
   "id": "122bd8c4",
   "metadata": {
    "ExecuteTime": {
     "end_time": "2021-08-17T16:50:08.666450Z",
     "start_time": "2021-08-17T16:50:07.954551Z"
    }
   },
   "outputs": [
    {
     "name": "stdout",
     "output_type": "stream",
     "text": [
      "Productos disponibles: 15\n",
      "\n",
      "\t-short_term_deposit\n",
      "\t-loans\n",
      "\t-mortgage\n",
      "\t-funds\n",
      "\t-securities\n",
      "\t-long_term_deposit\n",
      "\t-em_account_pp\n",
      "\t-credit_card\n",
      "\t-payroll\n",
      "\t-pension_plan\n",
      "\t-payroll_account\n",
      "\t-emc_account\n",
      "\t-debit_card\n",
      "\t-em_account_p\n",
      "\t-em_account\n"
     ]
    }
   ],
   "source": [
    "def listar_productos(df):\n",
    "    \"\"\"\n",
    "    Listar productos disponibles.\n",
    "    \"\"\"\n",
    "    productos = df.drop(['pk_cid', 'pk_partition'], axis=1).columns.to_list()\n",
    "    print(f\"Productos disponibles: {len(productos)}\",end=2*'\\n')\n",
    "    for p in productos:\n",
    "        print(f'\\t-{p}')\n",
    "        \n",
    "listar_productos(df_products)"
   ]
  },
  {
   "cell_type": "markdown",
   "id": "ea1c92f4",
   "metadata": {},
   "source": [
    "### Variables descriptivas de los productos de la empresa"
   ]
  },
  {
   "cell_type": "code",
   "execution_count": 8,
   "id": "efea6f59",
   "metadata": {
    "ExecuteTime": {
     "end_time": "2021-08-17T16:50:10.310141Z",
     "start_time": "2021-08-17T16:50:08.691242Z"
    }
   },
   "outputs": [
    {
     "data": {
      "text/html": [
       "<div>\n",
       "<style scoped>\n",
       "    .dataframe tbody tr th:only-of-type {\n",
       "        vertical-align: middle;\n",
       "    }\n",
       "\n",
       "    .dataframe tbody tr th {\n",
       "        vertical-align: top;\n",
       "    }\n",
       "\n",
       "    .dataframe thead th {\n",
       "        text-align: right;\n",
       "    }\n",
       "</style>\n",
       "<table border=\"1\" class=\"dataframe\">\n",
       "  <thead>\n",
       "    <tr style=\"text-align: right;\">\n",
       "      <th></th>\n",
       "      <th>count</th>\n",
       "      <th>mean</th>\n",
       "      <th>std</th>\n",
       "      <th>min</th>\n",
       "      <th>25%</th>\n",
       "      <th>50%</th>\n",
       "      <th>75%</th>\n",
       "      <th>max</th>\n",
       "    </tr>\n",
       "  </thead>\n",
       "  <tbody>\n",
       "    <tr>\n",
       "      <th>em_account</th>\n",
       "      <td>5,962,924.000</td>\n",
       "      <td>0.735</td>\n",
       "      <td>0.441</td>\n",
       "      <td>0.000</td>\n",
       "      <td>0.000</td>\n",
       "      <td>1.000</td>\n",
       "      <td>1.000</td>\n",
       "      <td>1.000</td>\n",
       "    </tr>\n",
       "    <tr>\n",
       "      <th>debit_card</th>\n",
       "      <td>5,962,924.000</td>\n",
       "      <td>0.094</td>\n",
       "      <td>0.292</td>\n",
       "      <td>0.000</td>\n",
       "      <td>0.000</td>\n",
       "      <td>0.000</td>\n",
       "      <td>0.000</td>\n",
       "      <td>1.000</td>\n",
       "    </tr>\n",
       "    <tr>\n",
       "      <th>payroll_account</th>\n",
       "      <td>5,962,924.000</td>\n",
       "      <td>0.055</td>\n",
       "      <td>0.228</td>\n",
       "      <td>0.000</td>\n",
       "      <td>0.000</td>\n",
       "      <td>0.000</td>\n",
       "      <td>0.000</td>\n",
       "      <td>1.000</td>\n",
       "    </tr>\n",
       "    <tr>\n",
       "      <th>emc_account</th>\n",
       "      <td>5,962,924.000</td>\n",
       "      <td>0.055</td>\n",
       "      <td>0.228</td>\n",
       "      <td>0.000</td>\n",
       "      <td>0.000</td>\n",
       "      <td>0.000</td>\n",
       "      <td>0.000</td>\n",
       "      <td>1.000</td>\n",
       "    </tr>\n",
       "    <tr>\n",
       "      <th>pension_plan</th>\n",
       "      <td>5,962,863.000</td>\n",
       "      <td>0.037</td>\n",
       "      <td>0.188</td>\n",
       "      <td>0.000</td>\n",
       "      <td>0.000</td>\n",
       "      <td>0.000</td>\n",
       "      <td>0.000</td>\n",
       "      <td>1.000</td>\n",
       "    </tr>\n",
       "    <tr>\n",
       "      <th>payroll</th>\n",
       "      <td>5,962,863.000</td>\n",
       "      <td>0.035</td>\n",
       "      <td>0.183</td>\n",
       "      <td>0.000</td>\n",
       "      <td>0.000</td>\n",
       "      <td>0.000</td>\n",
       "      <td>0.000</td>\n",
       "      <td>1.000</td>\n",
       "    </tr>\n",
       "    <tr>\n",
       "      <th>long_term_deposit</th>\n",
       "      <td>5,962,924.000</td>\n",
       "      <td>0.017</td>\n",
       "      <td>0.129</td>\n",
       "      <td>0.000</td>\n",
       "      <td>0.000</td>\n",
       "      <td>0.000</td>\n",
       "      <td>0.000</td>\n",
       "      <td>1.000</td>\n",
       "    </tr>\n",
       "    <tr>\n",
       "      <th>credit_card</th>\n",
       "      <td>5,962,924.000</td>\n",
       "      <td>0.012</td>\n",
       "      <td>0.108</td>\n",
       "      <td>0.000</td>\n",
       "      <td>0.000</td>\n",
       "      <td>0.000</td>\n",
       "      <td>0.000</td>\n",
       "      <td>1.000</td>\n",
       "    </tr>\n",
       "    <tr>\n",
       "      <th>securities</th>\n",
       "      <td>5,962,924.000</td>\n",
       "      <td>0.004</td>\n",
       "      <td>0.061</td>\n",
       "      <td>0.000</td>\n",
       "      <td>0.000</td>\n",
       "      <td>0.000</td>\n",
       "      <td>0.000</td>\n",
       "      <td>1.000</td>\n",
       "    </tr>\n",
       "    <tr>\n",
       "      <th>funds</th>\n",
       "      <td>5,962,924.000</td>\n",
       "      <td>0.003</td>\n",
       "      <td>0.058</td>\n",
       "      <td>0.000</td>\n",
       "      <td>0.000</td>\n",
       "      <td>0.000</td>\n",
       "      <td>0.000</td>\n",
       "      <td>1.000</td>\n",
       "    </tr>\n",
       "    <tr>\n",
       "      <th>short_term_deposit</th>\n",
       "      <td>5,962,924.000</td>\n",
       "      <td>0.003</td>\n",
       "      <td>0.051</td>\n",
       "      <td>0.000</td>\n",
       "      <td>0.000</td>\n",
       "      <td>0.000</td>\n",
       "      <td>0.000</td>\n",
       "      <td>1.000</td>\n",
       "    </tr>\n",
       "    <tr>\n",
       "      <th>loans</th>\n",
       "      <td>5,962,924.000</td>\n",
       "      <td>0.000</td>\n",
       "      <td>0.009</td>\n",
       "      <td>0.000</td>\n",
       "      <td>0.000</td>\n",
       "      <td>0.000</td>\n",
       "      <td>0.000</td>\n",
       "      <td>1.000</td>\n",
       "    </tr>\n",
       "    <tr>\n",
       "      <th>mortgage</th>\n",
       "      <td>5,962,924.000</td>\n",
       "      <td>0.000</td>\n",
       "      <td>0.007</td>\n",
       "      <td>0.000</td>\n",
       "      <td>0.000</td>\n",
       "      <td>0.000</td>\n",
       "      <td>0.000</td>\n",
       "      <td>1.000</td>\n",
       "    </tr>\n",
       "    <tr>\n",
       "      <th>em_account_p</th>\n",
       "      <td>5,962,924.000</td>\n",
       "      <td>0.000</td>\n",
       "      <td>0.002</td>\n",
       "      <td>0.000</td>\n",
       "      <td>0.000</td>\n",
       "      <td>0.000</td>\n",
       "      <td>0.000</td>\n",
       "      <td>1.000</td>\n",
       "    </tr>\n",
       "    <tr>\n",
       "      <th>em_account_pp</th>\n",
       "      <td>5,962,924.000</td>\n",
       "      <td>0.000</td>\n",
       "      <td>0.000</td>\n",
       "      <td>0.000</td>\n",
       "      <td>0.000</td>\n",
       "      <td>0.000</td>\n",
       "      <td>0.000</td>\n",
       "      <td>0.000</td>\n",
       "    </tr>\n",
       "  </tbody>\n",
       "</table>\n",
       "</div>"
      ],
      "text/plain": [
       "                           count  mean   std   min   25%   50%   75%   max\n",
       "em_account         5,962,924.000 0.735 0.441 0.000 0.000 1.000 1.000 1.000\n",
       "debit_card         5,962,924.000 0.094 0.292 0.000 0.000 0.000 0.000 1.000\n",
       "payroll_account    5,962,924.000 0.055 0.228 0.000 0.000 0.000 0.000 1.000\n",
       "emc_account        5,962,924.000 0.055 0.228 0.000 0.000 0.000 0.000 1.000\n",
       "pension_plan       5,962,863.000 0.037 0.188 0.000 0.000 0.000 0.000 1.000\n",
       "payroll            5,962,863.000 0.035 0.183 0.000 0.000 0.000 0.000 1.000\n",
       "long_term_deposit  5,962,924.000 0.017 0.129 0.000 0.000 0.000 0.000 1.000\n",
       "credit_card        5,962,924.000 0.012 0.108 0.000 0.000 0.000 0.000 1.000\n",
       "securities         5,962,924.000 0.004 0.061 0.000 0.000 0.000 0.000 1.000\n",
       "funds              5,962,924.000 0.003 0.058 0.000 0.000 0.000 0.000 1.000\n",
       "short_term_deposit 5,962,924.000 0.003 0.051 0.000 0.000 0.000 0.000 1.000\n",
       "loans              5,962,924.000 0.000 0.009 0.000 0.000 0.000 0.000 1.000\n",
       "mortgage           5,962,924.000 0.000 0.007 0.000 0.000 0.000 0.000 1.000\n",
       "em_account_p       5,962,924.000 0.000 0.002 0.000 0.000 0.000 0.000 1.000\n",
       "em_account_pp      5,962,924.000 0.000 0.000 0.000 0.000 0.000 0.000 0.000"
      ]
     },
     "execution_count": 8,
     "metadata": {},
     "output_type": "execute_result"
    }
   ],
   "source": [
    "df_products.describe().T.sort_values('mean', ascending=False)"
   ]
  },
  {
   "cell_type": "markdown",
   "id": "e54f5147",
   "metadata": {},
   "source": [
    "__Como se comprueba, la cuenta \"easyMoneay ++ no tiene ningún cliente asociado__"
   ]
  },
  {
   "cell_type": "markdown",
   "id": "a674af34",
   "metadata": {},
   "source": [
    "### Variables del dataset"
   ]
  },
  {
   "cell_type": "markdown",
   "id": "8473c57f",
   "metadata": {},
   "source": [
    "#### pk_partition\n",
    "\n",
    "<img src=\"img/frank_director_IT.png\" width=\"600\" height=\"300\">\n",
    "\n",
    "¿Cuántos clientes se introducen al día?"
   ]
  },
  {
   "cell_type": "code",
   "execution_count": 9,
   "id": "93578dbb",
   "metadata": {
    "ExecuteTime": {
     "end_time": "2021-08-17T16:50:10.370781Z",
     "start_time": "2021-08-17T16:50:10.328887Z"
    }
   },
   "outputs": [
    {
     "name": "stdout",
     "output_type": "stream",
     "text": [
      "Número de particiones del histórico: 17\n"
     ]
    }
   ],
   "source": [
    "n_particiones = df_products.pk_partition.value_counts().shape[0]\n",
    "print(f'Número de particiones del histórico: {n_particiones}')"
   ]
  },
  {
   "cell_type": "markdown",
   "id": "7b00b408",
   "metadata": {},
   "source": [
    "#### pk_cid"
   ]
  },
  {
   "cell_type": "code",
   "execution_count": 10,
   "id": "675a445a",
   "metadata": {
    "ExecuteTime": {
     "end_time": "2021-08-17T16:50:10.903381Z",
     "start_time": "2021-08-17T16:50:10.403609Z"
    }
   },
   "outputs": [
    {
     "name": "stdout",
     "output_type": "stream",
     "text": [
      "Nº clientes: 456373\n"
     ]
    }
   ],
   "source": [
    "clients_id = list(df_products.pk_cid.unique())\n",
    "print(f'Nº clientes: {len(clients_id)}')"
   ]
  },
  {
   "cell_type": "markdown",
   "id": "0fd47c76",
   "metadata": {},
   "source": [
    "### Valores nulos"
   ]
  },
  {
   "cell_type": "code",
   "execution_count": 11,
   "id": "c310aa4d",
   "metadata": {
    "ExecuteTime": {
     "end_time": "2021-08-17T16:50:11.325676Z",
     "start_time": "2021-08-17T16:50:10.978581Z"
    }
   },
   "outputs": [
    {
     "name": "stdout",
     "output_type": "stream",
     "text": [
      "Valores nulos:\n",
      "\n",
      "pk_cid                 0\n",
      "pk_partition           0\n",
      "short_term_deposit     0\n",
      "loans                  0\n",
      "mortgage               0\n",
      "funds                  0\n",
      "securities             0\n",
      "long_term_deposit      0\n",
      "em_account_pp          0\n",
      "credit_card            0\n",
      "payroll               61\n",
      "pension_plan          61\n",
      "payroll_account        0\n",
      "emc_account            0\n",
      "debit_card             0\n",
      "em_account_p           0\n",
      "em_account             0\n",
      "dtype: int64\n"
     ]
    }
   ],
   "source": [
    "print('Valores nulos:', df_products.isna().sum(), sep=2*'\\n')"
   ]
  },
  {
   "cell_type": "code",
   "execution_count": 12,
   "id": "d9bf795f",
   "metadata": {
    "ExecuteTime": {
     "end_time": "2021-08-17T16:50:11.788215Z",
     "start_time": "2021-08-17T16:50:11.408649Z"
    }
   },
   "outputs": [
    {
     "name": "stdout",
     "output_type": "stream",
     "text": [
      "Valores nulos:\n",
      "\n",
      "pk_cid                0\n",
      "pk_partition          0\n",
      "short_term_deposit    0\n",
      "loans                 0\n",
      "mortgage              0\n",
      "funds                 0\n",
      "securities            0\n",
      "long_term_deposit     0\n",
      "em_account_pp         0\n",
      "credit_card           0\n",
      "payroll               0\n",
      "pension_plan          0\n",
      "payroll_account       0\n",
      "emc_account           0\n",
      "debit_card            0\n",
      "em_account_p          0\n",
      "em_account            0\n",
      "dtype: int64\n"
     ]
    }
   ],
   "source": [
    "# Asignar valores nulos a 0 (cliente no activo)\n",
    "df_products.loc[(df_products['payroll'].isna()), 'payroll'] = 0\n",
    "df_products.loc[(df_products['pension_plan'].isna()), 'pension_plan'] = 0\n",
    "\n",
    "print('Valores nulos:', df_products.isna().sum(), sep=2*'\\n')"
   ]
  },
  {
   "cell_type": "markdown",
   "id": "00351ac3",
   "metadata": {},
   "source": [
    "### ¿Cuando se pierde un cliente?\n",
    "\n",
    "- Opción 1. Cuando pasa de 1 a 0.\n",
    "- __Opción 2. Cuando desaparece de la bbdd__"
   ]
  },
  {
   "cell_type": "code",
   "execution_count": 13,
   "id": "7cec46ac",
   "metadata": {
    "ExecuteTime": {
     "end_time": "2021-08-17T16:50:12.128984Z",
     "start_time": "2021-08-17T16:50:11.875587Z"
    }
   },
   "outputs": [
    {
     "data": {
      "text/html": [
       "<div>\n",
       "<style scoped>\n",
       "    .dataframe tbody tr th:only-of-type {\n",
       "        vertical-align: middle;\n",
       "    }\n",
       "\n",
       "    .dataframe tbody tr th {\n",
       "        vertical-align: top;\n",
       "    }\n",
       "\n",
       "    .dataframe thead th {\n",
       "        text-align: right;\n",
       "    }\n",
       "</style>\n",
       "<table border=\"1\" class=\"dataframe\">\n",
       "  <thead>\n",
       "    <tr style=\"text-align: right;\">\n",
       "      <th></th>\n",
       "      <th>pk_cid</th>\n",
       "      <th>pk_partition</th>\n",
       "      <th>short_term_deposit</th>\n",
       "      <th>loans</th>\n",
       "      <th>mortgage</th>\n",
       "      <th>funds</th>\n",
       "      <th>securities</th>\n",
       "      <th>long_term_deposit</th>\n",
       "      <th>em_account_pp</th>\n",
       "      <th>credit_card</th>\n",
       "      <th>payroll</th>\n",
       "      <th>pension_plan</th>\n",
       "      <th>payroll_account</th>\n",
       "      <th>emc_account</th>\n",
       "      <th>debit_card</th>\n",
       "      <th>em_account_p</th>\n",
       "      <th>em_account</th>\n",
       "    </tr>\n",
       "  </thead>\n",
       "  <tbody>\n",
       "    <tr>\n",
       "      <th>4602637</th>\n",
       "      <td>1116759</td>\n",
       "      <td>2019-02-28</td>\n",
       "      <td>0</td>\n",
       "      <td>0</td>\n",
       "      <td>0</td>\n",
       "      <td>0</td>\n",
       "      <td>0</td>\n",
       "      <td>0</td>\n",
       "      <td>0</td>\n",
       "      <td>0</td>\n",
       "      <td>0.000</td>\n",
       "      <td>0.000</td>\n",
       "      <td>0</td>\n",
       "      <td>0</td>\n",
       "      <td>0</td>\n",
       "      <td>0</td>\n",
       "      <td>0</td>\n",
       "    </tr>\n",
       "    <tr>\n",
       "      <th>4907752</th>\n",
       "      <td>1172323</td>\n",
       "      <td>2019-03-28</td>\n",
       "      <td>0</td>\n",
       "      <td>0</td>\n",
       "      <td>0</td>\n",
       "      <td>0</td>\n",
       "      <td>0</td>\n",
       "      <td>0</td>\n",
       "      <td>0</td>\n",
       "      <td>0</td>\n",
       "      <td>0.000</td>\n",
       "      <td>0.000</td>\n",
       "      <td>0</td>\n",
       "      <td>0</td>\n",
       "      <td>0</td>\n",
       "      <td>0</td>\n",
       "      <td>1</td>\n",
       "    </tr>\n",
       "    <tr>\n",
       "      <th>4120838</th>\n",
       "      <td>1095066</td>\n",
       "      <td>2019-01-28</td>\n",
       "      <td>0</td>\n",
       "      <td>0</td>\n",
       "      <td>0</td>\n",
       "      <td>0</td>\n",
       "      <td>0</td>\n",
       "      <td>0</td>\n",
       "      <td>0</td>\n",
       "      <td>0</td>\n",
       "      <td>0.000</td>\n",
       "      <td>0.000</td>\n",
       "      <td>0</td>\n",
       "      <td>0</td>\n",
       "      <td>0</td>\n",
       "      <td>0</td>\n",
       "      <td>1</td>\n",
       "    </tr>\n",
       "    <tr>\n",
       "      <th>1951851</th>\n",
       "      <td>1440165</td>\n",
       "      <td>2018-08-28</td>\n",
       "      <td>0</td>\n",
       "      <td>0</td>\n",
       "      <td>0</td>\n",
       "      <td>0</td>\n",
       "      <td>0</td>\n",
       "      <td>0</td>\n",
       "      <td>0</td>\n",
       "      <td>0</td>\n",
       "      <td>0.000</td>\n",
       "      <td>0.000</td>\n",
       "      <td>0</td>\n",
       "      <td>0</td>\n",
       "      <td>0</td>\n",
       "      <td>0</td>\n",
       "      <td>0</td>\n",
       "    </tr>\n",
       "    <tr>\n",
       "      <th>5178547</th>\n",
       "      <td>1079579</td>\n",
       "      <td>2019-04-28</td>\n",
       "      <td>0</td>\n",
       "      <td>0</td>\n",
       "      <td>0</td>\n",
       "      <td>0</td>\n",
       "      <td>0</td>\n",
       "      <td>0</td>\n",
       "      <td>0</td>\n",
       "      <td>0</td>\n",
       "      <td>0.000</td>\n",
       "      <td>0.000</td>\n",
       "      <td>0</td>\n",
       "      <td>0</td>\n",
       "      <td>0</td>\n",
       "      <td>0</td>\n",
       "      <td>0</td>\n",
       "    </tr>\n",
       "  </tbody>\n",
       "</table>\n",
       "</div>"
      ],
      "text/plain": [
       "          pk_cid pk_partition  short_term_deposit  loans  mortgage  funds  \\\n",
       "4602637  1116759   2019-02-28                   0      0         0      0   \n",
       "4907752  1172323   2019-03-28                   0      0         0      0   \n",
       "4120838  1095066   2019-01-28                   0      0         0      0   \n",
       "1951851  1440165   2018-08-28                   0      0         0      0   \n",
       "5178547  1079579   2019-04-28                   0      0         0      0   \n",
       "\n",
       "         securities  long_term_deposit  em_account_pp  credit_card  payroll  \\\n",
       "4602637           0                  0              0            0    0.000   \n",
       "4907752           0                  0              0            0    0.000   \n",
       "4120838           0                  0              0            0    0.000   \n",
       "1951851           0                  0              0            0    0.000   \n",
       "5178547           0                  0              0            0    0.000   \n",
       "\n",
       "         pension_plan  payroll_account  emc_account  debit_card  em_account_p  \\\n",
       "4602637         0.000                0            0           0             0   \n",
       "4907752         0.000                0            0           0             0   \n",
       "4120838         0.000                0            0           0             0   \n",
       "1951851         0.000                0            0           0             0   \n",
       "5178547         0.000                0            0           0             0   \n",
       "\n",
       "         em_account  \n",
       "4602637           0  \n",
       "4907752           1  \n",
       "4120838           1  \n",
       "1951851           0  \n",
       "5178547           0  "
      ]
     },
     "execution_count": 13,
     "metadata": {},
     "output_type": "execute_result"
    }
   ],
   "source": [
    "df_products.sample(5)"
   ]
  },
  {
   "cell_type": "code",
   "execution_count": 15,
   "id": "57a55a67",
   "metadata": {
    "ExecuteTime": {
     "end_time": "2021-08-17T16:50:24.632674Z",
     "start_time": "2021-08-17T16:50:12.299565Z"
    },
    "scrolled": true
   },
   "outputs": [],
   "source": [
    "df_clientes = registro_clientes(df_products = df_products)\n",
    "df_clientes.to_csv('results/df_clientes.csv', sep=';', encoding='utf-8-sig', index=True)"
   ]
  },
  {
   "cell_type": "code",
   "execution_count": 20,
   "id": "8edee1c1",
   "metadata": {
    "ExecuteTime": {
     "end_time": "2021-08-17T16:50:40.509406Z",
     "start_time": "2021-08-17T16:50:40.483613Z"
    }
   },
   "outputs": [
    {
     "data": {
      "text/html": [
       "<div>\n",
       "<style scoped>\n",
       "    .dataframe tbody tr th:only-of-type {\n",
       "        vertical-align: middle;\n",
       "    }\n",
       "\n",
       "    .dataframe tbody tr th {\n",
       "        vertical-align: top;\n",
       "    }\n",
       "\n",
       "    .dataframe thead th {\n",
       "        text-align: right;\n",
       "    }\n",
       "</style>\n",
       "<table border=\"1\" class=\"dataframe\">\n",
       "  <thead>\n",
       "    <tr style=\"text-align: right;\">\n",
       "      <th></th>\n",
       "      <th>1375586</th>\n",
       "      <th>1050611</th>\n",
       "      <th>1050612</th>\n",
       "      <th>1050613</th>\n",
       "      <th>1050614</th>\n",
       "      <th>1050615</th>\n",
       "      <th>1050616</th>\n",
       "      <th>1050617</th>\n",
       "      <th>1050619</th>\n",
       "      <th>1050620</th>\n",
       "    </tr>\n",
       "  </thead>\n",
       "  <tbody>\n",
       "    <tr>\n",
       "      <th>2018-01-28</th>\n",
       "      <td>1.000</td>\n",
       "      <td>1.000</td>\n",
       "      <td>1.000</td>\n",
       "      <td>1.000</td>\n",
       "      <td>1.000</td>\n",
       "      <td>1.000</td>\n",
       "      <td>1.000</td>\n",
       "      <td>1.000</td>\n",
       "      <td>1.000</td>\n",
       "      <td>1.000</td>\n",
       "    </tr>\n",
       "    <tr>\n",
       "      <th>2018-02-28</th>\n",
       "      <td>1.000</td>\n",
       "      <td>1.000</td>\n",
       "      <td>1.000</td>\n",
       "      <td>1.000</td>\n",
       "      <td>1.000</td>\n",
       "      <td>1.000</td>\n",
       "      <td>1.000</td>\n",
       "      <td>1.000</td>\n",
       "      <td>1.000</td>\n",
       "      <td>1.000</td>\n",
       "    </tr>\n",
       "    <tr>\n",
       "      <th>2018-03-28</th>\n",
       "      <td>1.000</td>\n",
       "      <td>1.000</td>\n",
       "      <td>1.000</td>\n",
       "      <td>1.000</td>\n",
       "      <td>1.000</td>\n",
       "      <td>1.000</td>\n",
       "      <td>1.000</td>\n",
       "      <td>1.000</td>\n",
       "      <td>1.000</td>\n",
       "      <td>1.000</td>\n",
       "    </tr>\n",
       "    <tr>\n",
       "      <th>2018-04-28</th>\n",
       "      <td>1.000</td>\n",
       "      <td>1.000</td>\n",
       "      <td>1.000</td>\n",
       "      <td>0.000</td>\n",
       "      <td>1.000</td>\n",
       "      <td>1.000</td>\n",
       "      <td>1.000</td>\n",
       "      <td>1.000</td>\n",
       "      <td>1.000</td>\n",
       "      <td>1.000</td>\n",
       "    </tr>\n",
       "    <tr>\n",
       "      <th>2018-05-28</th>\n",
       "      <td>1.000</td>\n",
       "      <td>1.000</td>\n",
       "      <td>1.000</td>\n",
       "      <td>0.000</td>\n",
       "      <td>1.000</td>\n",
       "      <td>1.000</td>\n",
       "      <td>1.000</td>\n",
       "      <td>1.000</td>\n",
       "      <td>1.000</td>\n",
       "      <td>1.000</td>\n",
       "    </tr>\n",
       "    <tr>\n",
       "      <th>2018-06-28</th>\n",
       "      <td>1.000</td>\n",
       "      <td>1.000</td>\n",
       "      <td>1.000</td>\n",
       "      <td>0.000</td>\n",
       "      <td>1.000</td>\n",
       "      <td>1.000</td>\n",
       "      <td>1.000</td>\n",
       "      <td>1.000</td>\n",
       "      <td>1.000</td>\n",
       "      <td>1.000</td>\n",
       "    </tr>\n",
       "    <tr>\n",
       "      <th>2018-07-28</th>\n",
       "      <td>1.000</td>\n",
       "      <td>1.000</td>\n",
       "      <td>1.000</td>\n",
       "      <td>1.000</td>\n",
       "      <td>1.000</td>\n",
       "      <td>1.000</td>\n",
       "      <td>1.000</td>\n",
       "      <td>1.000</td>\n",
       "      <td>1.000</td>\n",
       "      <td>1.000</td>\n",
       "    </tr>\n",
       "    <tr>\n",
       "      <th>2018-08-28</th>\n",
       "      <td>1.000</td>\n",
       "      <td>1.000</td>\n",
       "      <td>1.000</td>\n",
       "      <td>1.000</td>\n",
       "      <td>1.000</td>\n",
       "      <td>1.000</td>\n",
       "      <td>1.000</td>\n",
       "      <td>1.000</td>\n",
       "      <td>1.000</td>\n",
       "      <td>1.000</td>\n",
       "    </tr>\n",
       "    <tr>\n",
       "      <th>2018-09-28</th>\n",
       "      <td>1.000</td>\n",
       "      <td>1.000</td>\n",
       "      <td>1.000</td>\n",
       "      <td>1.000</td>\n",
       "      <td>1.000</td>\n",
       "      <td>1.000</td>\n",
       "      <td>1.000</td>\n",
       "      <td>1.000</td>\n",
       "      <td>1.000</td>\n",
       "      <td>1.000</td>\n",
       "    </tr>\n",
       "    <tr>\n",
       "      <th>2018-10-28</th>\n",
       "      <td>1.000</td>\n",
       "      <td>1.000</td>\n",
       "      <td>1.000</td>\n",
       "      <td>1.000</td>\n",
       "      <td>1.000</td>\n",
       "      <td>1.000</td>\n",
       "      <td>1.000</td>\n",
       "      <td>1.000</td>\n",
       "      <td>1.000</td>\n",
       "      <td>1.000</td>\n",
       "    </tr>\n",
       "    <tr>\n",
       "      <th>2018-11-28</th>\n",
       "      <td>1.000</td>\n",
       "      <td>1.000</td>\n",
       "      <td>1.000</td>\n",
       "      <td>1.000</td>\n",
       "      <td>1.000</td>\n",
       "      <td>1.000</td>\n",
       "      <td>1.000</td>\n",
       "      <td>1.000</td>\n",
       "      <td>1.000</td>\n",
       "      <td>1.000</td>\n",
       "    </tr>\n",
       "    <tr>\n",
       "      <th>2018-12-28</th>\n",
       "      <td>1.000</td>\n",
       "      <td>1.000</td>\n",
       "      <td>1.000</td>\n",
       "      <td>1.000</td>\n",
       "      <td>1.000</td>\n",
       "      <td>1.000</td>\n",
       "      <td>1.000</td>\n",
       "      <td>1.000</td>\n",
       "      <td>1.000</td>\n",
       "      <td>1.000</td>\n",
       "    </tr>\n",
       "    <tr>\n",
       "      <th>2019-01-28</th>\n",
       "      <td>1.000</td>\n",
       "      <td>1.000</td>\n",
       "      <td>1.000</td>\n",
       "      <td>1.000</td>\n",
       "      <td>1.000</td>\n",
       "      <td>1.000</td>\n",
       "      <td>1.000</td>\n",
       "      <td>1.000</td>\n",
       "      <td>1.000</td>\n",
       "      <td>1.000</td>\n",
       "    </tr>\n",
       "    <tr>\n",
       "      <th>2019-02-28</th>\n",
       "      <td>1.000</td>\n",
       "      <td>1.000</td>\n",
       "      <td>1.000</td>\n",
       "      <td>1.000</td>\n",
       "      <td>1.000</td>\n",
       "      <td>1.000</td>\n",
       "      <td>1.000</td>\n",
       "      <td>1.000</td>\n",
       "      <td>1.000</td>\n",
       "      <td>1.000</td>\n",
       "    </tr>\n",
       "    <tr>\n",
       "      <th>2019-03-28</th>\n",
       "      <td>1.000</td>\n",
       "      <td>1.000</td>\n",
       "      <td>1.000</td>\n",
       "      <td>1.000</td>\n",
       "      <td>1.000</td>\n",
       "      <td>1.000</td>\n",
       "      <td>1.000</td>\n",
       "      <td>1.000</td>\n",
       "      <td>1.000</td>\n",
       "      <td>1.000</td>\n",
       "    </tr>\n",
       "    <tr>\n",
       "      <th>2019-04-28</th>\n",
       "      <td>1.000</td>\n",
       "      <td>1.000</td>\n",
       "      <td>1.000</td>\n",
       "      <td>1.000</td>\n",
       "      <td>1.000</td>\n",
       "      <td>1.000</td>\n",
       "      <td>1.000</td>\n",
       "      <td>1.000</td>\n",
       "      <td>1.000</td>\n",
       "      <td>1.000</td>\n",
       "    </tr>\n",
       "    <tr>\n",
       "      <th>2019-05-28</th>\n",
       "      <td>1.000</td>\n",
       "      <td>1.000</td>\n",
       "      <td>1.000</td>\n",
       "      <td>1.000</td>\n",
       "      <td>1.000</td>\n",
       "      <td>1.000</td>\n",
       "      <td>1.000</td>\n",
       "      <td>1.000</td>\n",
       "      <td>1.000</td>\n",
       "      <td>1.000</td>\n",
       "    </tr>\n",
       "  </tbody>\n",
       "</table>\n",
       "</div>"
      ],
      "text/plain": [
       "            1375586  1050611  1050612  1050613  1050614  1050615  1050616  \\\n",
       "2018-01-28    1.000    1.000    1.000    1.000    1.000    1.000    1.000   \n",
       "2018-02-28    1.000    1.000    1.000    1.000    1.000    1.000    1.000   \n",
       "2018-03-28    1.000    1.000    1.000    1.000    1.000    1.000    1.000   \n",
       "2018-04-28    1.000    1.000    1.000    0.000    1.000    1.000    1.000   \n",
       "2018-05-28    1.000    1.000    1.000    0.000    1.000    1.000    1.000   \n",
       "2018-06-28    1.000    1.000    1.000    0.000    1.000    1.000    1.000   \n",
       "2018-07-28    1.000    1.000    1.000    1.000    1.000    1.000    1.000   \n",
       "2018-08-28    1.000    1.000    1.000    1.000    1.000    1.000    1.000   \n",
       "2018-09-28    1.000    1.000    1.000    1.000    1.000    1.000    1.000   \n",
       "2018-10-28    1.000    1.000    1.000    1.000    1.000    1.000    1.000   \n",
       "2018-11-28    1.000    1.000    1.000    1.000    1.000    1.000    1.000   \n",
       "2018-12-28    1.000    1.000    1.000    1.000    1.000    1.000    1.000   \n",
       "2019-01-28    1.000    1.000    1.000    1.000    1.000    1.000    1.000   \n",
       "2019-02-28    1.000    1.000    1.000    1.000    1.000    1.000    1.000   \n",
       "2019-03-28    1.000    1.000    1.000    1.000    1.000    1.000    1.000   \n",
       "2019-04-28    1.000    1.000    1.000    1.000    1.000    1.000    1.000   \n",
       "2019-05-28    1.000    1.000    1.000    1.000    1.000    1.000    1.000   \n",
       "\n",
       "            1050617  1050619  1050620  \n",
       "2018-01-28    1.000    1.000    1.000  \n",
       "2018-02-28    1.000    1.000    1.000  \n",
       "2018-03-28    1.000    1.000    1.000  \n",
       "2018-04-28    1.000    1.000    1.000  \n",
       "2018-05-28    1.000    1.000    1.000  \n",
       "2018-06-28    1.000    1.000    1.000  \n",
       "2018-07-28    1.000    1.000    1.000  \n",
       "2018-08-28    1.000    1.000    1.000  \n",
       "2018-09-28    1.000    1.000    1.000  \n",
       "2018-10-28    1.000    1.000    1.000  \n",
       "2018-11-28    1.000    1.000    1.000  \n",
       "2018-12-28    1.000    1.000    1.000  \n",
       "2019-01-28    1.000    1.000    1.000  \n",
       "2019-02-28    1.000    1.000    1.000  \n",
       "2019-03-28    1.000    1.000    1.000  \n",
       "2019-04-28    1.000    1.000    1.000  \n",
       "2019-05-28    1.000    1.000    1.000  "
      ]
     },
     "execution_count": 20,
     "metadata": {},
     "output_type": "execute_result"
    }
   ],
   "source": [
    "df_clientes.head(10).T"
   ]
  },
  {
   "cell_type": "code",
   "execution_count": 21,
   "id": "f9ae2aa5",
   "metadata": {
    "ExecuteTime": {
     "end_time": "2021-08-17T16:50:55.040764Z",
     "start_time": "2021-08-17T16:50:54.739090Z"
    }
   },
   "outputs": [
    {
     "data": {
      "text/html": [
       "<div>\n",
       "<style scoped>\n",
       "    .dataframe tbody tr th:only-of-type {\n",
       "        vertical-align: middle;\n",
       "    }\n",
       "\n",
       "    .dataframe tbody tr th {\n",
       "        vertical-align: top;\n",
       "    }\n",
       "\n",
       "    .dataframe thead th {\n",
       "        text-align: right;\n",
       "    }\n",
       "</style>\n",
       "<table border=\"1\" class=\"dataframe\">\n",
       "  <thead>\n",
       "    <tr style=\"text-align: right;\">\n",
       "      <th></th>\n",
       "      <th>count</th>\n",
       "      <th>mean</th>\n",
       "      <th>std</th>\n",
       "      <th>min</th>\n",
       "      <th>25%</th>\n",
       "      <th>50%</th>\n",
       "      <th>75%</th>\n",
       "      <th>max</th>\n",
       "    </tr>\n",
       "  </thead>\n",
       "  <tbody>\n",
       "    <tr>\n",
       "      <th>2018-01-28</th>\n",
       "      <td>456,373.000</td>\n",
       "      <td>0.525</td>\n",
       "      <td>0.499</td>\n",
       "      <td>0.000</td>\n",
       "      <td>0.000</td>\n",
       "      <td>1.000</td>\n",
       "      <td>1.000</td>\n",
       "      <td>1.000</td>\n",
       "    </tr>\n",
       "    <tr>\n",
       "      <th>2018-02-28</th>\n",
       "      <td>456,373.000</td>\n",
       "      <td>0.531</td>\n",
       "      <td>0.499</td>\n",
       "      <td>0.000</td>\n",
       "      <td>0.000</td>\n",
       "      <td>1.000</td>\n",
       "      <td>1.000</td>\n",
       "      <td>1.000</td>\n",
       "    </tr>\n",
       "    <tr>\n",
       "      <th>2018-03-28</th>\n",
       "      <td>456,373.000</td>\n",
       "      <td>0.537</td>\n",
       "      <td>0.499</td>\n",
       "      <td>0.000</td>\n",
       "      <td>0.000</td>\n",
       "      <td>1.000</td>\n",
       "      <td>1.000</td>\n",
       "      <td>1.000</td>\n",
       "    </tr>\n",
       "    <tr>\n",
       "      <th>2018-04-28</th>\n",
       "      <td>456,373.000</td>\n",
       "      <td>0.542</td>\n",
       "      <td>0.498</td>\n",
       "      <td>0.000</td>\n",
       "      <td>0.000</td>\n",
       "      <td>1.000</td>\n",
       "      <td>1.000</td>\n",
       "      <td>1.000</td>\n",
       "    </tr>\n",
       "    <tr>\n",
       "      <th>2018-05-28</th>\n",
       "      <td>456,373.000</td>\n",
       "      <td>0.548</td>\n",
       "      <td>0.498</td>\n",
       "      <td>0.000</td>\n",
       "      <td>0.000</td>\n",
       "      <td>1.000</td>\n",
       "      <td>1.000</td>\n",
       "      <td>1.000</td>\n",
       "    </tr>\n",
       "    <tr>\n",
       "      <th>2018-06-28</th>\n",
       "      <td>456,373.000</td>\n",
       "      <td>0.552</td>\n",
       "      <td>0.497</td>\n",
       "      <td>0.000</td>\n",
       "      <td>0.000</td>\n",
       "      <td>1.000</td>\n",
       "      <td>1.000</td>\n",
       "      <td>1.000</td>\n",
       "    </tr>\n",
       "    <tr>\n",
       "      <th>2018-07-28</th>\n",
       "      <td>456,373.000</td>\n",
       "      <td>0.744</td>\n",
       "      <td>0.437</td>\n",
       "      <td>0.000</td>\n",
       "      <td>0.000</td>\n",
       "      <td>1.000</td>\n",
       "      <td>1.000</td>\n",
       "      <td>1.000</td>\n",
       "    </tr>\n",
       "    <tr>\n",
       "      <th>2018-08-28</th>\n",
       "      <td>456,373.000</td>\n",
       "      <td>0.773</td>\n",
       "      <td>0.419</td>\n",
       "      <td>0.000</td>\n",
       "      <td>1.000</td>\n",
       "      <td>1.000</td>\n",
       "      <td>1.000</td>\n",
       "      <td>1.000</td>\n",
       "    </tr>\n",
       "    <tr>\n",
       "      <th>2018-09-28</th>\n",
       "      <td>456,373.000</td>\n",
       "      <td>0.822</td>\n",
       "      <td>0.382</td>\n",
       "      <td>0.000</td>\n",
       "      <td>1.000</td>\n",
       "      <td>1.000</td>\n",
       "      <td>1.000</td>\n",
       "      <td>1.000</td>\n",
       "    </tr>\n",
       "    <tr>\n",
       "      <th>2018-10-28</th>\n",
       "      <td>456,373.000</td>\n",
       "      <td>0.882</td>\n",
       "      <td>0.323</td>\n",
       "      <td>0.000</td>\n",
       "      <td>1.000</td>\n",
       "      <td>1.000</td>\n",
       "      <td>1.000</td>\n",
       "      <td>1.000</td>\n",
       "    </tr>\n",
       "    <tr>\n",
       "      <th>2018-11-28</th>\n",
       "      <td>456,373.000</td>\n",
       "      <td>0.912</td>\n",
       "      <td>0.283</td>\n",
       "      <td>0.000</td>\n",
       "      <td>1.000</td>\n",
       "      <td>1.000</td>\n",
       "      <td>1.000</td>\n",
       "      <td>1.000</td>\n",
       "    </tr>\n",
       "    <tr>\n",
       "      <th>2018-12-28</th>\n",
       "      <td>456,373.000</td>\n",
       "      <td>0.926</td>\n",
       "      <td>0.262</td>\n",
       "      <td>0.000</td>\n",
       "      <td>1.000</td>\n",
       "      <td>1.000</td>\n",
       "      <td>1.000</td>\n",
       "      <td>1.000</td>\n",
       "    </tr>\n",
       "    <tr>\n",
       "      <th>2019-01-28</th>\n",
       "      <td>456,373.000</td>\n",
       "      <td>0.935</td>\n",
       "      <td>0.246</td>\n",
       "      <td>0.000</td>\n",
       "      <td>1.000</td>\n",
       "      <td>1.000</td>\n",
       "      <td>1.000</td>\n",
       "      <td>1.000</td>\n",
       "    </tr>\n",
       "    <tr>\n",
       "      <th>2019-02-28</th>\n",
       "      <td>456,373.000</td>\n",
       "      <td>0.946</td>\n",
       "      <td>0.226</td>\n",
       "      <td>0.000</td>\n",
       "      <td>1.000</td>\n",
       "      <td>1.000</td>\n",
       "      <td>1.000</td>\n",
       "      <td>1.000</td>\n",
       "    </tr>\n",
       "    <tr>\n",
       "      <th>2019-03-28</th>\n",
       "      <td>456,373.000</td>\n",
       "      <td>0.956</td>\n",
       "      <td>0.206</td>\n",
       "      <td>0.000</td>\n",
       "      <td>1.000</td>\n",
       "      <td>1.000</td>\n",
       "      <td>1.000</td>\n",
       "      <td>1.000</td>\n",
       "    </tr>\n",
       "    <tr>\n",
       "      <th>2019-04-28</th>\n",
       "      <td>456,373.000</td>\n",
       "      <td>0.963</td>\n",
       "      <td>0.188</td>\n",
       "      <td>0.000</td>\n",
       "      <td>1.000</td>\n",
       "      <td>1.000</td>\n",
       "      <td>1.000</td>\n",
       "      <td>1.000</td>\n",
       "    </tr>\n",
       "    <tr>\n",
       "      <th>2019-05-28</th>\n",
       "      <td>456,373.000</td>\n",
       "      <td>0.971</td>\n",
       "      <td>0.169</td>\n",
       "      <td>0.000</td>\n",
       "      <td>1.000</td>\n",
       "      <td>1.000</td>\n",
       "      <td>1.000</td>\n",
       "      <td>1.000</td>\n",
       "    </tr>\n",
       "  </tbody>\n",
       "</table>\n",
       "</div>"
      ],
      "text/plain": [
       "                 count  mean   std   min   25%   50%   75%   max\n",
       "2018-01-28 456,373.000 0.525 0.499 0.000 0.000 1.000 1.000 1.000\n",
       "2018-02-28 456,373.000 0.531 0.499 0.000 0.000 1.000 1.000 1.000\n",
       "2018-03-28 456,373.000 0.537 0.499 0.000 0.000 1.000 1.000 1.000\n",
       "2018-04-28 456,373.000 0.542 0.498 0.000 0.000 1.000 1.000 1.000\n",
       "2018-05-28 456,373.000 0.548 0.498 0.000 0.000 1.000 1.000 1.000\n",
       "2018-06-28 456,373.000 0.552 0.497 0.000 0.000 1.000 1.000 1.000\n",
       "2018-07-28 456,373.000 0.744 0.437 0.000 0.000 1.000 1.000 1.000\n",
       "2018-08-28 456,373.000 0.773 0.419 0.000 1.000 1.000 1.000 1.000\n",
       "2018-09-28 456,373.000 0.822 0.382 0.000 1.000 1.000 1.000 1.000\n",
       "2018-10-28 456,373.000 0.882 0.323 0.000 1.000 1.000 1.000 1.000\n",
       "2018-11-28 456,373.000 0.912 0.283 0.000 1.000 1.000 1.000 1.000\n",
       "2018-12-28 456,373.000 0.926 0.262 0.000 1.000 1.000 1.000 1.000\n",
       "2019-01-28 456,373.000 0.935 0.246 0.000 1.000 1.000 1.000 1.000\n",
       "2019-02-28 456,373.000 0.946 0.226 0.000 1.000 1.000 1.000 1.000\n",
       "2019-03-28 456,373.000 0.956 0.206 0.000 1.000 1.000 1.000 1.000\n",
       "2019-04-28 456,373.000 0.963 0.188 0.000 1.000 1.000 1.000 1.000\n",
       "2019-05-28 456,373.000 0.971 0.169 0.000 1.000 1.000 1.000 1.000"
      ]
     },
     "execution_count": 21,
     "metadata": {},
     "output_type": "execute_result"
    }
   ],
   "source": [
    "df_clientes.describe().T"
   ]
  },
  {
   "cell_type": "markdown",
   "id": "7188ac80",
   "metadata": {},
   "source": [
    "### Número de clientes por fecha"
   ]
  },
  {
   "cell_type": "code",
   "execution_count": 22,
   "id": "55055a4d",
   "metadata": {
    "ExecuteTime": {
     "end_time": "2021-08-17T16:51:01.558637Z",
     "start_time": "2021-08-17T16:51:01.552082Z"
    }
   },
   "outputs": [],
   "source": [
    "def calcular_clientes_por_fecha(df):\n",
    "    \"\"\"\n",
    "    Aplica un sumatorio a cada fecha para conocer el número de clientes\n",
    "    cada mes\n",
    "    \n",
    "    Arguments:\n",
    "    ----------\n",
    "    df {[dataframe]} -- DataFrame de clientes\n",
    "    \n",
    "    Returns:\n",
    "    ----------\n",
    "    df_sum_clientes {[dataframe]} -- DataFrame con el número de clientes por fecha\n",
    "    \"\"\"\n",
    "    df_sum_clientes = pd.DataFrame(index=df.columns.to_list())\n",
    "    df_sum_clientes['num_clientes'] = np.nan\n",
    "    \n",
    "    \n",
    "    for fecha in df.columns.to_list():\n",
    "        n_clientes = df[fecha].sum()\n",
    "        print(f'{fecha} -> {n_clientes} clientes')\n",
    "        df_sum_clientes.loc[fecha] = n_clientes\n",
    "        \n",
    "    return df_sum_clientes"
   ]
  },
  {
   "cell_type": "code",
   "execution_count": 30,
   "id": "45c28804",
   "metadata": {
    "ExecuteTime": {
     "end_time": "2021-08-17T16:57:31.033549Z",
     "start_time": "2021-08-17T16:57:29.069928Z"
    }
   },
   "outputs": [
    {
     "name": "stdout",
     "output_type": "stream",
     "text": [
      "2018-01-28 00:00:00 -> 239493.0 clientes\n",
      "2018-02-28 00:00:00 -> 242521.0 clientes\n",
      "2018-03-28 00:00:00 -> 245258.0 clientes\n",
      "2018-04-28 00:00:00 -> 247463.0 clientes\n",
      "2018-05-28 00:00:00 -> 249926.0 clientes\n",
      "2018-06-28 00:00:00 -> 252104.0 clientes\n",
      "2018-07-28 00:00:00 -> 339339.0 clientes\n",
      "2018-08-28 00:00:00 -> 352922.0 clientes\n",
      "2018-09-28 00:00:00 -> 375323.0 clientes\n",
      "2018-10-28 00:00:00 -> 402300.0 clientes\n",
      "2018-11-28 00:00:00 -> 416387.0 clientes\n",
      "2018-12-28 00:00:00 -> 422481.0 clientes\n",
      "2019-01-28 00:00:00 -> 426875.0 clientes\n",
      "2019-02-28 00:00:00 -> 431727.0 clientes\n",
      "2019-03-28 00:00:00 -> 436183.0 clientes\n",
      "2019-04-28 00:00:00 -> 439627.0 clientes\n",
      "2019-05-28 00:00:00 -> 442995.0 clientes\n"
     ]
    }
   ],
   "source": [
    "def calcular_servicios(df_sum_clientes, df_products):\n",
    "    \"\"\"\n",
    "    Aplica un sumatorio de los servicios activos (con valor 1) por cada fecha para \n",
    "    cada uno de los productos.\n",
    "    \n",
    "    Arguments:\n",
    "    ----------\n",
    "    df {[dataframe]} -- DataFrame de sumatorio de clientes\n",
    "    df {[dataframe]} -- DataFrame de productos\n",
    "    \n",
    "    \n",
    "    Returns:\n",
    "    ----------\n",
    "    df_sum_clientes {[dataframe]} -- DataFrame con el número de clientes por fecha\n",
    "                                     para cada producto\n",
    "    \"\"\"\n",
    "\n",
    "    # Productos\n",
    "    products = [\n",
    "        'short_term_deposit', 'loans', 'mortgage', 'funds', 'securities', \n",
    "        'long_term_deposit', 'em_account_pp', 'credit_card', 'payroll', \n",
    "        'pension_plan', 'payroll_account', 'emc_account', 'debit_card', \n",
    "        'em_account_p', 'em_account'\n",
    "    ]\n",
    "    \n",
    "    # Clientes activos por producto \n",
    "    for producto in products:\n",
    "        df_sum_clientes[producto] = np.nan\n",
    "        for row in df_sum_clientes.iterrows():\n",
    "            fecha = row[1].name\n",
    "            df_sum_clientes.loc[fecha, producto] = df_products.loc[fecha][producto].sum()  \n",
    "        \n",
    "    # Listado de fechas de ingesta de datos\n",
    "    pk_partition = df_sum_clientes.index.to_list()\n",
    "\n",
    "    # Nueva columna a añadir\n",
    "    df_sum_clientes['num_servicios_activos'] = np.nan\n",
    "\n",
    "    # DataFrame de búsqueda\n",
    "    df = df_sum_clientes[products].T\n",
    "\n",
    "    # Calcular número de clientes activos (CON CONTRATACIÓN)\n",
    "    for fecha_ingesta in pk_partition:\n",
    "        df_sum_clientes.loc[fecha_ingesta, 'num_servicios_activos'] = df[fecha_ingesta].sum()\n",
    "\n",
    "    # Clientes nuevos por mes\n",
    "    df_sum_clientes['clientes_nuevos'] = df_sum_clientes['num_clientes'] - df_sum_clientes['num_clientes'].shift(1)\n",
    "    \n",
    "    # Devolver df ordenado correctamente\n",
    "    columnas_ordenadas = [\n",
    "        'num_clientes', 'clientes_nuevos', 'num_servicios_activos', 'short_term_deposit', 'loans', \n",
    "        'mortgage', 'funds', 'securities', 'long_term_deposit',\n",
    "        'em_account_pp', 'credit_card', 'payroll', 'pension_plan',\n",
    "        'payroll_account', 'emc_account', 'debit_card', \n",
    "        'em_account_p', 'em_account'\n",
    "                         ]\n",
    "\n",
    "    return df_sum_clientes[columnas_ordenadas]\n",
    "\n",
    "\n",
    "df_sum_clientes = calcular_clientes_por_fecha(df_clientes).reset_index().rename({'index':'pk_partition'},axis=1)\n",
    "df_sum_clientes = calcular_servicios(df_sum_clientes.set_index('pk_partition'),\n",
    "                                     df_products.set_index('pk_partition'))\n",
    "\n",
    "df_sum_clientes.to_csv('results/df_sum_clientes.csv', sep=';', encoding='utf-8-sig', index=True)"
   ]
  },
  {
   "cell_type": "code",
   "execution_count": 31,
   "id": "14b60a3d",
   "metadata": {
    "ExecuteTime": {
     "end_time": "2021-08-17T16:57:31.760944Z",
     "start_time": "2021-08-17T16:57:31.734146Z"
    }
   },
   "outputs": [
    {
     "data": {
      "text/html": [
       "<div>\n",
       "<style scoped>\n",
       "    .dataframe tbody tr th:only-of-type {\n",
       "        vertical-align: middle;\n",
       "    }\n",
       "\n",
       "    .dataframe tbody tr th {\n",
       "        vertical-align: top;\n",
       "    }\n",
       "\n",
       "    .dataframe thead th {\n",
       "        text-align: right;\n",
       "    }\n",
       "</style>\n",
       "<table border=\"1\" class=\"dataframe\">\n",
       "  <thead>\n",
       "    <tr style=\"text-align: right;\">\n",
       "      <th></th>\n",
       "      <th>num_clientes</th>\n",
       "      <th>clientes_nuevos</th>\n",
       "      <th>num_servicios_activos</th>\n",
       "      <th>short_term_deposit</th>\n",
       "      <th>loans</th>\n",
       "      <th>mortgage</th>\n",
       "      <th>funds</th>\n",
       "      <th>securities</th>\n",
       "      <th>long_term_deposit</th>\n",
       "      <th>em_account_pp</th>\n",
       "      <th>credit_card</th>\n",
       "      <th>payroll</th>\n",
       "      <th>pension_plan</th>\n",
       "      <th>payroll_account</th>\n",
       "      <th>emc_account</th>\n",
       "      <th>debit_card</th>\n",
       "      <th>em_account_p</th>\n",
       "      <th>em_account</th>\n",
       "    </tr>\n",
       "    <tr>\n",
       "      <th>pk_partition</th>\n",
       "      <th></th>\n",
       "      <th></th>\n",
       "      <th></th>\n",
       "      <th></th>\n",
       "      <th></th>\n",
       "      <th></th>\n",
       "      <th></th>\n",
       "      <th></th>\n",
       "      <th></th>\n",
       "      <th></th>\n",
       "      <th></th>\n",
       "      <th></th>\n",
       "      <th></th>\n",
       "      <th></th>\n",
       "      <th></th>\n",
       "      <th></th>\n",
       "      <th></th>\n",
       "      <th></th>\n",
       "    </tr>\n",
       "  </thead>\n",
       "  <tbody>\n",
       "    <tr>\n",
       "      <th>2018-01-28</th>\n",
       "      <td>239,493.000</td>\n",
       "      <td>nan</td>\n",
       "      <td>296,613.000</td>\n",
       "      <td>883.000</td>\n",
       "      <td>19.000</td>\n",
       "      <td>15.000</td>\n",
       "      <td>786.000</td>\n",
       "      <td>932.000</td>\n",
       "      <td>4,884.000</td>\n",
       "      <td>0.000</td>\n",
       "      <td>3,325.000</td>\n",
       "      <td>8,145.000</td>\n",
       "      <td>8,835.000</td>\n",
       "      <td>13,478.000</td>\n",
       "      <td>15,320.000</td>\n",
       "      <td>24,696.000</td>\n",
       "      <td>2.000</td>\n",
       "      <td>215,293.000</td>\n",
       "    </tr>\n",
       "    <tr>\n",
       "      <th>2018-02-28</th>\n",
       "      <td>242,521.000</td>\n",
       "      <td>3,028.000</td>\n",
       "      <td>302,458.000</td>\n",
       "      <td>1,343.000</td>\n",
       "      <td>19.000</td>\n",
       "      <td>15.000</td>\n",
       "      <td>872.000</td>\n",
       "      <td>965.000</td>\n",
       "      <td>4,956.000</td>\n",
       "      <td>0.000</td>\n",
       "      <td>3,282.000</td>\n",
       "      <td>8,889.000</td>\n",
       "      <td>9,496.000</td>\n",
       "      <td>14,246.000</td>\n",
       "      <td>15,827.000</td>\n",
       "      <td>25,448.000</td>\n",
       "      <td>2.000</td>\n",
       "      <td>217,098.000</td>\n",
       "    </tr>\n",
       "    <tr>\n",
       "      <th>2018-03-28</th>\n",
       "      <td>245,258.000</td>\n",
       "      <td>2,737.000</td>\n",
       "      <td>308,879.000</td>\n",
       "      <td>1,664.000</td>\n",
       "      <td>23.000</td>\n",
       "      <td>17.000</td>\n",
       "      <td>969.000</td>\n",
       "      <td>965.000</td>\n",
       "      <td>4,965.000</td>\n",
       "      <td>0.000</td>\n",
       "      <td>3,511.000</td>\n",
       "      <td>9,735.000</td>\n",
       "      <td>9,882.000</td>\n",
       "      <td>14,989.000</td>\n",
       "      <td>16,428.000</td>\n",
       "      <td>27,046.000</td>\n",
       "      <td>2.000</td>\n",
       "      <td>218,683.000</td>\n",
       "    </tr>\n",
       "    <tr>\n",
       "      <th>2018-04-28</th>\n",
       "      <td>247,463.000</td>\n",
       "      <td>2,205.000</td>\n",
       "      <td>313,499.000</td>\n",
       "      <td>1,740.000</td>\n",
       "      <td>24.000</td>\n",
       "      <td>17.000</td>\n",
       "      <td>1,084.000</td>\n",
       "      <td>983.000</td>\n",
       "      <td>5,107.000</td>\n",
       "      <td>0.000</td>\n",
       "      <td>3,725.000</td>\n",
       "      <td>9,905.000</td>\n",
       "      <td>10,560.000</td>\n",
       "      <td>15,825.000</td>\n",
       "      <td>16,947.000</td>\n",
       "      <td>27,764.000</td>\n",
       "      <td>2.000</td>\n",
       "      <td>219,816.000</td>\n",
       "    </tr>\n",
       "    <tr>\n",
       "      <th>2018-05-28</th>\n",
       "      <td>249,926.000</td>\n",
       "      <td>2,463.000</td>\n",
       "      <td>316,422.000</td>\n",
       "      <td>1,455.000</td>\n",
       "      <td>27.000</td>\n",
       "      <td>18.000</td>\n",
       "      <td>1,145.000</td>\n",
       "      <td>1,012.000</td>\n",
       "      <td>5,356.000</td>\n",
       "      <td>0.000</td>\n",
       "      <td>3,797.000</td>\n",
       "      <td>9,994.000</td>\n",
       "      <td>10,148.000</td>\n",
       "      <td>16,697.000</td>\n",
       "      <td>17,569.000</td>\n",
       "      <td>27,911.000</td>\n",
       "      <td>2.000</td>\n",
       "      <td>221,291.000</td>\n",
       "    </tr>\n",
       "    <tr>\n",
       "      <th>2018-06-28</th>\n",
       "      <td>252,104.000</td>\n",
       "      <td>2,178.000</td>\n",
       "      <td>322,287.000</td>\n",
       "      <td>1,244.000</td>\n",
       "      <td>27.000</td>\n",
       "      <td>19.000</td>\n",
       "      <td>1,159.000</td>\n",
       "      <td>1,019.000</td>\n",
       "      <td>5,588.000</td>\n",
       "      <td>0.000</td>\n",
       "      <td>4,002.000</td>\n",
       "      <td>10,946.000</td>\n",
       "      <td>11,635.000</td>\n",
       "      <td>15,540.000</td>\n",
       "      <td>17,950.000</td>\n",
       "      <td>28,828.000</td>\n",
       "      <td>2.000</td>\n",
       "      <td>224,328.000</td>\n",
       "    </tr>\n",
       "    <tr>\n",
       "      <th>2018-07-28</th>\n",
       "      <td>339,339.000</td>\n",
       "      <td>87,235.000</td>\n",
       "      <td>337,160.000</td>\n",
       "      <td>1,282.000</td>\n",
       "      <td>28.000</td>\n",
       "      <td>20.000</td>\n",
       "      <td>1,172.000</td>\n",
       "      <td>1,053.000</td>\n",
       "      <td>5,796.000</td>\n",
       "      <td>0.000</td>\n",
       "      <td>4,137.000</td>\n",
       "      <td>11,888.000</td>\n",
       "      <td>12,779.000</td>\n",
       "      <td>16,916.000</td>\n",
       "      <td>18,185.000</td>\n",
       "      <td>29,578.000</td>\n",
       "      <td>2.000</td>\n",
       "      <td>234,324.000</td>\n",
       "    </tr>\n",
       "    <tr>\n",
       "      <th>2018-08-28</th>\n",
       "      <td>352,922.000</td>\n",
       "      <td>13,583.000</td>\n",
       "      <td>349,012.000</td>\n",
       "      <td>1,335.000</td>\n",
       "      <td>29.000</td>\n",
       "      <td>20.000</td>\n",
       "      <td>1,219.000</td>\n",
       "      <td>1,133.000</td>\n",
       "      <td>5,923.000</td>\n",
       "      <td>0.000</td>\n",
       "      <td>4,206.000</td>\n",
       "      <td>11,383.000</td>\n",
       "      <td>12,126.000</td>\n",
       "      <td>18,118.000</td>\n",
       "      <td>18,333.000</td>\n",
       "      <td>29,205.000</td>\n",
       "      <td>2.000</td>\n",
       "      <td>245,980.000</td>\n",
       "    </tr>\n",
       "    <tr>\n",
       "      <th>2018-09-28</th>\n",
       "      <td>375,323.000</td>\n",
       "      <td>22,401.000</td>\n",
       "      <td>369,172.000</td>\n",
       "      <td>1,386.000</td>\n",
       "      <td>31.000</td>\n",
       "      <td>20.000</td>\n",
       "      <td>1,237.000</td>\n",
       "      <td>1,201.000</td>\n",
       "      <td>6,158.000</td>\n",
       "      <td>0.000</td>\n",
       "      <td>4,289.000</td>\n",
       "      <td>11,850.000</td>\n",
       "      <td>12,624.000</td>\n",
       "      <td>18,862.000</td>\n",
       "      <td>18,618.000</td>\n",
       "      <td>31,684.000</td>\n",
       "      <td>2.000</td>\n",
       "      <td>261,210.000</td>\n",
       "    </tr>\n",
       "    <tr>\n",
       "      <th>2018-10-28</th>\n",
       "      <td>402,300.000</td>\n",
       "      <td>26,977.000</td>\n",
       "      <td>391,335.000</td>\n",
       "      <td>1,374.000</td>\n",
       "      <td>33.000</td>\n",
       "      <td>19.000</td>\n",
       "      <td>1,249.000</td>\n",
       "      <td>1,348.000</td>\n",
       "      <td>6,380.000</td>\n",
       "      <td>0.000</td>\n",
       "      <td>4,385.000</td>\n",
       "      <td>12,454.000</td>\n",
       "      <td>13,223.000</td>\n",
       "      <td>19,945.000</td>\n",
       "      <td>18,844.000</td>\n",
       "      <td>34,372.000</td>\n",
       "      <td>2.000</td>\n",
       "      <td>277,707.000</td>\n",
       "    </tr>\n",
       "    <tr>\n",
       "      <th>2018-11-28</th>\n",
       "      <td>416,387.000</td>\n",
       "      <td>14,087.000</td>\n",
       "      <td>402,819.000</td>\n",
       "      <td>1,018.000</td>\n",
       "      <td>32.000</td>\n",
       "      <td>19.000</td>\n",
       "      <td>1,282.000</td>\n",
       "      <td>1,360.000</td>\n",
       "      <td>6,447.000</td>\n",
       "      <td>0.000</td>\n",
       "      <td>4,512.000</td>\n",
       "      <td>13,032.000</td>\n",
       "      <td>13,818.000</td>\n",
       "      <td>21,437.000</td>\n",
       "      <td>19,494.000</td>\n",
       "      <td>35,466.000</td>\n",
       "      <td>2.000</td>\n",
       "      <td>284,900.000</td>\n",
       "    </tr>\n",
       "    <tr>\n",
       "      <th>2018-12-28</th>\n",
       "      <td>422,481.000</td>\n",
       "      <td>6,094.000</td>\n",
       "      <td>412,142.000</td>\n",
       "      <td>528.000</td>\n",
       "      <td>30.000</td>\n",
       "      <td>19.000</td>\n",
       "      <td>1,322.000</td>\n",
       "      <td>1,420.000</td>\n",
       "      <td>6,749.000</td>\n",
       "      <td>0.000</td>\n",
       "      <td>4,536.000</td>\n",
       "      <td>14,452.000</td>\n",
       "      <td>15,324.000</td>\n",
       "      <td>21,359.000</td>\n",
       "      <td>20,043.000</td>\n",
       "      <td>37,430.000</td>\n",
       "      <td>2.000</td>\n",
       "      <td>288,928.000</td>\n",
       "    </tr>\n",
       "    <tr>\n",
       "      <th>2019-01-28</th>\n",
       "      <td>426,875.000</td>\n",
       "      <td>4,394.000</td>\n",
       "      <td>411,289.000</td>\n",
       "      <td>125.000</td>\n",
       "      <td>28.000</td>\n",
       "      <td>20.000</td>\n",
       "      <td>1,330.000</td>\n",
       "      <td>1,655.000</td>\n",
       "      <td>6,659.000</td>\n",
       "      <td>0.000</td>\n",
       "      <td>4,493.000</td>\n",
       "      <td>12,058.000</td>\n",
       "      <td>12,538.000</td>\n",
       "      <td>22,324.000</td>\n",
       "      <td>20,921.000</td>\n",
       "      <td>37,350.000</td>\n",
       "      <td>2.000</td>\n",
       "      <td>291,786.000</td>\n",
       "    </tr>\n",
       "    <tr>\n",
       "      <th>2019-02-28</th>\n",
       "      <td>431,727.000</td>\n",
       "      <td>4,852.000</td>\n",
       "      <td>421,415.000</td>\n",
       "      <td>11.000</td>\n",
       "      <td>29.000</td>\n",
       "      <td>20.000</td>\n",
       "      <td>1,316.000</td>\n",
       "      <td>1,747.000</td>\n",
       "      <td>6,658.000</td>\n",
       "      <td>0.000</td>\n",
       "      <td>4,542.000</td>\n",
       "      <td>14,378.000</td>\n",
       "      <td>15,265.000</td>\n",
       "      <td>23,264.000</td>\n",
       "      <td>21,796.000</td>\n",
       "      <td>39,399.000</td>\n",
       "      <td>2.000</td>\n",
       "      <td>292,988.000</td>\n",
       "    </tr>\n",
       "    <tr>\n",
       "      <th>2019-03-28</th>\n",
       "      <td>436,183.000</td>\n",
       "      <td>4,456.000</td>\n",
       "      <td>428,653.000</td>\n",
       "      <td>2.000</td>\n",
       "      <td>29.000</td>\n",
       "      <td>20.000</td>\n",
       "      <td>1,322.000</td>\n",
       "      <td>1,769.000</td>\n",
       "      <td>6,537.000</td>\n",
       "      <td>0.000</td>\n",
       "      <td>4,576.000</td>\n",
       "      <td>15,114.000</td>\n",
       "      <td>15,976.000</td>\n",
       "      <td>24,390.000</td>\n",
       "      <td>22,480.000</td>\n",
       "      <td>41,390.000</td>\n",
       "      <td>2.000</td>\n",
       "      <td>295,046.000</td>\n",
       "    </tr>\n",
       "    <tr>\n",
       "      <th>2019-04-28</th>\n",
       "      <td>439,627.000</td>\n",
       "      <td>3,444.000</td>\n",
       "      <td>432,665.000</td>\n",
       "      <td>2.000</td>\n",
       "      <td>30.000</td>\n",
       "      <td>23.000</td>\n",
       "      <td>1,320.000</td>\n",
       "      <td>1,782.000</td>\n",
       "      <td>6,368.000</td>\n",
       "      <td>0.000</td>\n",
       "      <td>4,747.000</td>\n",
       "      <td>15,231.000</td>\n",
       "      <td>16,220.000</td>\n",
       "      <td>25,501.000</td>\n",
       "      <td>23,455.000</td>\n",
       "      <td>42,140.000</td>\n",
       "      <td>2.000</td>\n",
       "      <td>295,844.000</td>\n",
       "    </tr>\n",
       "    <tr>\n",
       "      <th>2019-05-28</th>\n",
       "      <td>442,995.000</td>\n",
       "      <td>3,368.000</td>\n",
       "      <td>438,698.000</td>\n",
       "      <td>2.000</td>\n",
       "      <td>30.000</td>\n",
       "      <td>23.000</td>\n",
       "      <td>1,315.000</td>\n",
       "      <td>1,789.000</td>\n",
       "      <td>6,129.000</td>\n",
       "      <td>0.000</td>\n",
       "      <td>4,801.000</td>\n",
       "      <td>16,333.000</td>\n",
       "      <td>17,353.000</td>\n",
       "      <td>26,529.000</td>\n",
       "      <td>24,751.000</td>\n",
       "      <td>43,261.000</td>\n",
       "      <td>2.000</td>\n",
       "      <td>296,380.000</td>\n",
       "    </tr>\n",
       "  </tbody>\n",
       "</table>\n",
       "</div>"
      ],
      "text/plain": [
       "              num_clientes  clientes_nuevos  num_servicios_activos  \\\n",
       "pk_partition                                                         \n",
       "2018-01-28     239,493.000              nan            296,613.000   \n",
       "2018-02-28     242,521.000        3,028.000            302,458.000   \n",
       "2018-03-28     245,258.000        2,737.000            308,879.000   \n",
       "2018-04-28     247,463.000        2,205.000            313,499.000   \n",
       "2018-05-28     249,926.000        2,463.000            316,422.000   \n",
       "2018-06-28     252,104.000        2,178.000            322,287.000   \n",
       "2018-07-28     339,339.000       87,235.000            337,160.000   \n",
       "2018-08-28     352,922.000       13,583.000            349,012.000   \n",
       "2018-09-28     375,323.000       22,401.000            369,172.000   \n",
       "2018-10-28     402,300.000       26,977.000            391,335.000   \n",
       "2018-11-28     416,387.000       14,087.000            402,819.000   \n",
       "2018-12-28     422,481.000        6,094.000            412,142.000   \n",
       "2019-01-28     426,875.000        4,394.000            411,289.000   \n",
       "2019-02-28     431,727.000        4,852.000            421,415.000   \n",
       "2019-03-28     436,183.000        4,456.000            428,653.000   \n",
       "2019-04-28     439,627.000        3,444.000            432,665.000   \n",
       "2019-05-28     442,995.000        3,368.000            438,698.000   \n",
       "\n",
       "              short_term_deposit  loans  mortgage     funds  securities  \\\n",
       "pk_partition                                                              \n",
       "2018-01-28               883.000 19.000    15.000   786.000     932.000   \n",
       "2018-02-28             1,343.000 19.000    15.000   872.000     965.000   \n",
       "2018-03-28             1,664.000 23.000    17.000   969.000     965.000   \n",
       "2018-04-28             1,740.000 24.000    17.000 1,084.000     983.000   \n",
       "2018-05-28             1,455.000 27.000    18.000 1,145.000   1,012.000   \n",
       "2018-06-28             1,244.000 27.000    19.000 1,159.000   1,019.000   \n",
       "2018-07-28             1,282.000 28.000    20.000 1,172.000   1,053.000   \n",
       "2018-08-28             1,335.000 29.000    20.000 1,219.000   1,133.000   \n",
       "2018-09-28             1,386.000 31.000    20.000 1,237.000   1,201.000   \n",
       "2018-10-28             1,374.000 33.000    19.000 1,249.000   1,348.000   \n",
       "2018-11-28             1,018.000 32.000    19.000 1,282.000   1,360.000   \n",
       "2018-12-28               528.000 30.000    19.000 1,322.000   1,420.000   \n",
       "2019-01-28               125.000 28.000    20.000 1,330.000   1,655.000   \n",
       "2019-02-28                11.000 29.000    20.000 1,316.000   1,747.000   \n",
       "2019-03-28                 2.000 29.000    20.000 1,322.000   1,769.000   \n",
       "2019-04-28                 2.000 30.000    23.000 1,320.000   1,782.000   \n",
       "2019-05-28                 2.000 30.000    23.000 1,315.000   1,789.000   \n",
       "\n",
       "              long_term_deposit  em_account_pp  credit_card    payroll  \\\n",
       "pk_partition                                                             \n",
       "2018-01-28            4,884.000          0.000    3,325.000  8,145.000   \n",
       "2018-02-28            4,956.000          0.000    3,282.000  8,889.000   \n",
       "2018-03-28            4,965.000          0.000    3,511.000  9,735.000   \n",
       "2018-04-28            5,107.000          0.000    3,725.000  9,905.000   \n",
       "2018-05-28            5,356.000          0.000    3,797.000  9,994.000   \n",
       "2018-06-28            5,588.000          0.000    4,002.000 10,946.000   \n",
       "2018-07-28            5,796.000          0.000    4,137.000 11,888.000   \n",
       "2018-08-28            5,923.000          0.000    4,206.000 11,383.000   \n",
       "2018-09-28            6,158.000          0.000    4,289.000 11,850.000   \n",
       "2018-10-28            6,380.000          0.000    4,385.000 12,454.000   \n",
       "2018-11-28            6,447.000          0.000    4,512.000 13,032.000   \n",
       "2018-12-28            6,749.000          0.000    4,536.000 14,452.000   \n",
       "2019-01-28            6,659.000          0.000    4,493.000 12,058.000   \n",
       "2019-02-28            6,658.000          0.000    4,542.000 14,378.000   \n",
       "2019-03-28            6,537.000          0.000    4,576.000 15,114.000   \n",
       "2019-04-28            6,368.000          0.000    4,747.000 15,231.000   \n",
       "2019-05-28            6,129.000          0.000    4,801.000 16,333.000   \n",
       "\n",
       "              pension_plan  payroll_account  emc_account  debit_card  \\\n",
       "pk_partition                                                           \n",
       "2018-01-28       8,835.000       13,478.000   15,320.000  24,696.000   \n",
       "2018-02-28       9,496.000       14,246.000   15,827.000  25,448.000   \n",
       "2018-03-28       9,882.000       14,989.000   16,428.000  27,046.000   \n",
       "2018-04-28      10,560.000       15,825.000   16,947.000  27,764.000   \n",
       "2018-05-28      10,148.000       16,697.000   17,569.000  27,911.000   \n",
       "2018-06-28      11,635.000       15,540.000   17,950.000  28,828.000   \n",
       "2018-07-28      12,779.000       16,916.000   18,185.000  29,578.000   \n",
       "2018-08-28      12,126.000       18,118.000   18,333.000  29,205.000   \n",
       "2018-09-28      12,624.000       18,862.000   18,618.000  31,684.000   \n",
       "2018-10-28      13,223.000       19,945.000   18,844.000  34,372.000   \n",
       "2018-11-28      13,818.000       21,437.000   19,494.000  35,466.000   \n",
       "2018-12-28      15,324.000       21,359.000   20,043.000  37,430.000   \n",
       "2019-01-28      12,538.000       22,324.000   20,921.000  37,350.000   \n",
       "2019-02-28      15,265.000       23,264.000   21,796.000  39,399.000   \n",
       "2019-03-28      15,976.000       24,390.000   22,480.000  41,390.000   \n",
       "2019-04-28      16,220.000       25,501.000   23,455.000  42,140.000   \n",
       "2019-05-28      17,353.000       26,529.000   24,751.000  43,261.000   \n",
       "\n",
       "              em_account_p  em_account  \n",
       "pk_partition                            \n",
       "2018-01-28           2.000 215,293.000  \n",
       "2018-02-28           2.000 217,098.000  \n",
       "2018-03-28           2.000 218,683.000  \n",
       "2018-04-28           2.000 219,816.000  \n",
       "2018-05-28           2.000 221,291.000  \n",
       "2018-06-28           2.000 224,328.000  \n",
       "2018-07-28           2.000 234,324.000  \n",
       "2018-08-28           2.000 245,980.000  \n",
       "2018-09-28           2.000 261,210.000  \n",
       "2018-10-28           2.000 277,707.000  \n",
       "2018-11-28           2.000 284,900.000  \n",
       "2018-12-28           2.000 288,928.000  \n",
       "2019-01-28           2.000 291,786.000  \n",
       "2019-02-28           2.000 292,988.000  \n",
       "2019-03-28           2.000 295,046.000  \n",
       "2019-04-28           2.000 295,844.000  \n",
       "2019-05-28           2.000 296,380.000  "
      ]
     },
     "execution_count": 31,
     "metadata": {},
     "output_type": "execute_result"
    }
   ],
   "source": [
    "df_sum_clientes"
   ]
  },
  {
   "cell_type": "markdown",
   "id": "194e865c",
   "metadata": {},
   "source": [
    "### Visualización clientes\n"
   ]
  },
  {
   "cell_type": "code",
   "execution_count": 27,
   "id": "39fde9dc",
   "metadata": {
    "ExecuteTime": {
     "end_time": "2021-08-17T16:51:45.832296Z",
     "start_time": "2021-08-17T16:51:45.683375Z"
    }
   },
   "outputs": [
    {
     "data": {
      "application/vnd.plotly.v1+json": {
       "config": {
        "plotlyServerURL": "https://plot.ly"
       },
       "data": [
        {
         "hovertemplate": "%{y:.2f}",
         "name": "num_clientes",
         "type": "scatter",
         "x": [
          "2018-01-28T00:00:00",
          "2018-02-28T00:00:00",
          "2018-03-28T00:00:00",
          "2018-04-28T00:00:00",
          "2018-05-28T00:00:00",
          "2018-06-28T00:00:00",
          "2018-07-28T00:00:00",
          "2018-08-28T00:00:00",
          "2018-09-28T00:00:00",
          "2018-10-28T00:00:00",
          "2018-11-28T00:00:00",
          "2018-12-28T00:00:00",
          "2019-01-28T00:00:00",
          "2019-02-28T00:00:00",
          "2019-03-28T00:00:00",
          "2019-04-28T00:00:00",
          "2019-05-28T00:00:00"
         ],
         "xaxis": "x",
         "y": [
          239493,
          242521,
          245258,
          247463,
          249926,
          252104,
          339339,
          352922,
          375323,
          402300,
          416387,
          422481,
          426875,
          431727,
          436183,
          439627,
          442995
         ],
         "yaxis": "y"
        },
        {
         "hovertemplate": "%{y:.2f}",
         "name": "em_account",
         "type": "scatter",
         "x": [
          "2018-01-28T00:00:00",
          "2018-02-28T00:00:00",
          "2018-03-28T00:00:00",
          "2018-04-28T00:00:00",
          "2018-05-28T00:00:00",
          "2018-06-28T00:00:00",
          "2018-07-28T00:00:00",
          "2018-08-28T00:00:00",
          "2018-09-28T00:00:00",
          "2018-10-28T00:00:00",
          "2018-11-28T00:00:00",
          "2018-12-28T00:00:00",
          "2019-01-28T00:00:00",
          "2019-02-28T00:00:00",
          "2019-03-28T00:00:00",
          "2019-04-28T00:00:00",
          "2019-05-28T00:00:00"
         ],
         "xaxis": "x2",
         "y": [
          215293,
          217098,
          218683,
          219816,
          221291,
          224328,
          234324,
          245980,
          261210,
          277707,
          284900,
          288928,
          291786,
          292988,
          295046,
          295844,
          296380
         ],
         "yaxis": "y2"
        },
        {
         "hovertemplate": "%{y:.2f}",
         "name": "short_term_deposit",
         "type": "scatter",
         "x": [
          "2018-01-28T00:00:00",
          "2018-02-28T00:00:00",
          "2018-03-28T00:00:00",
          "2018-04-28T00:00:00",
          "2018-05-28T00:00:00",
          "2018-06-28T00:00:00",
          "2018-07-28T00:00:00",
          "2018-08-28T00:00:00",
          "2018-09-28T00:00:00",
          "2018-10-28T00:00:00",
          "2018-11-28T00:00:00",
          "2018-12-28T00:00:00",
          "2019-01-28T00:00:00",
          "2019-02-28T00:00:00",
          "2019-03-28T00:00:00",
          "2019-04-28T00:00:00",
          "2019-05-28T00:00:00"
         ],
         "xaxis": "x2",
         "y": [
          883,
          1343,
          1664,
          1740,
          1455,
          1244,
          1282,
          1335,
          1386,
          1374,
          1018,
          528,
          125,
          11,
          2,
          2,
          2
         ],
         "yaxis": "y2"
        },
        {
         "hovertemplate": "%{y:.2f}",
         "name": "loans",
         "type": "scatter",
         "x": [
          "2018-01-28T00:00:00",
          "2018-02-28T00:00:00",
          "2018-03-28T00:00:00",
          "2018-04-28T00:00:00",
          "2018-05-28T00:00:00",
          "2018-06-28T00:00:00",
          "2018-07-28T00:00:00",
          "2018-08-28T00:00:00",
          "2018-09-28T00:00:00",
          "2018-10-28T00:00:00",
          "2018-11-28T00:00:00",
          "2018-12-28T00:00:00",
          "2019-01-28T00:00:00",
          "2019-02-28T00:00:00",
          "2019-03-28T00:00:00",
          "2019-04-28T00:00:00",
          "2019-05-28T00:00:00"
         ],
         "xaxis": "x2",
         "y": [
          19,
          19,
          23,
          24,
          27,
          27,
          28,
          29,
          31,
          33,
          32,
          30,
          28,
          29,
          29,
          30,
          30
         ],
         "yaxis": "y2"
        },
        {
         "hovertemplate": "%{y:.2f}",
         "name": "mortgage",
         "type": "scatter",
         "x": [
          "2018-01-28T00:00:00",
          "2018-02-28T00:00:00",
          "2018-03-28T00:00:00",
          "2018-04-28T00:00:00",
          "2018-05-28T00:00:00",
          "2018-06-28T00:00:00",
          "2018-07-28T00:00:00",
          "2018-08-28T00:00:00",
          "2018-09-28T00:00:00",
          "2018-10-28T00:00:00",
          "2018-11-28T00:00:00",
          "2018-12-28T00:00:00",
          "2019-01-28T00:00:00",
          "2019-02-28T00:00:00",
          "2019-03-28T00:00:00",
          "2019-04-28T00:00:00",
          "2019-05-28T00:00:00"
         ],
         "xaxis": "x2",
         "y": [
          15,
          15,
          17,
          17,
          18,
          19,
          20,
          20,
          20,
          19,
          19,
          19,
          20,
          20,
          20,
          23,
          23
         ],
         "yaxis": "y2"
        },
        {
         "hovertemplate": "%{y:.2f}",
         "name": "funds",
         "type": "scatter",
         "x": [
          "2018-01-28T00:00:00",
          "2018-02-28T00:00:00",
          "2018-03-28T00:00:00",
          "2018-04-28T00:00:00",
          "2018-05-28T00:00:00",
          "2018-06-28T00:00:00",
          "2018-07-28T00:00:00",
          "2018-08-28T00:00:00",
          "2018-09-28T00:00:00",
          "2018-10-28T00:00:00",
          "2018-11-28T00:00:00",
          "2018-12-28T00:00:00",
          "2019-01-28T00:00:00",
          "2019-02-28T00:00:00",
          "2019-03-28T00:00:00",
          "2019-04-28T00:00:00",
          "2019-05-28T00:00:00"
         ],
         "xaxis": "x2",
         "y": [
          786,
          872,
          969,
          1084,
          1145,
          1159,
          1172,
          1219,
          1237,
          1249,
          1282,
          1322,
          1330,
          1316,
          1322,
          1320,
          1315
         ],
         "yaxis": "y2"
        },
        {
         "hovertemplate": "%{y:.2f}",
         "name": "securities",
         "type": "scatter",
         "x": [
          "2018-01-28T00:00:00",
          "2018-02-28T00:00:00",
          "2018-03-28T00:00:00",
          "2018-04-28T00:00:00",
          "2018-05-28T00:00:00",
          "2018-06-28T00:00:00",
          "2018-07-28T00:00:00",
          "2018-08-28T00:00:00",
          "2018-09-28T00:00:00",
          "2018-10-28T00:00:00",
          "2018-11-28T00:00:00",
          "2018-12-28T00:00:00",
          "2019-01-28T00:00:00",
          "2019-02-28T00:00:00",
          "2019-03-28T00:00:00",
          "2019-04-28T00:00:00",
          "2019-05-28T00:00:00"
         ],
         "xaxis": "x2",
         "y": [
          932,
          965,
          965,
          983,
          1012,
          1019,
          1053,
          1133,
          1201,
          1348,
          1360,
          1420,
          1655,
          1747,
          1769,
          1782,
          1789
         ],
         "yaxis": "y2"
        },
        {
         "hovertemplate": "%{y:.2f}",
         "name": "long_term_deposit",
         "type": "scatter",
         "x": [
          "2018-01-28T00:00:00",
          "2018-02-28T00:00:00",
          "2018-03-28T00:00:00",
          "2018-04-28T00:00:00",
          "2018-05-28T00:00:00",
          "2018-06-28T00:00:00",
          "2018-07-28T00:00:00",
          "2018-08-28T00:00:00",
          "2018-09-28T00:00:00",
          "2018-10-28T00:00:00",
          "2018-11-28T00:00:00",
          "2018-12-28T00:00:00",
          "2019-01-28T00:00:00",
          "2019-02-28T00:00:00",
          "2019-03-28T00:00:00",
          "2019-04-28T00:00:00",
          "2019-05-28T00:00:00"
         ],
         "xaxis": "x2",
         "y": [
          4884,
          4956,
          4965,
          5107,
          5356,
          5588,
          5796,
          5923,
          6158,
          6380,
          6447,
          6749,
          6659,
          6658,
          6537,
          6368,
          6129
         ],
         "yaxis": "y2"
        },
        {
         "hovertemplate": "%{y:.2f}",
         "name": "em_account_pp",
         "type": "scatter",
         "x": [
          "2018-01-28T00:00:00",
          "2018-02-28T00:00:00",
          "2018-03-28T00:00:00",
          "2018-04-28T00:00:00",
          "2018-05-28T00:00:00",
          "2018-06-28T00:00:00",
          "2018-07-28T00:00:00",
          "2018-08-28T00:00:00",
          "2018-09-28T00:00:00",
          "2018-10-28T00:00:00",
          "2018-11-28T00:00:00",
          "2018-12-28T00:00:00",
          "2019-01-28T00:00:00",
          "2019-02-28T00:00:00",
          "2019-03-28T00:00:00",
          "2019-04-28T00:00:00",
          "2019-05-28T00:00:00"
         ],
         "xaxis": "x2",
         "y": [
          0,
          0,
          0,
          0,
          0,
          0,
          0,
          0,
          0,
          0,
          0,
          0,
          0,
          0,
          0,
          0,
          0
         ],
         "yaxis": "y2"
        },
        {
         "hovertemplate": "%{y:.2f}",
         "name": "credit_card",
         "type": "scatter",
         "x": [
          "2018-01-28T00:00:00",
          "2018-02-28T00:00:00",
          "2018-03-28T00:00:00",
          "2018-04-28T00:00:00",
          "2018-05-28T00:00:00",
          "2018-06-28T00:00:00",
          "2018-07-28T00:00:00",
          "2018-08-28T00:00:00",
          "2018-09-28T00:00:00",
          "2018-10-28T00:00:00",
          "2018-11-28T00:00:00",
          "2018-12-28T00:00:00",
          "2019-01-28T00:00:00",
          "2019-02-28T00:00:00",
          "2019-03-28T00:00:00",
          "2019-04-28T00:00:00",
          "2019-05-28T00:00:00"
         ],
         "xaxis": "x2",
         "y": [
          3325,
          3282,
          3511,
          3725,
          3797,
          4002,
          4137,
          4206,
          4289,
          4385,
          4512,
          4536,
          4493,
          4542,
          4576,
          4747,
          4801
         ],
         "yaxis": "y2"
        },
        {
         "hovertemplate": "%{y:.2f}",
         "name": "payroll",
         "type": "scatter",
         "x": [
          "2018-01-28T00:00:00",
          "2018-02-28T00:00:00",
          "2018-03-28T00:00:00",
          "2018-04-28T00:00:00",
          "2018-05-28T00:00:00",
          "2018-06-28T00:00:00",
          "2018-07-28T00:00:00",
          "2018-08-28T00:00:00",
          "2018-09-28T00:00:00",
          "2018-10-28T00:00:00",
          "2018-11-28T00:00:00",
          "2018-12-28T00:00:00",
          "2019-01-28T00:00:00",
          "2019-02-28T00:00:00",
          "2019-03-28T00:00:00",
          "2019-04-28T00:00:00",
          "2019-05-28T00:00:00"
         ],
         "xaxis": "x2",
         "y": [
          8145,
          8889,
          9735,
          9905,
          9994,
          10946,
          11888,
          11383,
          11850,
          12454,
          13032,
          14452,
          12058,
          14378,
          15114,
          15231,
          16333
         ],
         "yaxis": "y2"
        },
        {
         "hovertemplate": "%{y:.2f}",
         "name": "pension_plan",
         "type": "scatter",
         "x": [
          "2018-01-28T00:00:00",
          "2018-02-28T00:00:00",
          "2018-03-28T00:00:00",
          "2018-04-28T00:00:00",
          "2018-05-28T00:00:00",
          "2018-06-28T00:00:00",
          "2018-07-28T00:00:00",
          "2018-08-28T00:00:00",
          "2018-09-28T00:00:00",
          "2018-10-28T00:00:00",
          "2018-11-28T00:00:00",
          "2018-12-28T00:00:00",
          "2019-01-28T00:00:00",
          "2019-02-28T00:00:00",
          "2019-03-28T00:00:00",
          "2019-04-28T00:00:00",
          "2019-05-28T00:00:00"
         ],
         "xaxis": "x2",
         "y": [
          8835,
          9496,
          9882,
          10560,
          10148,
          11635,
          12779,
          12126,
          12624,
          13223,
          13818,
          15324,
          12538,
          15265,
          15976,
          16220,
          17353
         ],
         "yaxis": "y2"
        },
        {
         "hovertemplate": "%{y:.2f}",
         "name": "payroll_account",
         "type": "scatter",
         "x": [
          "2018-01-28T00:00:00",
          "2018-02-28T00:00:00",
          "2018-03-28T00:00:00",
          "2018-04-28T00:00:00",
          "2018-05-28T00:00:00",
          "2018-06-28T00:00:00",
          "2018-07-28T00:00:00",
          "2018-08-28T00:00:00",
          "2018-09-28T00:00:00",
          "2018-10-28T00:00:00",
          "2018-11-28T00:00:00",
          "2018-12-28T00:00:00",
          "2019-01-28T00:00:00",
          "2019-02-28T00:00:00",
          "2019-03-28T00:00:00",
          "2019-04-28T00:00:00",
          "2019-05-28T00:00:00"
         ],
         "xaxis": "x2",
         "y": [
          13478,
          14246,
          14989,
          15825,
          16697,
          15540,
          16916,
          18118,
          18862,
          19945,
          21437,
          21359,
          22324,
          23264,
          24390,
          25501,
          26529
         ],
         "yaxis": "y2"
        },
        {
         "hovertemplate": "%{y:.2f}",
         "name": "emc_account",
         "type": "scatter",
         "x": [
          "2018-01-28T00:00:00",
          "2018-02-28T00:00:00",
          "2018-03-28T00:00:00",
          "2018-04-28T00:00:00",
          "2018-05-28T00:00:00",
          "2018-06-28T00:00:00",
          "2018-07-28T00:00:00",
          "2018-08-28T00:00:00",
          "2018-09-28T00:00:00",
          "2018-10-28T00:00:00",
          "2018-11-28T00:00:00",
          "2018-12-28T00:00:00",
          "2019-01-28T00:00:00",
          "2019-02-28T00:00:00",
          "2019-03-28T00:00:00",
          "2019-04-28T00:00:00",
          "2019-05-28T00:00:00"
         ],
         "xaxis": "x2",
         "y": [
          15320,
          15827,
          16428,
          16947,
          17569,
          17950,
          18185,
          18333,
          18618,
          18844,
          19494,
          20043,
          20921,
          21796,
          22480,
          23455,
          24751
         ],
         "yaxis": "y2"
        },
        {
         "hovertemplate": "%{y:.2f}",
         "name": "debit_card",
         "type": "scatter",
         "x": [
          "2018-01-28T00:00:00",
          "2018-02-28T00:00:00",
          "2018-03-28T00:00:00",
          "2018-04-28T00:00:00",
          "2018-05-28T00:00:00",
          "2018-06-28T00:00:00",
          "2018-07-28T00:00:00",
          "2018-08-28T00:00:00",
          "2018-09-28T00:00:00",
          "2018-10-28T00:00:00",
          "2018-11-28T00:00:00",
          "2018-12-28T00:00:00",
          "2019-01-28T00:00:00",
          "2019-02-28T00:00:00",
          "2019-03-28T00:00:00",
          "2019-04-28T00:00:00",
          "2019-05-28T00:00:00"
         ],
         "xaxis": "x2",
         "y": [
          24696,
          25448,
          27046,
          27764,
          27911,
          28828,
          29578,
          29205,
          31684,
          34372,
          35466,
          37430,
          37350,
          39399,
          41390,
          42140,
          43261
         ],
         "yaxis": "y2"
        },
        {
         "hovertemplate": "%{y:.2f}",
         "name": "em_account_p",
         "type": "scatter",
         "x": [
          "2018-01-28T00:00:00",
          "2018-02-28T00:00:00",
          "2018-03-28T00:00:00",
          "2018-04-28T00:00:00",
          "2018-05-28T00:00:00",
          "2018-06-28T00:00:00",
          "2018-07-28T00:00:00",
          "2018-08-28T00:00:00",
          "2018-09-28T00:00:00",
          "2018-10-28T00:00:00",
          "2018-11-28T00:00:00",
          "2018-12-28T00:00:00",
          "2019-01-28T00:00:00",
          "2019-02-28T00:00:00",
          "2019-03-28T00:00:00",
          "2019-04-28T00:00:00",
          "2019-05-28T00:00:00"
         ],
         "xaxis": "x2",
         "y": [
          2,
          2,
          2,
          2,
          2,
          2,
          2,
          2,
          2,
          2,
          2,
          2,
          2,
          2,
          2,
          2,
          2
         ],
         "yaxis": "y2"
        }
       ],
       "layout": {
        "height": 800,
        "hoverdistance": 200,
        "hovermode": "x unified",
        "spikedistance": 200,
        "template": {
         "data": {
          "bar": [
           {
            "error_x": {
             "color": "#2a3f5f"
            },
            "error_y": {
             "color": "#2a3f5f"
            },
            "marker": {
             "line": {
              "color": "#E5ECF6",
              "width": 0.5
             },
             "pattern": {
              "fillmode": "overlay",
              "size": 10,
              "solidity": 0.2
             }
            },
            "type": "bar"
           }
          ],
          "barpolar": [
           {
            "marker": {
             "line": {
              "color": "#E5ECF6",
              "width": 0.5
             },
             "pattern": {
              "fillmode": "overlay",
              "size": 10,
              "solidity": 0.2
             }
            },
            "type": "barpolar"
           }
          ],
          "carpet": [
           {
            "aaxis": {
             "endlinecolor": "#2a3f5f",
             "gridcolor": "white",
             "linecolor": "white",
             "minorgridcolor": "white",
             "startlinecolor": "#2a3f5f"
            },
            "baxis": {
             "endlinecolor": "#2a3f5f",
             "gridcolor": "white",
             "linecolor": "white",
             "minorgridcolor": "white",
             "startlinecolor": "#2a3f5f"
            },
            "type": "carpet"
           }
          ],
          "choropleth": [
           {
            "colorbar": {
             "outlinewidth": 0,
             "ticks": ""
            },
            "type": "choropleth"
           }
          ],
          "contour": [
           {
            "colorbar": {
             "outlinewidth": 0,
             "ticks": ""
            },
            "colorscale": [
             [
              0,
              "#0d0887"
             ],
             [
              0.1111111111111111,
              "#46039f"
             ],
             [
              0.2222222222222222,
              "#7201a8"
             ],
             [
              0.3333333333333333,
              "#9c179e"
             ],
             [
              0.4444444444444444,
              "#bd3786"
             ],
             [
              0.5555555555555556,
              "#d8576b"
             ],
             [
              0.6666666666666666,
              "#ed7953"
             ],
             [
              0.7777777777777778,
              "#fb9f3a"
             ],
             [
              0.8888888888888888,
              "#fdca26"
             ],
             [
              1,
              "#f0f921"
             ]
            ],
            "type": "contour"
           }
          ],
          "contourcarpet": [
           {
            "colorbar": {
             "outlinewidth": 0,
             "ticks": ""
            },
            "type": "contourcarpet"
           }
          ],
          "heatmap": [
           {
            "colorbar": {
             "outlinewidth": 0,
             "ticks": ""
            },
            "colorscale": [
             [
              0,
              "#0d0887"
             ],
             [
              0.1111111111111111,
              "#46039f"
             ],
             [
              0.2222222222222222,
              "#7201a8"
             ],
             [
              0.3333333333333333,
              "#9c179e"
             ],
             [
              0.4444444444444444,
              "#bd3786"
             ],
             [
              0.5555555555555556,
              "#d8576b"
             ],
             [
              0.6666666666666666,
              "#ed7953"
             ],
             [
              0.7777777777777778,
              "#fb9f3a"
             ],
             [
              0.8888888888888888,
              "#fdca26"
             ],
             [
              1,
              "#f0f921"
             ]
            ],
            "type": "heatmap"
           }
          ],
          "heatmapgl": [
           {
            "colorbar": {
             "outlinewidth": 0,
             "ticks": ""
            },
            "colorscale": [
             [
              0,
              "#0d0887"
             ],
             [
              0.1111111111111111,
              "#46039f"
             ],
             [
              0.2222222222222222,
              "#7201a8"
             ],
             [
              0.3333333333333333,
              "#9c179e"
             ],
             [
              0.4444444444444444,
              "#bd3786"
             ],
             [
              0.5555555555555556,
              "#d8576b"
             ],
             [
              0.6666666666666666,
              "#ed7953"
             ],
             [
              0.7777777777777778,
              "#fb9f3a"
             ],
             [
              0.8888888888888888,
              "#fdca26"
             ],
             [
              1,
              "#f0f921"
             ]
            ],
            "type": "heatmapgl"
           }
          ],
          "histogram": [
           {
            "marker": {
             "pattern": {
              "fillmode": "overlay",
              "size": 10,
              "solidity": 0.2
             }
            },
            "type": "histogram"
           }
          ],
          "histogram2d": [
           {
            "colorbar": {
             "outlinewidth": 0,
             "ticks": ""
            },
            "colorscale": [
             [
              0,
              "#0d0887"
             ],
             [
              0.1111111111111111,
              "#46039f"
             ],
             [
              0.2222222222222222,
              "#7201a8"
             ],
             [
              0.3333333333333333,
              "#9c179e"
             ],
             [
              0.4444444444444444,
              "#bd3786"
             ],
             [
              0.5555555555555556,
              "#d8576b"
             ],
             [
              0.6666666666666666,
              "#ed7953"
             ],
             [
              0.7777777777777778,
              "#fb9f3a"
             ],
             [
              0.8888888888888888,
              "#fdca26"
             ],
             [
              1,
              "#f0f921"
             ]
            ],
            "type": "histogram2d"
           }
          ],
          "histogram2dcontour": [
           {
            "colorbar": {
             "outlinewidth": 0,
             "ticks": ""
            },
            "colorscale": [
             [
              0,
              "#0d0887"
             ],
             [
              0.1111111111111111,
              "#46039f"
             ],
             [
              0.2222222222222222,
              "#7201a8"
             ],
             [
              0.3333333333333333,
              "#9c179e"
             ],
             [
              0.4444444444444444,
              "#bd3786"
             ],
             [
              0.5555555555555556,
              "#d8576b"
             ],
             [
              0.6666666666666666,
              "#ed7953"
             ],
             [
              0.7777777777777778,
              "#fb9f3a"
             ],
             [
              0.8888888888888888,
              "#fdca26"
             ],
             [
              1,
              "#f0f921"
             ]
            ],
            "type": "histogram2dcontour"
           }
          ],
          "mesh3d": [
           {
            "colorbar": {
             "outlinewidth": 0,
             "ticks": ""
            },
            "type": "mesh3d"
           }
          ],
          "parcoords": [
           {
            "line": {
             "colorbar": {
              "outlinewidth": 0,
              "ticks": ""
             }
            },
            "type": "parcoords"
           }
          ],
          "pie": [
           {
            "automargin": true,
            "type": "pie"
           }
          ],
          "scatter": [
           {
            "marker": {
             "colorbar": {
              "outlinewidth": 0,
              "ticks": ""
             }
            },
            "type": "scatter"
           }
          ],
          "scatter3d": [
           {
            "line": {
             "colorbar": {
              "outlinewidth": 0,
              "ticks": ""
             }
            },
            "marker": {
             "colorbar": {
              "outlinewidth": 0,
              "ticks": ""
             }
            },
            "type": "scatter3d"
           }
          ],
          "scattercarpet": [
           {
            "marker": {
             "colorbar": {
              "outlinewidth": 0,
              "ticks": ""
             }
            },
            "type": "scattercarpet"
           }
          ],
          "scattergeo": [
           {
            "marker": {
             "colorbar": {
              "outlinewidth": 0,
              "ticks": ""
             }
            },
            "type": "scattergeo"
           }
          ],
          "scattergl": [
           {
            "marker": {
             "colorbar": {
              "outlinewidth": 0,
              "ticks": ""
             }
            },
            "type": "scattergl"
           }
          ],
          "scattermapbox": [
           {
            "marker": {
             "colorbar": {
              "outlinewidth": 0,
              "ticks": ""
             }
            },
            "type": "scattermapbox"
           }
          ],
          "scatterpolar": [
           {
            "marker": {
             "colorbar": {
              "outlinewidth": 0,
              "ticks": ""
             }
            },
            "type": "scatterpolar"
           }
          ],
          "scatterpolargl": [
           {
            "marker": {
             "colorbar": {
              "outlinewidth": 0,
              "ticks": ""
             }
            },
            "type": "scatterpolargl"
           }
          ],
          "scatterternary": [
           {
            "marker": {
             "colorbar": {
              "outlinewidth": 0,
              "ticks": ""
             }
            },
            "type": "scatterternary"
           }
          ],
          "surface": [
           {
            "colorbar": {
             "outlinewidth": 0,
             "ticks": ""
            },
            "colorscale": [
             [
              0,
              "#0d0887"
             ],
             [
              0.1111111111111111,
              "#46039f"
             ],
             [
              0.2222222222222222,
              "#7201a8"
             ],
             [
              0.3333333333333333,
              "#9c179e"
             ],
             [
              0.4444444444444444,
              "#bd3786"
             ],
             [
              0.5555555555555556,
              "#d8576b"
             ],
             [
              0.6666666666666666,
              "#ed7953"
             ],
             [
              0.7777777777777778,
              "#fb9f3a"
             ],
             [
              0.8888888888888888,
              "#fdca26"
             ],
             [
              1,
              "#f0f921"
             ]
            ],
            "type": "surface"
           }
          ],
          "table": [
           {
            "cells": {
             "fill": {
              "color": "#EBF0F8"
             },
             "line": {
              "color": "white"
             }
            },
            "header": {
             "fill": {
              "color": "#C8D4E3"
             },
             "line": {
              "color": "white"
             }
            },
            "type": "table"
           }
          ]
         },
         "layout": {
          "annotationdefaults": {
           "arrowcolor": "#2a3f5f",
           "arrowhead": 0,
           "arrowwidth": 1
          },
          "autotypenumbers": "strict",
          "coloraxis": {
           "colorbar": {
            "outlinewidth": 0,
            "ticks": ""
           }
          },
          "colorscale": {
           "diverging": [
            [
             0,
             "#8e0152"
            ],
            [
             0.1,
             "#c51b7d"
            ],
            [
             0.2,
             "#de77ae"
            ],
            [
             0.3,
             "#f1b6da"
            ],
            [
             0.4,
             "#fde0ef"
            ],
            [
             0.5,
             "#f7f7f7"
            ],
            [
             0.6,
             "#e6f5d0"
            ],
            [
             0.7,
             "#b8e186"
            ],
            [
             0.8,
             "#7fbc41"
            ],
            [
             0.9,
             "#4d9221"
            ],
            [
             1,
             "#276419"
            ]
           ],
           "sequential": [
            [
             0,
             "#0d0887"
            ],
            [
             0.1111111111111111,
             "#46039f"
            ],
            [
             0.2222222222222222,
             "#7201a8"
            ],
            [
             0.3333333333333333,
             "#9c179e"
            ],
            [
             0.4444444444444444,
             "#bd3786"
            ],
            [
             0.5555555555555556,
             "#d8576b"
            ],
            [
             0.6666666666666666,
             "#ed7953"
            ],
            [
             0.7777777777777778,
             "#fb9f3a"
            ],
            [
             0.8888888888888888,
             "#fdca26"
            ],
            [
             1,
             "#f0f921"
            ]
           ],
           "sequentialminus": [
            [
             0,
             "#0d0887"
            ],
            [
             0.1111111111111111,
             "#46039f"
            ],
            [
             0.2222222222222222,
             "#7201a8"
            ],
            [
             0.3333333333333333,
             "#9c179e"
            ],
            [
             0.4444444444444444,
             "#bd3786"
            ],
            [
             0.5555555555555556,
             "#d8576b"
            ],
            [
             0.6666666666666666,
             "#ed7953"
            ],
            [
             0.7777777777777778,
             "#fb9f3a"
            ],
            [
             0.8888888888888888,
             "#fdca26"
            ],
            [
             1,
             "#f0f921"
            ]
           ]
          },
          "colorway": [
           "#636efa",
           "#EF553B",
           "#00cc96",
           "#ab63fa",
           "#FFA15A",
           "#19d3f3",
           "#FF6692",
           "#B6E880",
           "#FF97FF",
           "#FECB52"
          ],
          "font": {
           "color": "#2a3f5f"
          },
          "geo": {
           "bgcolor": "white",
           "lakecolor": "white",
           "landcolor": "#E5ECF6",
           "showlakes": true,
           "showland": true,
           "subunitcolor": "white"
          },
          "hoverlabel": {
           "align": "left"
          },
          "hovermode": "closest",
          "mapbox": {
           "style": "light"
          },
          "paper_bgcolor": "white",
          "plot_bgcolor": "#E5ECF6",
          "polar": {
           "angularaxis": {
            "gridcolor": "white",
            "linecolor": "white",
            "ticks": ""
           },
           "bgcolor": "#E5ECF6",
           "radialaxis": {
            "gridcolor": "white",
            "linecolor": "white",
            "ticks": ""
           }
          },
          "scene": {
           "xaxis": {
            "backgroundcolor": "#E5ECF6",
            "gridcolor": "white",
            "gridwidth": 2,
            "linecolor": "white",
            "showbackground": true,
            "ticks": "",
            "zerolinecolor": "white"
           },
           "yaxis": {
            "backgroundcolor": "#E5ECF6",
            "gridcolor": "white",
            "gridwidth": 2,
            "linecolor": "white",
            "showbackground": true,
            "ticks": "",
            "zerolinecolor": "white"
           },
           "zaxis": {
            "backgroundcolor": "#E5ECF6",
            "gridcolor": "white",
            "gridwidth": 2,
            "linecolor": "white",
            "showbackground": true,
            "ticks": "",
            "zerolinecolor": "white"
           }
          },
          "shapedefaults": {
           "line": {
            "color": "#2a3f5f"
           }
          },
          "ternary": {
           "aaxis": {
            "gridcolor": "white",
            "linecolor": "white",
            "ticks": ""
           },
           "baxis": {
            "gridcolor": "white",
            "linecolor": "white",
            "ticks": ""
           },
           "bgcolor": "#E5ECF6",
           "caxis": {
            "gridcolor": "white",
            "linecolor": "white",
            "ticks": ""
           }
          },
          "title": {
           "x": 0.05
          },
          "xaxis": {
           "automargin": true,
           "gridcolor": "white",
           "linecolor": "white",
           "ticks": "",
           "title": {
            "standoff": 15
           },
           "zerolinecolor": "white",
           "zerolinewidth": 2
          },
          "yaxis": {
           "automargin": true,
           "gridcolor": "white",
           "linecolor": "white",
           "ticks": "",
           "title": {
            "standoff": 15
           },
           "zerolinecolor": "white",
           "zerolinewidth": 2
          }
         }
        },
        "title": {
         "text": "Clientes"
        },
        "transition": {
         "duration": 500
        },
        "width": 800,
        "xaxis": {
         "anchor": "y",
         "domain": [
          0,
          1
         ],
         "showspikes": true,
         "spikecolor": "#999999",
         "spikemode": "across",
         "spikethickness": 2
        },
        "xaxis2": {
         "anchor": "y2",
         "domain": [
          0,
          1
         ],
         "showspikes": true,
         "spikecolor": "#999999",
         "spikemode": "across",
         "spikethickness": 2
        },
        "yaxis": {
         "anchor": "x",
         "domain": [
          0.575,
          1
         ],
         "tickprefix": ""
        },
        "yaxis2": {
         "anchor": "x2",
         "domain": [
          0,
          0.425
         ],
         "tickprefix": ""
        }
       }
      },
      "text/html": [
       "<div>                            <div id=\"fce63346-644e-4ef0-b3cc-7f3d0eba5d56\" class=\"plotly-graph-div\" style=\"height:800px; width:800px;\"></div>            <script type=\"text/javascript\">                require([\"plotly\"], function(Plotly) {                    window.PLOTLYENV=window.PLOTLYENV || {};                                    if (document.getElementById(\"fce63346-644e-4ef0-b3cc-7f3d0eba5d56\")) {                    Plotly.newPlot(                        \"fce63346-644e-4ef0-b3cc-7f3d0eba5d56\",                        [{\"hovertemplate\":\"%{y:.2f}\",\"name\":\"num_clientes\",\"type\":\"scatter\",\"x\":[\"2018-01-28T00:00:00\",\"2018-02-28T00:00:00\",\"2018-03-28T00:00:00\",\"2018-04-28T00:00:00\",\"2018-05-28T00:00:00\",\"2018-06-28T00:00:00\",\"2018-07-28T00:00:00\",\"2018-08-28T00:00:00\",\"2018-09-28T00:00:00\",\"2018-10-28T00:00:00\",\"2018-11-28T00:00:00\",\"2018-12-28T00:00:00\",\"2019-01-28T00:00:00\",\"2019-02-28T00:00:00\",\"2019-03-28T00:00:00\",\"2019-04-28T00:00:00\",\"2019-05-28T00:00:00\"],\"xaxis\":\"x\",\"y\":[239493.0,242521.0,245258.0,247463.0,249926.0,252104.0,339339.0,352922.0,375323.0,402300.0,416387.0,422481.0,426875.0,431727.0,436183.0,439627.0,442995.0],\"yaxis\":\"y\"},{\"hovertemplate\":\"%{y:.2f}\",\"name\":\"em_account\",\"type\":\"scatter\",\"x\":[\"2018-01-28T00:00:00\",\"2018-02-28T00:00:00\",\"2018-03-28T00:00:00\",\"2018-04-28T00:00:00\",\"2018-05-28T00:00:00\",\"2018-06-28T00:00:00\",\"2018-07-28T00:00:00\",\"2018-08-28T00:00:00\",\"2018-09-28T00:00:00\",\"2018-10-28T00:00:00\",\"2018-11-28T00:00:00\",\"2018-12-28T00:00:00\",\"2019-01-28T00:00:00\",\"2019-02-28T00:00:00\",\"2019-03-28T00:00:00\",\"2019-04-28T00:00:00\",\"2019-05-28T00:00:00\"],\"xaxis\":\"x2\",\"y\":[215293.0,217098.0,218683.0,219816.0,221291.0,224328.0,234324.0,245980.0,261210.0,277707.0,284900.0,288928.0,291786.0,292988.0,295046.0,295844.0,296380.0],\"yaxis\":\"y2\"},{\"hovertemplate\":\"%{y:.2f}\",\"name\":\"short_term_deposit\",\"type\":\"scatter\",\"x\":[\"2018-01-28T00:00:00\",\"2018-02-28T00:00:00\",\"2018-03-28T00:00:00\",\"2018-04-28T00:00:00\",\"2018-05-28T00:00:00\",\"2018-06-28T00:00:00\",\"2018-07-28T00:00:00\",\"2018-08-28T00:00:00\",\"2018-09-28T00:00:00\",\"2018-10-28T00:00:00\",\"2018-11-28T00:00:00\",\"2018-12-28T00:00:00\",\"2019-01-28T00:00:00\",\"2019-02-28T00:00:00\",\"2019-03-28T00:00:00\",\"2019-04-28T00:00:00\",\"2019-05-28T00:00:00\"],\"xaxis\":\"x2\",\"y\":[883.0,1343.0,1664.0,1740.0,1455.0,1244.0,1282.0,1335.0,1386.0,1374.0,1018.0,528.0,125.0,11.0,2.0,2.0,2.0],\"yaxis\":\"y2\"},{\"hovertemplate\":\"%{y:.2f}\",\"name\":\"loans\",\"type\":\"scatter\",\"x\":[\"2018-01-28T00:00:00\",\"2018-02-28T00:00:00\",\"2018-03-28T00:00:00\",\"2018-04-28T00:00:00\",\"2018-05-28T00:00:00\",\"2018-06-28T00:00:00\",\"2018-07-28T00:00:00\",\"2018-08-28T00:00:00\",\"2018-09-28T00:00:00\",\"2018-10-28T00:00:00\",\"2018-11-28T00:00:00\",\"2018-12-28T00:00:00\",\"2019-01-28T00:00:00\",\"2019-02-28T00:00:00\",\"2019-03-28T00:00:00\",\"2019-04-28T00:00:00\",\"2019-05-28T00:00:00\"],\"xaxis\":\"x2\",\"y\":[19.0,19.0,23.0,24.0,27.0,27.0,28.0,29.0,31.0,33.0,32.0,30.0,28.0,29.0,29.0,30.0,30.0],\"yaxis\":\"y2\"},{\"hovertemplate\":\"%{y:.2f}\",\"name\":\"mortgage\",\"type\":\"scatter\",\"x\":[\"2018-01-28T00:00:00\",\"2018-02-28T00:00:00\",\"2018-03-28T00:00:00\",\"2018-04-28T00:00:00\",\"2018-05-28T00:00:00\",\"2018-06-28T00:00:00\",\"2018-07-28T00:00:00\",\"2018-08-28T00:00:00\",\"2018-09-28T00:00:00\",\"2018-10-28T00:00:00\",\"2018-11-28T00:00:00\",\"2018-12-28T00:00:00\",\"2019-01-28T00:00:00\",\"2019-02-28T00:00:00\",\"2019-03-28T00:00:00\",\"2019-04-28T00:00:00\",\"2019-05-28T00:00:00\"],\"xaxis\":\"x2\",\"y\":[15.0,15.0,17.0,17.0,18.0,19.0,20.0,20.0,20.0,19.0,19.0,19.0,20.0,20.0,20.0,23.0,23.0],\"yaxis\":\"y2\"},{\"hovertemplate\":\"%{y:.2f}\",\"name\":\"funds\",\"type\":\"scatter\",\"x\":[\"2018-01-28T00:00:00\",\"2018-02-28T00:00:00\",\"2018-03-28T00:00:00\",\"2018-04-28T00:00:00\",\"2018-05-28T00:00:00\",\"2018-06-28T00:00:00\",\"2018-07-28T00:00:00\",\"2018-08-28T00:00:00\",\"2018-09-28T00:00:00\",\"2018-10-28T00:00:00\",\"2018-11-28T00:00:00\",\"2018-12-28T00:00:00\",\"2019-01-28T00:00:00\",\"2019-02-28T00:00:00\",\"2019-03-28T00:00:00\",\"2019-04-28T00:00:00\",\"2019-05-28T00:00:00\"],\"xaxis\":\"x2\",\"y\":[786.0,872.0,969.0,1084.0,1145.0,1159.0,1172.0,1219.0,1237.0,1249.0,1282.0,1322.0,1330.0,1316.0,1322.0,1320.0,1315.0],\"yaxis\":\"y2\"},{\"hovertemplate\":\"%{y:.2f}\",\"name\":\"securities\",\"type\":\"scatter\",\"x\":[\"2018-01-28T00:00:00\",\"2018-02-28T00:00:00\",\"2018-03-28T00:00:00\",\"2018-04-28T00:00:00\",\"2018-05-28T00:00:00\",\"2018-06-28T00:00:00\",\"2018-07-28T00:00:00\",\"2018-08-28T00:00:00\",\"2018-09-28T00:00:00\",\"2018-10-28T00:00:00\",\"2018-11-28T00:00:00\",\"2018-12-28T00:00:00\",\"2019-01-28T00:00:00\",\"2019-02-28T00:00:00\",\"2019-03-28T00:00:00\",\"2019-04-28T00:00:00\",\"2019-05-28T00:00:00\"],\"xaxis\":\"x2\",\"y\":[932.0,965.0,965.0,983.0,1012.0,1019.0,1053.0,1133.0,1201.0,1348.0,1360.0,1420.0,1655.0,1747.0,1769.0,1782.0,1789.0],\"yaxis\":\"y2\"},{\"hovertemplate\":\"%{y:.2f}\",\"name\":\"long_term_deposit\",\"type\":\"scatter\",\"x\":[\"2018-01-28T00:00:00\",\"2018-02-28T00:00:00\",\"2018-03-28T00:00:00\",\"2018-04-28T00:00:00\",\"2018-05-28T00:00:00\",\"2018-06-28T00:00:00\",\"2018-07-28T00:00:00\",\"2018-08-28T00:00:00\",\"2018-09-28T00:00:00\",\"2018-10-28T00:00:00\",\"2018-11-28T00:00:00\",\"2018-12-28T00:00:00\",\"2019-01-28T00:00:00\",\"2019-02-28T00:00:00\",\"2019-03-28T00:00:00\",\"2019-04-28T00:00:00\",\"2019-05-28T00:00:00\"],\"xaxis\":\"x2\",\"y\":[4884.0,4956.0,4965.0,5107.0,5356.0,5588.0,5796.0,5923.0,6158.0,6380.0,6447.0,6749.0,6659.0,6658.0,6537.0,6368.0,6129.0],\"yaxis\":\"y2\"},{\"hovertemplate\":\"%{y:.2f}\",\"name\":\"em_account_pp\",\"type\":\"scatter\",\"x\":[\"2018-01-28T00:00:00\",\"2018-02-28T00:00:00\",\"2018-03-28T00:00:00\",\"2018-04-28T00:00:00\",\"2018-05-28T00:00:00\",\"2018-06-28T00:00:00\",\"2018-07-28T00:00:00\",\"2018-08-28T00:00:00\",\"2018-09-28T00:00:00\",\"2018-10-28T00:00:00\",\"2018-11-28T00:00:00\",\"2018-12-28T00:00:00\",\"2019-01-28T00:00:00\",\"2019-02-28T00:00:00\",\"2019-03-28T00:00:00\",\"2019-04-28T00:00:00\",\"2019-05-28T00:00:00\"],\"xaxis\":\"x2\",\"y\":[0.0,0.0,0.0,0.0,0.0,0.0,0.0,0.0,0.0,0.0,0.0,0.0,0.0,0.0,0.0,0.0,0.0],\"yaxis\":\"y2\"},{\"hovertemplate\":\"%{y:.2f}\",\"name\":\"credit_card\",\"type\":\"scatter\",\"x\":[\"2018-01-28T00:00:00\",\"2018-02-28T00:00:00\",\"2018-03-28T00:00:00\",\"2018-04-28T00:00:00\",\"2018-05-28T00:00:00\",\"2018-06-28T00:00:00\",\"2018-07-28T00:00:00\",\"2018-08-28T00:00:00\",\"2018-09-28T00:00:00\",\"2018-10-28T00:00:00\",\"2018-11-28T00:00:00\",\"2018-12-28T00:00:00\",\"2019-01-28T00:00:00\",\"2019-02-28T00:00:00\",\"2019-03-28T00:00:00\",\"2019-04-28T00:00:00\",\"2019-05-28T00:00:00\"],\"xaxis\":\"x2\",\"y\":[3325.0,3282.0,3511.0,3725.0,3797.0,4002.0,4137.0,4206.0,4289.0,4385.0,4512.0,4536.0,4493.0,4542.0,4576.0,4747.0,4801.0],\"yaxis\":\"y2\"},{\"hovertemplate\":\"%{y:.2f}\",\"name\":\"payroll\",\"type\":\"scatter\",\"x\":[\"2018-01-28T00:00:00\",\"2018-02-28T00:00:00\",\"2018-03-28T00:00:00\",\"2018-04-28T00:00:00\",\"2018-05-28T00:00:00\",\"2018-06-28T00:00:00\",\"2018-07-28T00:00:00\",\"2018-08-28T00:00:00\",\"2018-09-28T00:00:00\",\"2018-10-28T00:00:00\",\"2018-11-28T00:00:00\",\"2018-12-28T00:00:00\",\"2019-01-28T00:00:00\",\"2019-02-28T00:00:00\",\"2019-03-28T00:00:00\",\"2019-04-28T00:00:00\",\"2019-05-28T00:00:00\"],\"xaxis\":\"x2\",\"y\":[8145.0,8889.0,9735.0,9905.0,9994.0,10946.0,11888.0,11383.0,11850.0,12454.0,13032.0,14452.0,12058.0,14378.0,15114.0,15231.0,16333.0],\"yaxis\":\"y2\"},{\"hovertemplate\":\"%{y:.2f}\",\"name\":\"pension_plan\",\"type\":\"scatter\",\"x\":[\"2018-01-28T00:00:00\",\"2018-02-28T00:00:00\",\"2018-03-28T00:00:00\",\"2018-04-28T00:00:00\",\"2018-05-28T00:00:00\",\"2018-06-28T00:00:00\",\"2018-07-28T00:00:00\",\"2018-08-28T00:00:00\",\"2018-09-28T00:00:00\",\"2018-10-28T00:00:00\",\"2018-11-28T00:00:00\",\"2018-12-28T00:00:00\",\"2019-01-28T00:00:00\",\"2019-02-28T00:00:00\",\"2019-03-28T00:00:00\",\"2019-04-28T00:00:00\",\"2019-05-28T00:00:00\"],\"xaxis\":\"x2\",\"y\":[8835.0,9496.0,9882.0,10560.0,10148.0,11635.0,12779.0,12126.0,12624.0,13223.0,13818.0,15324.0,12538.0,15265.0,15976.0,16220.0,17353.0],\"yaxis\":\"y2\"},{\"hovertemplate\":\"%{y:.2f}\",\"name\":\"payroll_account\",\"type\":\"scatter\",\"x\":[\"2018-01-28T00:00:00\",\"2018-02-28T00:00:00\",\"2018-03-28T00:00:00\",\"2018-04-28T00:00:00\",\"2018-05-28T00:00:00\",\"2018-06-28T00:00:00\",\"2018-07-28T00:00:00\",\"2018-08-28T00:00:00\",\"2018-09-28T00:00:00\",\"2018-10-28T00:00:00\",\"2018-11-28T00:00:00\",\"2018-12-28T00:00:00\",\"2019-01-28T00:00:00\",\"2019-02-28T00:00:00\",\"2019-03-28T00:00:00\",\"2019-04-28T00:00:00\",\"2019-05-28T00:00:00\"],\"xaxis\":\"x2\",\"y\":[13478.0,14246.0,14989.0,15825.0,16697.0,15540.0,16916.0,18118.0,18862.0,19945.0,21437.0,21359.0,22324.0,23264.0,24390.0,25501.0,26529.0],\"yaxis\":\"y2\"},{\"hovertemplate\":\"%{y:.2f}\",\"name\":\"emc_account\",\"type\":\"scatter\",\"x\":[\"2018-01-28T00:00:00\",\"2018-02-28T00:00:00\",\"2018-03-28T00:00:00\",\"2018-04-28T00:00:00\",\"2018-05-28T00:00:00\",\"2018-06-28T00:00:00\",\"2018-07-28T00:00:00\",\"2018-08-28T00:00:00\",\"2018-09-28T00:00:00\",\"2018-10-28T00:00:00\",\"2018-11-28T00:00:00\",\"2018-12-28T00:00:00\",\"2019-01-28T00:00:00\",\"2019-02-28T00:00:00\",\"2019-03-28T00:00:00\",\"2019-04-28T00:00:00\",\"2019-05-28T00:00:00\"],\"xaxis\":\"x2\",\"y\":[15320.0,15827.0,16428.0,16947.0,17569.0,17950.0,18185.0,18333.0,18618.0,18844.0,19494.0,20043.0,20921.0,21796.0,22480.0,23455.0,24751.0],\"yaxis\":\"y2\"},{\"hovertemplate\":\"%{y:.2f}\",\"name\":\"debit_card\",\"type\":\"scatter\",\"x\":[\"2018-01-28T00:00:00\",\"2018-02-28T00:00:00\",\"2018-03-28T00:00:00\",\"2018-04-28T00:00:00\",\"2018-05-28T00:00:00\",\"2018-06-28T00:00:00\",\"2018-07-28T00:00:00\",\"2018-08-28T00:00:00\",\"2018-09-28T00:00:00\",\"2018-10-28T00:00:00\",\"2018-11-28T00:00:00\",\"2018-12-28T00:00:00\",\"2019-01-28T00:00:00\",\"2019-02-28T00:00:00\",\"2019-03-28T00:00:00\",\"2019-04-28T00:00:00\",\"2019-05-28T00:00:00\"],\"xaxis\":\"x2\",\"y\":[24696.0,25448.0,27046.0,27764.0,27911.0,28828.0,29578.0,29205.0,31684.0,34372.0,35466.0,37430.0,37350.0,39399.0,41390.0,42140.0,43261.0],\"yaxis\":\"y2\"},{\"hovertemplate\":\"%{y:.2f}\",\"name\":\"em_account_p\",\"type\":\"scatter\",\"x\":[\"2018-01-28T00:00:00\",\"2018-02-28T00:00:00\",\"2018-03-28T00:00:00\",\"2018-04-28T00:00:00\",\"2018-05-28T00:00:00\",\"2018-06-28T00:00:00\",\"2018-07-28T00:00:00\",\"2018-08-28T00:00:00\",\"2018-09-28T00:00:00\",\"2018-10-28T00:00:00\",\"2018-11-28T00:00:00\",\"2018-12-28T00:00:00\",\"2019-01-28T00:00:00\",\"2019-02-28T00:00:00\",\"2019-03-28T00:00:00\",\"2019-04-28T00:00:00\",\"2019-05-28T00:00:00\"],\"xaxis\":\"x2\",\"y\":[2.0,2.0,2.0,2.0,2.0,2.0,2.0,2.0,2.0,2.0,2.0,2.0,2.0,2.0,2.0,2.0,2.0],\"yaxis\":\"y2\"}],                        {\"height\":800,\"hoverdistance\":200,\"hovermode\":\"x unified\",\"spikedistance\":200,\"template\":{\"data\":{\"bar\":[{\"error_x\":{\"color\":\"#2a3f5f\"},\"error_y\":{\"color\":\"#2a3f5f\"},\"marker\":{\"line\":{\"color\":\"#E5ECF6\",\"width\":0.5},\"pattern\":{\"fillmode\":\"overlay\",\"size\":10,\"solidity\":0.2}},\"type\":\"bar\"}],\"barpolar\":[{\"marker\":{\"line\":{\"color\":\"#E5ECF6\",\"width\":0.5},\"pattern\":{\"fillmode\":\"overlay\",\"size\":10,\"solidity\":0.2}},\"type\":\"barpolar\"}],\"carpet\":[{\"aaxis\":{\"endlinecolor\":\"#2a3f5f\",\"gridcolor\":\"white\",\"linecolor\":\"white\",\"minorgridcolor\":\"white\",\"startlinecolor\":\"#2a3f5f\"},\"baxis\":{\"endlinecolor\":\"#2a3f5f\",\"gridcolor\":\"white\",\"linecolor\":\"white\",\"minorgridcolor\":\"white\",\"startlinecolor\":\"#2a3f5f\"},\"type\":\"carpet\"}],\"choropleth\":[{\"colorbar\":{\"outlinewidth\":0,\"ticks\":\"\"},\"type\":\"choropleth\"}],\"contour\":[{\"colorbar\":{\"outlinewidth\":0,\"ticks\":\"\"},\"colorscale\":[[0.0,\"#0d0887\"],[0.1111111111111111,\"#46039f\"],[0.2222222222222222,\"#7201a8\"],[0.3333333333333333,\"#9c179e\"],[0.4444444444444444,\"#bd3786\"],[0.5555555555555556,\"#d8576b\"],[0.6666666666666666,\"#ed7953\"],[0.7777777777777778,\"#fb9f3a\"],[0.8888888888888888,\"#fdca26\"],[1.0,\"#f0f921\"]],\"type\":\"contour\"}],\"contourcarpet\":[{\"colorbar\":{\"outlinewidth\":0,\"ticks\":\"\"},\"type\":\"contourcarpet\"}],\"heatmap\":[{\"colorbar\":{\"outlinewidth\":0,\"ticks\":\"\"},\"colorscale\":[[0.0,\"#0d0887\"],[0.1111111111111111,\"#46039f\"],[0.2222222222222222,\"#7201a8\"],[0.3333333333333333,\"#9c179e\"],[0.4444444444444444,\"#bd3786\"],[0.5555555555555556,\"#d8576b\"],[0.6666666666666666,\"#ed7953\"],[0.7777777777777778,\"#fb9f3a\"],[0.8888888888888888,\"#fdca26\"],[1.0,\"#f0f921\"]],\"type\":\"heatmap\"}],\"heatmapgl\":[{\"colorbar\":{\"outlinewidth\":0,\"ticks\":\"\"},\"colorscale\":[[0.0,\"#0d0887\"],[0.1111111111111111,\"#46039f\"],[0.2222222222222222,\"#7201a8\"],[0.3333333333333333,\"#9c179e\"],[0.4444444444444444,\"#bd3786\"],[0.5555555555555556,\"#d8576b\"],[0.6666666666666666,\"#ed7953\"],[0.7777777777777778,\"#fb9f3a\"],[0.8888888888888888,\"#fdca26\"],[1.0,\"#f0f921\"]],\"type\":\"heatmapgl\"}],\"histogram\":[{\"marker\":{\"pattern\":{\"fillmode\":\"overlay\",\"size\":10,\"solidity\":0.2}},\"type\":\"histogram\"}],\"histogram2d\":[{\"colorbar\":{\"outlinewidth\":0,\"ticks\":\"\"},\"colorscale\":[[0.0,\"#0d0887\"],[0.1111111111111111,\"#46039f\"],[0.2222222222222222,\"#7201a8\"],[0.3333333333333333,\"#9c179e\"],[0.4444444444444444,\"#bd3786\"],[0.5555555555555556,\"#d8576b\"],[0.6666666666666666,\"#ed7953\"],[0.7777777777777778,\"#fb9f3a\"],[0.8888888888888888,\"#fdca26\"],[1.0,\"#f0f921\"]],\"type\":\"histogram2d\"}],\"histogram2dcontour\":[{\"colorbar\":{\"outlinewidth\":0,\"ticks\":\"\"},\"colorscale\":[[0.0,\"#0d0887\"],[0.1111111111111111,\"#46039f\"],[0.2222222222222222,\"#7201a8\"],[0.3333333333333333,\"#9c179e\"],[0.4444444444444444,\"#bd3786\"],[0.5555555555555556,\"#d8576b\"],[0.6666666666666666,\"#ed7953\"],[0.7777777777777778,\"#fb9f3a\"],[0.8888888888888888,\"#fdca26\"],[1.0,\"#f0f921\"]],\"type\":\"histogram2dcontour\"}],\"mesh3d\":[{\"colorbar\":{\"outlinewidth\":0,\"ticks\":\"\"},\"type\":\"mesh3d\"}],\"parcoords\":[{\"line\":{\"colorbar\":{\"outlinewidth\":0,\"ticks\":\"\"}},\"type\":\"parcoords\"}],\"pie\":[{\"automargin\":true,\"type\":\"pie\"}],\"scatter\":[{\"marker\":{\"colorbar\":{\"outlinewidth\":0,\"ticks\":\"\"}},\"type\":\"scatter\"}],\"scatter3d\":[{\"line\":{\"colorbar\":{\"outlinewidth\":0,\"ticks\":\"\"}},\"marker\":{\"colorbar\":{\"outlinewidth\":0,\"ticks\":\"\"}},\"type\":\"scatter3d\"}],\"scattercarpet\":[{\"marker\":{\"colorbar\":{\"outlinewidth\":0,\"ticks\":\"\"}},\"type\":\"scattercarpet\"}],\"scattergeo\":[{\"marker\":{\"colorbar\":{\"outlinewidth\":0,\"ticks\":\"\"}},\"type\":\"scattergeo\"}],\"scattergl\":[{\"marker\":{\"colorbar\":{\"outlinewidth\":0,\"ticks\":\"\"}},\"type\":\"scattergl\"}],\"scattermapbox\":[{\"marker\":{\"colorbar\":{\"outlinewidth\":0,\"ticks\":\"\"}},\"type\":\"scattermapbox\"}],\"scatterpolar\":[{\"marker\":{\"colorbar\":{\"outlinewidth\":0,\"ticks\":\"\"}},\"type\":\"scatterpolar\"}],\"scatterpolargl\":[{\"marker\":{\"colorbar\":{\"outlinewidth\":0,\"ticks\":\"\"}},\"type\":\"scatterpolargl\"}],\"scatterternary\":[{\"marker\":{\"colorbar\":{\"outlinewidth\":0,\"ticks\":\"\"}},\"type\":\"scatterternary\"}],\"surface\":[{\"colorbar\":{\"outlinewidth\":0,\"ticks\":\"\"},\"colorscale\":[[0.0,\"#0d0887\"],[0.1111111111111111,\"#46039f\"],[0.2222222222222222,\"#7201a8\"],[0.3333333333333333,\"#9c179e\"],[0.4444444444444444,\"#bd3786\"],[0.5555555555555556,\"#d8576b\"],[0.6666666666666666,\"#ed7953\"],[0.7777777777777778,\"#fb9f3a\"],[0.8888888888888888,\"#fdca26\"],[1.0,\"#f0f921\"]],\"type\":\"surface\"}],\"table\":[{\"cells\":{\"fill\":{\"color\":\"#EBF0F8\"},\"line\":{\"color\":\"white\"}},\"header\":{\"fill\":{\"color\":\"#C8D4E3\"},\"line\":{\"color\":\"white\"}},\"type\":\"table\"}]},\"layout\":{\"annotationdefaults\":{\"arrowcolor\":\"#2a3f5f\",\"arrowhead\":0,\"arrowwidth\":1},\"autotypenumbers\":\"strict\",\"coloraxis\":{\"colorbar\":{\"outlinewidth\":0,\"ticks\":\"\"}},\"colorscale\":{\"diverging\":[[0,\"#8e0152\"],[0.1,\"#c51b7d\"],[0.2,\"#de77ae\"],[0.3,\"#f1b6da\"],[0.4,\"#fde0ef\"],[0.5,\"#f7f7f7\"],[0.6,\"#e6f5d0\"],[0.7,\"#b8e186\"],[0.8,\"#7fbc41\"],[0.9,\"#4d9221\"],[1,\"#276419\"]],\"sequential\":[[0.0,\"#0d0887\"],[0.1111111111111111,\"#46039f\"],[0.2222222222222222,\"#7201a8\"],[0.3333333333333333,\"#9c179e\"],[0.4444444444444444,\"#bd3786\"],[0.5555555555555556,\"#d8576b\"],[0.6666666666666666,\"#ed7953\"],[0.7777777777777778,\"#fb9f3a\"],[0.8888888888888888,\"#fdca26\"],[1.0,\"#f0f921\"]],\"sequentialminus\":[[0.0,\"#0d0887\"],[0.1111111111111111,\"#46039f\"],[0.2222222222222222,\"#7201a8\"],[0.3333333333333333,\"#9c179e\"],[0.4444444444444444,\"#bd3786\"],[0.5555555555555556,\"#d8576b\"],[0.6666666666666666,\"#ed7953\"],[0.7777777777777778,\"#fb9f3a\"],[0.8888888888888888,\"#fdca26\"],[1.0,\"#f0f921\"]]},\"colorway\":[\"#636efa\",\"#EF553B\",\"#00cc96\",\"#ab63fa\",\"#FFA15A\",\"#19d3f3\",\"#FF6692\",\"#B6E880\",\"#FF97FF\",\"#FECB52\"],\"font\":{\"color\":\"#2a3f5f\"},\"geo\":{\"bgcolor\":\"white\",\"lakecolor\":\"white\",\"landcolor\":\"#E5ECF6\",\"showlakes\":true,\"showland\":true,\"subunitcolor\":\"white\"},\"hoverlabel\":{\"align\":\"left\"},\"hovermode\":\"closest\",\"mapbox\":{\"style\":\"light\"},\"paper_bgcolor\":\"white\",\"plot_bgcolor\":\"#E5ECF6\",\"polar\":{\"angularaxis\":{\"gridcolor\":\"white\",\"linecolor\":\"white\",\"ticks\":\"\"},\"bgcolor\":\"#E5ECF6\",\"radialaxis\":{\"gridcolor\":\"white\",\"linecolor\":\"white\",\"ticks\":\"\"}},\"scene\":{\"xaxis\":{\"backgroundcolor\":\"#E5ECF6\",\"gridcolor\":\"white\",\"gridwidth\":2,\"linecolor\":\"white\",\"showbackground\":true,\"ticks\":\"\",\"zerolinecolor\":\"white\"},\"yaxis\":{\"backgroundcolor\":\"#E5ECF6\",\"gridcolor\":\"white\",\"gridwidth\":2,\"linecolor\":\"white\",\"showbackground\":true,\"ticks\":\"\",\"zerolinecolor\":\"white\"},\"zaxis\":{\"backgroundcolor\":\"#E5ECF6\",\"gridcolor\":\"white\",\"gridwidth\":2,\"linecolor\":\"white\",\"showbackground\":true,\"ticks\":\"\",\"zerolinecolor\":\"white\"}},\"shapedefaults\":{\"line\":{\"color\":\"#2a3f5f\"}},\"ternary\":{\"aaxis\":{\"gridcolor\":\"white\",\"linecolor\":\"white\",\"ticks\":\"\"},\"baxis\":{\"gridcolor\":\"white\",\"linecolor\":\"white\",\"ticks\":\"\"},\"bgcolor\":\"#E5ECF6\",\"caxis\":{\"gridcolor\":\"white\",\"linecolor\":\"white\",\"ticks\":\"\"}},\"title\":{\"x\":0.05},\"xaxis\":{\"automargin\":true,\"gridcolor\":\"white\",\"linecolor\":\"white\",\"ticks\":\"\",\"title\":{\"standoff\":15},\"zerolinecolor\":\"white\",\"zerolinewidth\":2},\"yaxis\":{\"automargin\":true,\"gridcolor\":\"white\",\"linecolor\":\"white\",\"ticks\":\"\",\"title\":{\"standoff\":15},\"zerolinecolor\":\"white\",\"zerolinewidth\":2}}},\"title\":{\"text\":\"Clientes\"},\"transition\":{\"duration\":500},\"width\":800,\"xaxis\":{\"anchor\":\"y\",\"domain\":[0.0,1.0],\"showspikes\":true,\"spikecolor\":\"#999999\",\"spikemode\":\"across\",\"spikethickness\":2},\"xaxis2\":{\"anchor\":\"y2\",\"domain\":[0.0,1.0],\"showspikes\":true,\"spikecolor\":\"#999999\",\"spikemode\":\"across\",\"spikethickness\":2},\"yaxis\":{\"anchor\":\"x\",\"domain\":[0.575,1.0],\"tickprefix\":\"\"},\"yaxis2\":{\"anchor\":\"x2\",\"domain\":[0.0,0.425],\"tickprefix\":\"\"}},                        {\"responsive\": true}                    ).then(function(){\n",
       "                            \n",
       "var gd = document.getElementById('fce63346-644e-4ef0-b3cc-7f3d0eba5d56');\n",
       "var x = new MutationObserver(function (mutations, observer) {{\n",
       "        var display = window.getComputedStyle(gd).display;\n",
       "        if (!display || display === 'none') {{\n",
       "            console.log([gd, 'removed!']);\n",
       "            Plotly.purge(gd);\n",
       "            observer.disconnect();\n",
       "        }}\n",
       "}});\n",
       "\n",
       "// Listen for the removal of the full notebook cells\n",
       "var notebookContainer = gd.closest('#notebook-container');\n",
       "if (notebookContainer) {{\n",
       "    x.observe(notebookContainer, {childList: true});\n",
       "}}\n",
       "\n",
       "// Listen for the clearing of the current output cell\n",
       "var outputEl = gd.closest('.output');\n",
       "if (outputEl) {{\n",
       "    x.observe(outputEl, {childList: true});\n",
       "}}\n",
       "\n",
       "                        })                };                });            </script>        </div>"
      ]
     },
     "metadata": {},
     "output_type": "display_data"
    }
   ],
   "source": [
    "def plot_num_clientes(df):\n",
    "    \"\"\"\n",
    "    Plotear número de clientes por fecha y producto\n",
    "    \n",
    "    Args:\n",
    "    \n",
    "    df {[dataframe]}. DataFrame con número de clientes por fecha y producto\n",
    "    \"\"\"\n",
    "    \n",
    "    fig = make_subplots(rows=2, cols=1)\n",
    "\n",
    "\n",
    "    fig.add_trace(\n",
    "        go.Scatter(x=df.index, y=df['num_clientes'], name='num_clientes'),\n",
    "        row=1, col=1\n",
    "    )\n",
    "\n",
    "\n",
    "    columns_products = [ \n",
    "        'em_account','short_term_deposit', 'loans', 'mortgage', 'funds', \n",
    "        'securities', 'long_term_deposit', 'em_account_pp',\n",
    "        'credit_card', 'payroll', 'pension_plan', 'payroll_account', \n",
    "        'emc_account', 'debit_card','em_account_p'\n",
    "    ]\n",
    "\n",
    "    for col_name in columns_products:\n",
    "        fig.add_trace(\n",
    "            go.Scatter(x=df.index, y=df[col_name], name=col_name),\n",
    "            row=2, col=1\n",
    "        )\n",
    "\n",
    "    fig.update_layout(height=800, width=800, title_text=\"Clientes\")\n",
    "    fig.update_traces(hovertemplate=\"%{y:.2f}\")\n",
    "\n",
    "    fig.update_yaxes(tickprefix=\"\")\n",
    "\n",
    "    fig.update_xaxes(\n",
    "        showspikes=True, spikethickness=2, spikecolor=\"#999999\", spikemode=\"across\"\n",
    "    )\n",
    "\n",
    "    fig.update_layout(\n",
    "        hovermode=\"x unified\",\n",
    "        hoverdistance=200,\n",
    "        spikedistance=200,\n",
    "        transition_duration=500,\n",
    "    )\n",
    "\n",
    "    fig.show()\n",
    "    \n",
    "plot_num_clientes(df_sum_clientes)"
   ]
  },
  {
   "cell_type": "markdown",
   "id": "31c0f05b",
   "metadata": {},
   "source": [
    "### Valoración de clientes\n",
    "\n",
    "Criterios de puntuación (KPIs):\n",
    "\n",
    "- Número de productos contratados por clientes.\n",
    "- Cantidad de meses que permanece como cliente.\n",
    "- Cantidad de meses que permanece como cliente ACTIVO.\n",
    "- a\n",
    "- a\n",
    "- a\n",
    "- a\n",
    "- a\n",
    "- a\n",
    "- a\n",
    "- a"
   ]
  },
  {
   "cell_type": "code",
   "execution_count": null,
   "id": "240c8ebe",
   "metadata": {},
   "outputs": [],
   "source": []
  },
  {
   "cell_type": "code",
   "execution_count": null,
   "id": "3b3ca1f4",
   "metadata": {},
   "outputs": [],
   "source": []
  },
  {
   "cell_type": "code",
   "execution_count": null,
   "id": "fddce863",
   "metadata": {},
   "outputs": [],
   "source": []
  },
  {
   "cell_type": "markdown",
   "id": "4294e524",
   "metadata": {},
   "source": [
    "### Seguimiento clientes"
   ]
  },
  {
   "cell_type": "code",
   "execution_count": 32,
   "id": "7760854c",
   "metadata": {
    "ExecuteTime": {
     "end_time": "2021-08-17T17:01:47.953091Z",
     "start_time": "2021-08-17T17:01:47.945253Z"
    }
   },
   "outputs": [],
   "source": [
    "def calcular_seguimiento(df_seguimiento):\n",
    "    \"\"\"\n",
    "    Calcular seguimiento de la cartera de clientes de EasyMoney obteniendo\n",
    "    la diferencia del estado de los clientes (activos/no activos) respecto\n",
    "    al mes anterior. \n",
    "    \n",
    "    - Los valores negativos significan un paso de 1 a 0\n",
    "    - Los valores positivos significan un paso de 0 a 1\n",
    "    - Los valores igual a 0 significan una permanencia 0 a 0 ó 1 a 1.\n",
    "    \n",
    "    \n",
    "    Args:\n",
    "    -------\n",
    "    df_seguimiento {[dataframe]} -- DataFrame de seguimiento utilizado para \n",
    "                                    obtener los resultados cuyas filas son\n",
    "                                    las fechas de ingesta de datos (17) sus\n",
    "                                    columnas los pk_cid de los clientes\n",
    "                                    y sus valores 1 o 0 (cliente activo dicho\n",
    "                                    mes o no activo).\n",
    "    \"\"\"\n",
    "    df_result = pd.DataFrame(index=df_seguimiento.index, columns=df_seguimiento.columns.to_list())\n",
    "\n",
    "    for pk_cid in df_seguimiento.columns.to_list():\n",
    "        # Obtener series\n",
    "        df_cliente = pd.DataFrame(df_seguimiento[pk_cid].copy())\n",
    "\n",
    "        df_result[pk_cid] = df_cliente[pk_cid] - df_cliente[pk_cid].shift(1)\n",
    "    \n",
    "    return df_result.T"
   ]
  },
  {
   "cell_type": "code",
   "execution_count": null,
   "id": "f7cd31c2",
   "metadata": {
    "ExecuteTime": {
     "start_time": "2021-08-17T17:01:48.330Z"
    }
   },
   "outputs": [],
   "source": [
    "df_seguimiento = calcular_seguimiento(df_seguimiento = df_clientes.T.copy())"
   ]
  },
  {
   "cell_type": "code",
   "execution_count": null,
   "id": "ffba7422",
   "metadata": {
    "ExecuteTime": {
     "start_time": "2021-08-17T17:01:48.786Z"
    }
   },
   "outputs": [],
   "source": [
    "df_seguimiento"
   ]
  }
 ],
 "metadata": {
  "kernelspec": {
   "display_name": "Python 3.8.10 64-bit ('EasyMoney': conda)",
   "language": "python",
   "name": "python3810jvsc74a57bd06130c094b9447fe37a227cbecba7582730e90d97172bf6ed09ef57c45a8e903c"
  },
  "language_info": {
   "codemirror_mode": {
    "name": "ipython",
    "version": 3
   },
   "file_extension": ".py",
   "mimetype": "text/x-python",
   "name": "python",
   "nbconvert_exporter": "python",
   "pygments_lexer": "ipython3",
   "version": "3.8.10"
  },
  "nbTranslate": {
   "displayLangs": [
    "*"
   ],
   "hotkey": "alt-t",
   "langInMainMenu": true,
   "sourceLang": "en",
   "targetLang": "fr",
   "useGoogleTranslate": true
  },
  "toc": {
   "base_numbering": 1,
   "nav_menu": {},
   "number_sections": true,
   "sideBar": true,
   "skip_h1_title": true,
   "title_cell": "Table of Contents",
   "title_sidebar": "Contents",
   "toc_cell": true,
   "toc_position": {},
   "toc_section_display": true,
   "toc_window_display": true
  },
  "varInspector": {
   "cols": {
    "lenName": 16,
    "lenType": 16,
    "lenVar": 40
   },
   "kernels_config": {
    "python": {
     "delete_cmd_postfix": "",
     "delete_cmd_prefix": "del ",
     "library": "var_list.py",
     "varRefreshCmd": "print(var_dic_list())"
    },
    "r": {
     "delete_cmd_postfix": ") ",
     "delete_cmd_prefix": "rm(",
     "library": "var_list.r",
     "varRefreshCmd": "cat(var_dic_list()) "
    }
   },
   "types_to_exclude": [
    "module",
    "function",
    "builtin_function_or_method",
    "instance",
    "_Feature"
   ],
   "window_display": false
  }
 },
 "nbformat": 4,
 "nbformat_minor": 5
}
