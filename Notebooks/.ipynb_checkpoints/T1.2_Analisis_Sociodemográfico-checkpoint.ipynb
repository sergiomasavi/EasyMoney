{
 "cells": [
  {
   "cell_type": "markdown",
   "id": "37b5c066",
   "metadata": {
    "toc": true
   },
   "source": [
    "<h1>Table of Contents<span class=\"tocSkip\"></span></h1>\n",
    "<div class=\"toc\"><ul class=\"toc-item\"><li><span><a href=\"#EasyMoney---Data\" data-toc-modified-id=\"EasyMoney---Data-1\"><span class=\"toc-item-num\">1&nbsp;&nbsp;</span>EasyMoney - Data</a></span></li><li><span><a href=\"#Librerías\" data-toc-modified-id=\"Librerías-2\"><span class=\"toc-item-num\">2&nbsp;&nbsp;</span>Librerías</a></span></li><li><span><a href=\"#Cargar-datos\" data-toc-modified-id=\"Cargar-datos-3\"><span class=\"toc-item-num\">3&nbsp;&nbsp;</span>Cargar datos</a></span></li><li><span><a href=\"#Análisis\" data-toc-modified-id=\"Análisis-4\"><span class=\"toc-item-num\">4&nbsp;&nbsp;</span>Análisis</a></span><ul class=\"toc-item\"><li><span><a href=\"#Valores-nulos\" data-toc-modified-id=\"Valores-nulos-4.1\"><span class=\"toc-item-num\">4.1&nbsp;&nbsp;</span>Valores nulos</a></span></li></ul></li></ul></div>"
   ]
  },
  {
   "cell_type": "markdown",
   "id": "3d11e6d7",
   "metadata": {},
   "source": [
    "<center><span style=\"background-color: rgb(251, 160, 38); font-size: 32px;\">  <b>NUCLIO DIGITAL SCHOOL -</b> MASTER EN DATA SCIENCE  </span></center>\n",
    "    \n",
    "<br>\n",
    "    \n",
    "<center><a href = https://nuclio.school/wp-content/uploads/2019/10/nucleoDS-newBlack.png > <img src=\"https://nuclio.school/wp-content/uploads/2019/10/nucleoDS-newBlack.png\" width=400 height=100><a/></center>\n",
    "    \n",
    "<hr style=\"height:5px;border-width:0;color:orange;background-color:orange\">\n",
    "<center> <span style=\"font-size: 26px;\">  <b>Proyecto Final de Máster - EasyMoney </span> </center>\n",
    "\n",
    "+ Sesion: **Análisis de datos**\n",
    "+ Bloque: **Trabajo Fin de Máster**\n",
    "+ Curso: **Data Science Madrid 0521**\n",
    "+ Alumno 1: **Sergio Masa Avís**\n",
    "+ Alumno 2: **María Andreu**\n",
    "\n",
    "<br>\n",
    "\n",
    "<hr style=\"height:5px;border-width:0;color:orange;background-color:orange\">"
   ]
  },
  {
   "cell_type": "markdown",
   "id": "01dc0bdc",
   "metadata": {},
   "source": [
    "## EasyMoney - Data\n",
    "\n",
    "\n",
    "En el directorio data/ se encuentran tres fuentes de información almacenadas en formato csv:\n",
    "- products_df\n",
    "- sociodemographic_df\n",
    "- commercial_activity\n",
    "\n",
    "A continuación, se muestra la descripción proporcionada de los datos proporcionada por el Director de IT de EasyMoney\n",
    "\n",
    "<img src=\"img/data_description.png\" width=\"800\" height=\"400\">"
   ]
  },
  {
   "cell_type": "markdown",
   "id": "e4352594",
   "metadata": {},
   "source": [
    "<hr style=\"height:5px;border-width:0;color:orange;background-color:orange\">"
   ]
  },
  {
   "cell_type": "markdown",
   "id": "892624f0",
   "metadata": {},
   "source": [
    "## Librerías"
   ]
  },
  {
   "cell_type": "code",
   "execution_count": 2,
   "id": "56652c09",
   "metadata": {
    "ExecuteTime": {
     "end_time": "2021-08-17T10:59:46.914033Z",
     "start_time": "2021-08-17T10:59:45.858378Z"
    }
   },
   "outputs": [
    {
     "data": {
      "text/html": [
       "        <script type=\"text/javascript\">\n",
       "        window.PlotlyConfig = {MathJaxConfig: 'local'};\n",
       "        if (window.MathJax) {MathJax.Hub.Config({SVG: {font: \"STIX-Web\"}});}\n",
       "        if (typeof require !== 'undefined') {\n",
       "        require.undef(\"plotly\");\n",
       "        requirejs.config({\n",
       "            paths: {\n",
       "                'plotly': ['https://cdn.plot.ly/plotly-latest.min']\n",
       "            }\n",
       "        });\n",
       "        require(['plotly'], function(Plotly) {\n",
       "            window._Plotly = Plotly;\n",
       "        });\n",
       "        }\n",
       "        </script>\n",
       "        "
      ]
     },
     "metadata": {},
     "output_type": "display_data"
    }
   ],
   "source": [
    "import numpy as np \n",
    "import pandas as pd\n",
    "\n",
    "# Visualización\n",
    "import matplotlib.pyplot as plt\n",
    "import matplotlib.dates as mdates\n",
    "import seaborn as sns\n",
    "import plotly.express as px\n",
    "from plotly.offline import init_notebook_mode, iplot\n",
    "import warnings\n",
    "from IPython.display import Image\n",
    "\n",
    "# Parámetros de visualización\n",
    "init_notebook_mode(connected=True)  \n",
    "warnings.filterwarnings(\"ignore\")\n",
    "pd.options.display.float_format = '{:,.3f}'.format"
   ]
  },
  {
   "cell_type": "markdown",
   "id": "26e1afaf",
   "metadata": {},
   "source": [
    "<hr style=\"height:5px;border-width:0;color:orange;background-color:orange\">"
   ]
  },
  {
   "cell_type": "markdown",
   "id": "bb112b57",
   "metadata": {},
   "source": [
    "## Cargar datos\n",
    "\n",
    "__Descripción de variables del dataset.__\n",
    "\n",
    "\n",
    "| Variable | Descripción |\n",
    "| --- | --- |\n",
    "| pk_cid | Identificador de cliente |\n",
    "| pk_partition | Fecha de ingesta de los datos |\n",
    "| country_id | País de residencia del cliente |\n",
    "| region_code | Provincia de residencia del cliente |\n",
    "| gender | Sexo del cliente |\n",
    "| age | Edad del cliente |\n",
    "| deceased | ¿Cliente fallecido (N/S)? |\n",
    "| salary | Ingresos brutos de la unidad familiar |"
   ]
  },
  {
   "cell_type": "code",
   "execution_count": 12,
   "id": "bc93f525",
   "metadata": {
    "ExecuteTime": {
     "end_time": "2021-08-17T11:02:32.046292Z",
     "start_time": "2021-08-17T11:02:24.376377Z"
    }
   },
   "outputs": [],
   "source": [
    "df_sociodemographic = pd.read_csv('data/sociodemographic_df.csv', sep=',', encoding='utf-8-sig')\n",
    "df_sociodemographic.drop('Unnamed: 0', axis=1, inplace=True)\n",
    "\n",
    "# Añadir formato adeacuado a las columnas\n",
    "df_sociodemographic['pk_partition'] = pd.to_datetime(df_sociodemographic['pk_partition'], format='%Y-%m-%d')\n",
    "df_sociodemographic['pk_cid'] = df_sociodemographic['pk_cid'].apply(str)\n",
    "df_sociodemographic['region_code'] = df_sociodemographic.region_code.apply(str)"
   ]
  },
  {
   "cell_type": "code",
   "execution_count": 7,
   "id": "68af7f76",
   "metadata": {
    "ExecuteTime": {
     "end_time": "2021-08-17T11:00:57.289539Z",
     "start_time": "2021-08-17T11:00:57.287554Z"
    }
   },
   "outputs": [
    {
     "name": "stdout",
     "output_type": "stream",
     "text": [
      "Tamaño del dataset:\n",
      "\n",
      "Samples: 5962924\n",
      "Features: 8\n"
     ]
    }
   ],
   "source": [
    "print('Tamaño del dataset:',end=2*'\\n')\n",
    "print(f'Samples: {df_sociodemographic.shape[0]}')\n",
    "print(f'Features: {df_sociodemographic.shape[1]}')"
   ]
  },
  {
   "cell_type": "code",
   "execution_count": 8,
   "id": "f9c0ca99",
   "metadata": {
    "ExecuteTime": {
     "end_time": "2021-08-17T11:01:06.505201Z",
     "start_time": "2021-08-17T11:01:06.501331Z"
    }
   },
   "outputs": [
    {
     "data": {
      "text/plain": [
       "['age',\n",
       " 'country_id',\n",
       " 'deceased',\n",
       " 'gender',\n",
       " 'pk_cid',\n",
       " 'pk_partition',\n",
       " 'region_code',\n",
       " 'salary']"
      ]
     },
     "execution_count": 8,
     "metadata": {},
     "output_type": "execute_result"
    }
   ],
   "source": [
    "sorted(df_sociodemographic.columns.to_list())"
   ]
  },
  {
   "cell_type": "code",
   "execution_count": 10,
   "id": "f1e09d7b",
   "metadata": {
    "ExecuteTime": {
     "end_time": "2021-08-17T11:01:19.947172Z",
     "start_time": "2021-08-17T11:01:19.940735Z"
    }
   },
   "outputs": [
    {
     "name": "stdout",
     "output_type": "stream",
     "text": [
      "<class 'pandas.core.frame.DataFrame'>\n",
      "RangeIndex: 5962924 entries, 0 to 5962923\n",
      "Data columns (total 8 columns):\n",
      " #   Column        Dtype         \n",
      "---  ------        -----         \n",
      " 0   pk_cid        object        \n",
      " 1   pk_partition  datetime64[ns]\n",
      " 2   country_id    object        \n",
      " 3   region_code   float64       \n",
      " 4   gender        object        \n",
      " 5   age           int64         \n",
      " 6   deceased      object        \n",
      " 7   salary        float64       \n",
      "dtypes: datetime64[ns](1), float64(2), int64(1), object(4)\n",
      "memory usage: 363.9+ MB\n"
     ]
    }
   ],
   "source": [
    "df_sociodemographic.info()"
   ]
  },
  {
   "cell_type": "code",
   "execution_count": 11,
   "id": "fb7f5bda",
   "metadata": {
    "ExecuteTime": {
     "end_time": "2021-08-17T11:01:32.646243Z",
     "start_time": "2021-08-17T11:01:31.930067Z"
    }
   },
   "outputs": [
    {
     "data": {
      "text/html": [
       "<div>\n",
       "<style scoped>\n",
       "    .dataframe tbody tr th:only-of-type {\n",
       "        vertical-align: middle;\n",
       "    }\n",
       "\n",
       "    .dataframe tbody tr th {\n",
       "        vertical-align: top;\n",
       "    }\n",
       "\n",
       "    .dataframe thead th {\n",
       "        text-align: right;\n",
       "    }\n",
       "</style>\n",
       "<table border=\"1\" class=\"dataframe\">\n",
       "  <thead>\n",
       "    <tr style=\"text-align: right;\">\n",
       "      <th></th>\n",
       "      <th>pk_cid</th>\n",
       "      <th>pk_partition</th>\n",
       "      <th>country_id</th>\n",
       "      <th>region_code</th>\n",
       "      <th>gender</th>\n",
       "      <th>age</th>\n",
       "      <th>deceased</th>\n",
       "      <th>salary</th>\n",
       "    </tr>\n",
       "  </thead>\n",
       "  <tbody>\n",
       "    <tr>\n",
       "      <th>1455076</th>\n",
       "      <td>1209562</td>\n",
       "      <td>2018-06-28</td>\n",
       "      <td>ES</td>\n",
       "      <td>34.000</td>\n",
       "      <td>H</td>\n",
       "      <td>31</td>\n",
       "      <td>N</td>\n",
       "      <td>52,274.820</td>\n",
       "    </tr>\n",
       "    <tr>\n",
       "      <th>4528315</th>\n",
       "      <td>1024601</td>\n",
       "      <td>2019-02-28</td>\n",
       "      <td>ES</td>\n",
       "      <td>30.000</td>\n",
       "      <td>H</td>\n",
       "      <td>24</td>\n",
       "      <td>N</td>\n",
       "      <td>64,261.230</td>\n",
       "    </tr>\n",
       "    <tr>\n",
       "      <th>2710433</th>\n",
       "      <td>1047861</td>\n",
       "      <td>2018-10-28</td>\n",
       "      <td>ES</td>\n",
       "      <td>8.000</td>\n",
       "      <td>H</td>\n",
       "      <td>24</td>\n",
       "      <td>N</td>\n",
       "      <td>57,823.830</td>\n",
       "    </tr>\n",
       "    <tr>\n",
       "      <th>2087734</th>\n",
       "      <td>1203381</td>\n",
       "      <td>2018-08-28</td>\n",
       "      <td>ES</td>\n",
       "      <td>46.000</td>\n",
       "      <td>H</td>\n",
       "      <td>22</td>\n",
       "      <td>N</td>\n",
       "      <td>62,535.330</td>\n",
       "    </tr>\n",
       "    <tr>\n",
       "      <th>4870668</th>\n",
       "      <td>1337795</td>\n",
       "      <td>2019-03-28</td>\n",
       "      <td>ES</td>\n",
       "      <td>30.000</td>\n",
       "      <td>V</td>\n",
       "      <td>22</td>\n",
       "      <td>N</td>\n",
       "      <td>64,560.900</td>\n",
       "    </tr>\n",
       "    <tr>\n",
       "      <th>361650</th>\n",
       "      <td>1277934</td>\n",
       "      <td>2018-02-28</td>\n",
       "      <td>ES</td>\n",
       "      <td>16.000</td>\n",
       "      <td>H</td>\n",
       "      <td>21</td>\n",
       "      <td>N</td>\n",
       "      <td>111,001.500</td>\n",
       "    </tr>\n",
       "    <tr>\n",
       "      <th>4757786</th>\n",
       "      <td>1488226</td>\n",
       "      <td>2019-03-28</td>\n",
       "      <td>ES</td>\n",
       "      <td>10.000</td>\n",
       "      <td>V</td>\n",
       "      <td>23</td>\n",
       "      <td>N</td>\n",
       "      <td>NaN</td>\n",
       "    </tr>\n",
       "    <tr>\n",
       "      <th>3189480</th>\n",
       "      <td>1385524</td>\n",
       "      <td>2018-11-28</td>\n",
       "      <td>ES</td>\n",
       "      <td>29.000</td>\n",
       "      <td>V</td>\n",
       "      <td>20</td>\n",
       "      <td>N</td>\n",
       "      <td>68,482.890</td>\n",
       "    </tr>\n",
       "    <tr>\n",
       "      <th>2495639</th>\n",
       "      <td>1444010</td>\n",
       "      <td>2018-09-28</td>\n",
       "      <td>ES</td>\n",
       "      <td>28.000</td>\n",
       "      <td>H</td>\n",
       "      <td>91</td>\n",
       "      <td>N</td>\n",
       "      <td>169,157.700</td>\n",
       "    </tr>\n",
       "    <tr>\n",
       "      <th>1886798</th>\n",
       "      <td>1251852</td>\n",
       "      <td>2018-08-28</td>\n",
       "      <td>ES</td>\n",
       "      <td>30.000</td>\n",
       "      <td>V</td>\n",
       "      <td>45</td>\n",
       "      <td>N</td>\n",
       "      <td>69,002.040</td>\n",
       "    </tr>\n",
       "  </tbody>\n",
       "</table>\n",
       "</div>"
      ],
      "text/plain": [
       "          pk_cid pk_partition country_id  region_code gender  age deceased  \\\n",
       "1455076  1209562   2018-06-28         ES       34.000      H   31        N   \n",
       "4528315  1024601   2019-02-28         ES       30.000      H   24        N   \n",
       "2710433  1047861   2018-10-28         ES        8.000      H   24        N   \n",
       "2087734  1203381   2018-08-28         ES       46.000      H   22        N   \n",
       "4870668  1337795   2019-03-28         ES       30.000      V   22        N   \n",
       "361650   1277934   2018-02-28         ES       16.000      H   21        N   \n",
       "4757786  1488226   2019-03-28         ES       10.000      V   23        N   \n",
       "3189480  1385524   2018-11-28         ES       29.000      V   20        N   \n",
       "2495639  1444010   2018-09-28         ES       28.000      H   91        N   \n",
       "1886798  1251852   2018-08-28         ES       30.000      V   45        N   \n",
       "\n",
       "             salary  \n",
       "1455076  52,274.820  \n",
       "4528315  64,261.230  \n",
       "2710433  57,823.830  \n",
       "2087734  62,535.330  \n",
       "4870668  64,560.900  \n",
       "361650  111,001.500  \n",
       "4757786         NaN  \n",
       "3189480  68,482.890  \n",
       "2495639 169,157.700  \n",
       "1886798  69,002.040  "
      ]
     },
     "execution_count": 11,
     "metadata": {},
     "output_type": "execute_result"
    }
   ],
   "source": [
    "df_sociodemographic.sample(10)"
   ]
  },
  {
   "cell_type": "markdown",
   "id": "b82a37e5",
   "metadata": {},
   "source": [
    "<hr style=\"height:5px;border-width:0;color:orange;background-color:orange\">"
   ]
  },
  {
   "cell_type": "markdown",
   "id": "47117c41",
   "metadata": {},
   "source": [
    "## Análisis"
   ]
  },
  {
   "cell_type": "markdown",
   "id": "a6fe8b38",
   "metadata": {},
   "source": [
    "### Valores nulos"
   ]
  },
  {
   "cell_type": "code",
   "execution_count": 13,
   "id": "635f1f27",
   "metadata": {
    "ExecuteTime": {
     "end_time": "2021-08-17T11:02:57.492507Z",
     "start_time": "2021-08-17T11:02:56.331184Z"
    }
   },
   "outputs": [
    {
     "name": "stdout",
     "output_type": "stream",
     "text": [
      "Valores nulos:\n",
      "\n",
      "pk_cid          False\n",
      "pk_partition    False\n",
      "country_id      False\n",
      "region_code     False\n",
      "gender           True\n",
      "age             False\n",
      "deceased        False\n",
      "salary           True\n",
      "dtype: bool\n"
     ]
    }
   ],
   "source": [
    "print('Valores nulos:', df_sociodemographic.isna().any(), sep=2*'\\n')"
   ]
  },
  {
   "cell_type": "code",
   "execution_count": 15,
   "id": "7c3fa9df",
   "metadata": {
    "ExecuteTime": {
     "end_time": "2021-08-17T11:05:16.291615Z",
     "start_time": "2021-08-17T11:05:15.234326Z"
    }
   },
   "outputs": [
    {
     "name": "stdout",
     "output_type": "stream",
     "text": [
      "NaN Cumulative sum on dataset:\n",
      "pk_cid --> 0.000000%\n",
      "pk_partition --> 0.000000%\n",
      "country_id --> 0.000000%\n",
      "region_code --> 0.000000%\n",
      "gender --> 0.000419%\n",
      "age --> 0.000000%\n",
      "deceased --> 0.000000%\n",
      "salary --> 25.358415%\n"
     ]
    }
   ],
   "source": [
    "def print_sum_nan(df):\n",
    "    n_samples = df.shape[0]\n",
    "    print('NaN Cumulative sum on dataset:', sep=2*'\\n')\n",
    "    for col_name in df.columns:\n",
    "        nan_values = (df[col_name].isna().sum()/n_samples)*100\n",
    "        print('{} --> {:.6f}%'.format(col_name, nan_values))\n",
    "        \n",
    "print_sum_nan(df_sociodemographic)"
   ]
  },
  {
   "cell_type": "code",
   "execution_count": null,
   "id": "4b55dcf2",
   "metadata": {},
   "outputs": [],
   "source": []
  }
 ],
 "metadata": {
  "kernelspec": {
   "display_name": "Python 3",
   "language": "python",
   "name": "python3"
  },
  "language_info": {
   "codemirror_mode": {
    "name": "ipython",
    "version": 3
   },
   "file_extension": ".py",
   "mimetype": "text/x-python",
   "name": "python",
   "nbconvert_exporter": "python",
   "pygments_lexer": "ipython3",
   "version": "3.8.10"
  },
  "nbTranslate": {
   "displayLangs": [
    "*"
   ],
   "hotkey": "alt-t",
   "langInMainMenu": true,
   "sourceLang": "en",
   "targetLang": "fr",
   "useGoogleTranslate": true
  },
  "toc": {
   "base_numbering": 1,
   "nav_menu": {},
   "number_sections": true,
   "sideBar": true,
   "skip_h1_title": true,
   "title_cell": "Table of Contents",
   "title_sidebar": "Contents",
   "toc_cell": true,
   "toc_position": {},
   "toc_section_display": true,
   "toc_window_display": false
  },
  "varInspector": {
   "cols": {
    "lenName": 16,
    "lenType": 16,
    "lenVar": 40
   },
   "kernels_config": {
    "python": {
     "delete_cmd_postfix": "",
     "delete_cmd_prefix": "del ",
     "library": "var_list.py",
     "varRefreshCmd": "print(var_dic_list())"
    },
    "r": {
     "delete_cmd_postfix": ") ",
     "delete_cmd_prefix": "rm(",
     "library": "var_list.r",
     "varRefreshCmd": "cat(var_dic_list()) "
    }
   },
   "types_to_exclude": [
    "module",
    "function",
    "builtin_function_or_method",
    "instance",
    "_Feature"
   ],
   "window_display": false
  }
 },
 "nbformat": 4,
 "nbformat_minor": 5
}
